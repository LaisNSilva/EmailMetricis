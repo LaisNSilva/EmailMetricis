{
 "cells": [
  {
   "cell_type": "code",
   "execution_count": 2,
   "metadata": {
    "scrolled": true
   },
   "outputs": [
    {
     "name": "stderr",
     "output_type": "stream",
     "text": [
      "dataset_preparation.ipynb:3: SettingWithCopyWarning: \n",
      "A value is trying to be set on a copy of a slice from a DataFrame\n",
      "\n",
      "See the caveats in the documentation: https://pandas.pydata.org/pandas-docs/stable/user_guide/indexing.html#returning-a-view-versus-a-copy\n",
      "  {\n"
     ]
    }
   ],
   "source": [
    "%run dataset_preparation.ipynb"
   ]
  },
  {
   "cell_type": "code",
   "execution_count": 3,
   "metadata": {},
   "outputs": [],
   "source": [
    "from sklearn.model_selection import train_test_split\n",
    "from sklearn import svm\n",
    "from sklearn.metrics import f1_score, recall_score\n",
    "from sklearn.feature_extraction.text import CountVectorizer\n",
    "from sklearn.feature_extraction.text import TfidfTransformer\n",
    "from sklearn.metrics import confusion_matrix\n",
    "from sklearn.metrics import precision_score"
   ]
  },
  {
   "cell_type": "code",
   "execution_count": 4,
   "metadata": {},
   "outputs": [],
   "source": [
    "X = result.loc[:, \"Link 1\"]\n",
    "y = result.loc[:, \"Relevância\"]"
   ]
  },
  {
   "cell_type": "code",
   "execution_count": 5,
   "metadata": {},
   "outputs": [],
   "source": [
    "count_vect = CountVectorizer()\n",
    "X_train_counts = count_vect.fit_transform(X)\n",
    "\n",
    "tfidf_transformer = TfidfTransformer()\n",
    "X_train_tfidf = tfidf_transformer.fit_transform(X_train_counts)"
   ]
  },
  {
   "cell_type": "code",
   "execution_count": 6,
   "metadata": {},
   "outputs": [],
   "source": [
    "X_train, X_test, y_train, y_test = train_test_split(X_train_tfidf, y, test_size=0.33, random_state=42)\n",
    "\n",
    "#Aplicando o modelo SVM (Support Vector Machine)\n",
    "\n",
    "kernels = ['linear', 'poly', 'rbf', 'sigmoid', 'precomputed']\n",
    "\n",
    "model = svm.SVC(kernel = 'linear') #Kernel\n",
    "\n",
    "#Dando fit no modelo SVM usando o dataset de treino\n",
    "model.fit(X_train, y_train)\n",
    "\n",
    "predict = model.predict(X_test)\n",
    "#Testando o score do modelo"
   ]
  },
  {
   "cell_type": "code",
   "execution_count": 7,
   "metadata": {},
   "outputs": [
    {
     "name": "stdout",
     "output_type": "stream",
     "text": [
      "O modelo SVM acertou 78.49%\n",
      "O modelo SVM acertou 82.02%\n",
      "The model accuracy is: 75.26%\n"
     ]
    }
   ],
   "source": [
    "#Resultados\n",
    "from sklearn.metrics import precision_score\n",
    "\n",
    "f1_score = f1_score(y_test, predict) * 100\n",
    "recall_score = recall_score(y_test, predict) * 100\n",
    "precisao_score = precision_score(y_test, predict)\n",
    "\n",
    "print(\"O modelo SVM acertou {0}%\".format(\"%.2f\" % f1_score))\n",
    "print(\"O modelo SVM acertou {0}%\".format(\"%.2f\" % recall_score))\n",
    "print(\"The model accuracy is: {0}%\".format(\"%.2f\" % (precisao_score*100)))"
   ]
  },
  {
   "cell_type": "code",
   "execution_count": 8,
   "metadata": {},
   "outputs": [
    {
     "name": "stdout",
     "output_type": "stream",
     "text": [
      "Verdadeiro negativo: 78\n",
      "Falso positivo: 24\n",
      "Falso negativo: 16\n",
      "Verdadeiro positivo: 73\n"
     ]
    }
   ],
   "source": [
    "matrix = confusion_matrix(y_test, predict)\n",
    "print(\"Verdadeiro negativo: {0}\".format(matrix[0][0]))\n",
    "print(\"Falso positivo: {0}\".format(matrix[0][1]))\n",
    "print(\"Falso negativo: {0}\".format(matrix[1][0]))\n",
    "print(\"Verdadeiro positivo: {0}\".format(matrix[1][1]))"
   ]
  },
  {
   "cell_type": "code",
   "execution_count": 12,
   "metadata": {},
   "outputs": [
    {
     "name": "stdout",
     "output_type": "stream",
     "text": [
      "  (0, 1185)\t0.1840355841547025\n",
      "  (0, 995)\t0.41395202449418966\n",
      "  (0, 950)\t0.24199078171873722\n",
      "  (0, 650)\t0.3124724576428525\n",
      "  (0, 599)\t0.1840355841547025\n",
      "  (0, 579)\t0.1732776328477232\n",
      "  (0, 467)\t0.2930833394489994\n",
      "  (0, 456)\t0.23705354528681635\n",
      "  (0, 357)\t0.3124724576428525\n",
      "  (0, 256)\t0.17702846654446416\n",
      "  (0, 211)\t0.27999130005571593\n",
      "  (0, 128)\t0.22850988330009003\n",
      "  (0, 82)\t0.2934721984743631\n",
      "  (0, 1)\t0.2045723876996798\n",
      "  (0, 0)\t0.21218809055177187\n",
      "  (1, 1562)\t0.1086521306493538\n",
      "  (1, 1068)\t0.28797913034268047\n",
      "  (1, 950)\t0.27461475965474663\n",
      "  (1, 938)\t0.21239284084698712\n",
      "  (1, 766)\t0.2550599322365587\n",
      "  (1, 632)\t0.3545984200094666\n",
      "  (1, 579)\t0.19663805025981484\n",
      "  (1, 479)\t0.22708341215364294\n",
      "  (1, 414)\t0.3545984200094666\n",
      "  (1, 367)\t0.3330366416314905\n",
      "  :\t:\n",
      "  (576, 1562)\t0.1155724351472141\n",
      "  (576, 1464)\t0.37718361025157127\n",
      "  (576, 1144)\t0.17370196274723365\n",
      "  (576, 1128)\t0.337975801741711\n",
      "  (576, 1072)\t0.37718361025157127\n",
      "  (576, 849)\t0.11697610297747199\n",
      "  (576, 722)\t0.1531405662165907\n",
      "  (576, 695)\t0.29210560631426286\n",
      "  (576, 560)\t0.35424851253784717\n",
      "  (576, 402)\t0.32535370664342317\n",
      "  (576, 178)\t0.27130528689027433\n",
      "  (576, 119)\t0.17370196274723365\n",
      "  (577, 1752)\t0.3870227073980099\n",
      "  (577, 1665)\t0.3456932364927263\n",
      "  (577, 1562)\t0.12626491055901598\n",
      "  (577, 1151)\t0.22542301421417085\n",
      "  (577, 1144)\t0.18977243805815636\n",
      "  (577, 955)\t0.30672941441584667\n",
      "  (577, 858)\t0.15458747462530686\n",
      "  (577, 849)\t0.12779844225986076\n",
      "  (577, 706)\t0.2169828979497736\n",
      "  (577, 253)\t0.142843130342775\n",
      "  (577, 219)\t0.3870227073980099\n",
      "  (577, 157)\t0.32640926787831614\n",
      "  (577, 71)\t0.41207970353897483\n"
     ]
    }
   ],
   "source": [
    "print(X_train_tfidf)"
   ]
  },
  {
   "cell_type": "code",
   "execution_count": null,
   "metadata": {},
   "outputs": [],
   "source": []
  }
 ],
 "metadata": {
  "kernelspec": {
   "display_name": "Python 3",
   "language": "python",
   "name": "python3"
  },
  "language_info": {
   "codemirror_mode": {
    "name": "ipython",
    "version": 3
   },
   "file_extension": ".py",
   "mimetype": "text/x-python",
   "name": "python",
   "nbconvert_exporter": "python",
   "pygments_lexer": "ipython3",
   "version": "3.7.1"
  }
 },
 "nbformat": 4,
 "nbformat_minor": 2
}
