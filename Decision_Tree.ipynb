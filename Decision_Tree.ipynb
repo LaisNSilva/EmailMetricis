{
 "cells": [
  {
   "cell_type": "code",
   "execution_count": 1,
   "metadata": {},
   "outputs": [
    {
     "data": {
      "application/vnd.jupyter.widget-view+json": {
       "model_id": "",
       "version_major": 2,
       "version_minor": 0
      },
      "text/plain": [
       "HBox(children=(FloatProgress(value=0.0, max=242.0), HTML(value='')))"
      ]
     },
     "metadata": {},
     "output_type": "display_data"
    },
    {
     "name": "stdout",
     "output_type": "stream",
     "text": [
      "\r"
     ]
    },
    {
     "data": {
      "application/vnd.jupyter.widget-view+json": {
       "model_id": "",
       "version_major": 2,
       "version_minor": 0
      },
      "text/plain": [
       "HBox(children=(FloatProgress(value=0.0, max=289.0), HTML(value='')))"
      ]
     },
     "metadata": {},
     "output_type": "display_data"
    },
    {
     "name": "stdout",
     "output_type": "stream",
     "text": [
      "\r"
     ]
    },
    {
     "data": {
      "application/vnd.jupyter.widget-view+json": {
       "model_id": "",
       "version_major": 2,
       "version_minor": 0
      },
      "text/plain": [
       "HBox(children=(FloatProgress(value=0.0, max=41.0), HTML(value='')))"
      ]
     },
     "metadata": {},
     "output_type": "display_data"
    },
    {
     "name": "stdout",
     "output_type": "stream",
     "text": [
      "\r",
      "DATASET PRONTO PARA USO!\n"
     ]
    },
    {
     "name": "stderr",
     "output_type": "stream",
     "text": [
      "dataset_preparation.ipynb:4: SettingWithCopyWarning: \n",
      "A value is trying to be set on a copy of a slice from a DataFrame\n",
      "\n",
      "See the caveats in the documentation: https://pandas.pydata.org/pandas-docs/stable/user_guide/indexing.html#returning-a-view-versus-a-copy\n",
      "  \"cell_type\": \"markdown\",\n"
     ]
    }
   ],
   "source": [
    "%run dataset_preparation.ipynb"
   ]
  },
  {
   "cell_type": "markdown",
   "metadata": {},
   "source": [
    "## Aplicando Decision Tree"
   ]
  },
  {
   "cell_type": "code",
   "execution_count": 12,
   "metadata": {},
   "outputs": [],
   "source": [
    "import pandas as pd\n",
    "import numpy as np\n",
    "from sklearn.tree import DecisionTreeClassifier, DecisionTreeRegressor\n",
    "# from sklearn.datasets import make_regression\n",
    "from sklearn.model_selection import train_test_split\n",
    "from sklearn.model_selection import cross_val_score\n",
    "from sklearn.tree import export_graphviz\n",
    "#from sklearn.externals.six import StringIO  \n",
    "from IPython.display import Image  \n",
    "#import pydotplus\n",
    "from sklearn.feature_extraction.text import TfidfTransformer\n",
    "\n",
    "from sklearn.metrics import r2_score\n",
    "\n",
    "#pip install pydotpus\n",
    "#pip install graphviz\n",
    "\n",
    "# Seta um valor para o random seed\n",
    "RANDOM_SEED = 42\n",
    "np.random.seed(RANDOM_SEED)"
   ]
  },
  {
   "cell_type": "code",
   "execution_count": 13,
   "metadata": {},
   "outputs": [],
   "source": [
    "#X_train_DC, X_test_DC, y_train_DC, y_test_DC = train_test_split(X, y, test_size=0.1, random_state=RANDOM_SEED)\n",
    "\n",
    "\n",
    "X_DT = result.loc[:, \"Link 1\"]\n",
    "y_DT = result.loc[:, \"Relevância\"]"
   ]
  },
  {
   "cell_type": "code",
   "execution_count": 14,
   "metadata": {},
   "outputs": [],
   "source": [
    "from sklearn.feature_extraction.text import CountVectorizer\n",
    "count_vect = CountVectorizer()\n",
    "X_train_counts = count_vect.fit_transform(X_DT)\n",
    "\n",
    "tfidf_transformer = TfidfTransformer()\n",
    "X_train_tfidf = tfidf_transformer.fit_transform(X_train_counts)"
   ]
  },
  {
   "cell_type": "code",
   "execution_count": 15,
   "metadata": {},
   "outputs": [],
   "source": [
    "X_train_DT, X_test_DT, y_train_DT, y_test_DT = train_test_split(X_train_tfidf, y_DT, test_size=0.33, random_state=42)"
   ]
  },
  {
   "cell_type": "code",
   "execution_count": 16,
   "metadata": {},
   "outputs": [],
   "source": [
    "dtc = DecisionTreeClassifier()"
   ]
  },
  {
   "cell_type": "code",
   "execution_count": 17,
   "metadata": {},
   "outputs": [
    {
     "data": {
      "text/plain": [
       "DecisionTreeClassifier(ccp_alpha=0.0, class_weight=None, criterion='gini',\n",
       "                       max_depth=None, max_features=None, max_leaf_nodes=None,\n",
       "                       min_impurity_decrease=0.0, min_impurity_split=None,\n",
       "                       min_samples_leaf=1, min_samples_split=2,\n",
       "                       min_weight_fraction_leaf=0.0, presort='deprecated',\n",
       "                       random_state=None, splitter='best')"
      ]
     },
     "execution_count": 17,
     "metadata": {},
     "output_type": "execute_result"
    }
   ],
   "source": [
    "dtc.fit(X_train_DT, y_train_DT)"
   ]
  },
  {
   "cell_type": "code",
   "execution_count": 18,
   "metadata": {},
   "outputs": [],
   "source": [
    "y_pred_DT = dtc.predict(X_test_DT)"
   ]
  },
  {
   "cell_type": "code",
   "execution_count": 19,
   "metadata": {},
   "outputs": [
    {
     "name": "stdout",
     "output_type": "stream",
     "text": [
      "The model accuracy is: 0.75\n"
     ]
    }
   ],
   "source": [
    "from sklearn.metrics import precision_score\n",
    "from sklearn.metrics import accuracy_score\n",
    "\n",
    "score = precision_score(y_test_DT, y_pred_DT)\n",
    "\n",
    "print(\"The model accuracy is: {0}\".format(score))"
   ]
  },
  {
   "cell_type": "code",
   "execution_count": 20,
   "metadata": {},
   "outputs": [
    {
     "name": "stdout",
     "output_type": "stream",
     "text": [
      "0.8110599078341014\n"
     ]
    }
   ],
   "source": [
    "acc = accuracy_score(y_test_DT, y_pred_DT)\n",
    "print(acc)"
   ]
  },
  {
   "cell_type": "code",
   "execution_count": 21,
   "metadata": {},
   "outputs": [
    {
     "name": "stdout",
     "output_type": "stream",
     "text": [
      "O modelo Decision_Tree acertou 79.19%\n",
      "O modelo Decision_Tree acertou 83.87%\n",
      "The model accuracy is: 75.00%\n"
     ]
    }
   ],
   "source": [
    "#Resultados\n",
    "from sklearn.metrics import precision_score\n",
    "from sklearn.metrics import f1_score, recall_score\n",
    "\n",
    "f1_score = f1_score(y_test_DT, y_pred_DT) * 100\n",
    "recall_score = recall_score(y_test_DT, y_pred_DT) * 100\n",
    "precisao_score = precision_score(y_test_DT, y_pred_DT)\n",
    "\n",
    "print(\"O modelo Decision_Tree acertou {0}%\".format(\"%.2f\" % f1_score))\n",
    "print(\"O modelo Decision_Tree acertou {0}%\".format(\"%.2f\" % recall_score))\n",
    "print(\"The model accuracy is: {0}%\".format(\"%.2f\" % (precisao_score*100)))"
   ]
  },
  {
   "cell_type": "code",
   "execution_count": 22,
   "metadata": {},
   "outputs": [
    {
     "name": "stdout",
     "output_type": "stream",
     "text": [
      "Verdadeiro negativo: 98\n",
      "Falso positivo: 26\n",
      "Falso negativo: 15\n",
      "Verdadeiro positivo: 78\n"
     ]
    }
   ],
   "source": [
    "from sklearn.metrics import confusion_matrix\n",
    "matrix = confusion_matrix(y_test_DT, y_pred_DT)\n",
    "print(\"Verdadeiro negativo: {0}\".format(matrix[0][0]))\n",
    "print(\"Falso positivo: {0}\".format(matrix[0][1]))\n",
    "print(\"Falso negativo: {0}\".format(matrix[1][0]))\n",
    "print(\"Verdadeiro positivo: {0}\".format(matrix[1][1]))"
   ]
  },
  {
   "cell_type": "code",
   "execution_count": 23,
   "metadata": {},
   "outputs": [],
   "source": [
    "# # Código para plotar o Decision Tree\n",
    "# dot_data = StringIO()\n",
    "# export_graphviz(dtc, out_file=dot_data,  \n",
    "#                 filled=True, rounded=True,\n",
    "#                 special_characters=True,feature_names = X_DT, class_names=['0','1'])"
   ]
  },
  {
   "cell_type": "code",
   "execution_count": 24,
   "metadata": {},
   "outputs": [],
   "source": [
    "# # Plota o Decision Tree\n",
    "# graph = pydotplus.graph_from_dot_data(dot_data.getvalue())  \n",
    "# graph.write_png('grafico.png')\n",
    "# Image(graph.create_png())"
   ]
  },
  {
   "cell_type": "code",
   "execution_count": 25,
   "metadata": {},
   "outputs": [
    {
     "data": {
      "text/plain": [
       "[Text(291.0648648648649, 214.0425, 'X[812] <= 0.118\\ngini = 0.497\\nsamples = 438\\nvalue = [202, 236]'),\n",
       " Text(259.3945945945946, 207.2475, 'X[1495] <= 0.036\\ngini = 0.491\\nsamples = 313\\nvalue = [177, 136]'),\n",
       " Text(226.21621621621622, 200.4525, 'X[1168] <= 0.159\\ngini = 0.465\\nsamples = 247\\nvalue = [156, 91]'),\n",
       " Text(208.11891891891895, 193.6575, 'X[1259] <= 0.104\\ngini = 0.437\\nsamples = 226\\nvalue = [153, 73]'),\n",
       " Text(202.0864864864865, 186.8625, 'X[496] <= 0.088\\ngini = 0.421\\nsamples = 219\\nvalue = [153, 66]'),\n",
       " Text(190.02162162162165, 180.0675, 'X[339] <= 0.111\\ngini = 0.395\\nsamples = 203\\nvalue = [148, 55]'),\n",
       " Text(183.9891891891892, 173.2725, 'X[792] <= 0.115\\ngini = 0.378\\nsamples = 198\\nvalue = [148, 50]'),\n",
       " Text(177.95675675675676, 166.4775, 'X[86] <= 0.299\\ngini = 0.358\\nsamples = 193\\nvalue = [148, 45]'),\n",
       " Text(171.92432432432435, 159.6825, 'X[699] <= 0.139\\ngini = 0.34\\nsamples = 189\\nvalue = [148, 41]'),\n",
       " Text(159.8594594594595, 152.8875, 'X[700] <= 0.117\\ngini = 0.316\\nsamples = 183\\nvalue = [147, 36]'),\n",
       " Text(153.82702702702704, 146.0925, 'X[632] <= 0.195\\ngini = 0.299\\nsamples = 180\\nvalue = [147, 33]'),\n",
       " Text(147.7945945945946, 139.2975, 'X[952] <= 0.112\\ngini = 0.282\\nsamples = 177\\nvalue = [147, 30]'),\n",
       " Text(141.76216216216218, 132.5025, 'X[914] <= 0.148\\ngini = 0.262\\nsamples = 174\\nvalue = [147, 27]'),\n",
       " Text(135.72972972972974, 125.7075, 'X[658] <= 0.114\\ngini = 0.241\\nsamples = 171\\nvalue = [147, 24]'),\n",
       " Text(123.66486486486488, 118.9125, 'X[1144] <= 0.314\\ngini = 0.212\\nsamples = 166\\nvalue = [146, 20]'),\n",
       " Text(117.63243243243244, 112.11749999999999, 'X[89] <= 0.142\\ngini = 0.195\\nsamples = 164\\nvalue = [146, 18]'),\n",
       " Text(102.55135135135136, 105.3225, 'X[818] <= 0.25\\ngini = 0.179\\nsamples = 161\\nvalue = [145, 16]'),\n",
       " Text(90.4864864864865, 98.5275, 'X[587] <= 0.12\\ngini = 0.162\\nsamples = 158\\nvalue = [144, 14]'),\n",
       " Text(84.45405405405407, 91.7325, 'X[1323] <= 0.155\\ngini = 0.152\\nsamples = 157\\nvalue = [144, 13]'),\n",
       " Text(78.42162162162163, 84.9375, 'X[1220] <= 0.123\\ngini = 0.142\\nsamples = 156\\nvalue = [144, 12]'),\n",
       " Text(72.3891891891892, 78.14250000000001, 'X[60] <= 0.223\\ngini = 0.132\\nsamples = 155\\nvalue = [144, 11]'),\n",
       " Text(66.35675675675677, 71.3475, 'X[1617] <= 0.134\\ngini = 0.121\\nsamples = 154\\nvalue = [144, 10]'),\n",
       " Text(60.32432432432433, 64.55250000000001, 'X[776] <= 0.146\\ngini = 0.111\\nsamples = 153\\nvalue = [144, 9]'),\n",
       " Text(54.29189189189189, 57.75749999999999, 'X[301] <= 0.158\\ngini = 0.1\\nsamples = 152\\nvalue = [144, 8]'),\n",
       " Text(48.259459459459464, 50.962500000000006, 'X[826] <= 0.403\\ngini = 0.088\\nsamples = 151\\nvalue = [144, 7]'),\n",
       " Text(42.227027027027034, 44.16749999999999, 'X[1462] <= 0.219\\ngini = 0.077\\nsamples = 150\\nvalue = [144, 6]'),\n",
       " Text(36.1945945945946, 37.3725, 'X[1473] <= 0.261\\ngini = 0.065\\nsamples = 149\\nvalue = [144, 5]'),\n",
       " Text(30.162162162162165, 30.577499999999986, 'X[162] <= 0.217\\ngini = 0.053\\nsamples = 148\\nvalue = [144, 4]'),\n",
       " Text(24.129729729729732, 23.7825, 'X[70] <= 0.225\\ngini = 0.04\\nsamples = 147\\nvalue = [144, 3]'),\n",
       " Text(18.0972972972973, 16.98750000000001, 'X[121] <= 0.176\\ngini = 0.027\\nsamples = 146\\nvalue = [144, 2]'),\n",
       " Text(12.064864864864866, 10.192499999999995, 'X[799] <= 0.31\\ngini = 0.014\\nsamples = 145\\nvalue = [144, 1]'),\n",
       " Text(6.032432432432433, 3.397500000000008, 'gini = 0.0\\nsamples = 144\\nvalue = [144, 0]'),\n",
       " Text(18.0972972972973, 3.397500000000008, 'gini = 0.0\\nsamples = 1\\nvalue = [0, 1]'),\n",
       " Text(24.129729729729732, 10.192499999999995, 'gini = 0.0\\nsamples = 1\\nvalue = [0, 1]'),\n",
       " Text(30.162162162162165, 16.98750000000001, 'gini = 0.0\\nsamples = 1\\nvalue = [0, 1]'),\n",
       " Text(36.1945945945946, 23.7825, 'gini = 0.0\\nsamples = 1\\nvalue = [0, 1]'),\n",
       " Text(42.227027027027034, 30.577499999999986, 'gini = 0.0\\nsamples = 1\\nvalue = [0, 1]'),\n",
       " Text(48.259459459459464, 37.3725, 'gini = 0.0\\nsamples = 1\\nvalue = [0, 1]'),\n",
       " Text(54.29189189189189, 44.16749999999999, 'gini = 0.0\\nsamples = 1\\nvalue = [0, 1]'),\n",
       " Text(60.32432432432433, 50.962500000000006, 'gini = 0.0\\nsamples = 1\\nvalue = [0, 1]'),\n",
       " Text(66.35675675675677, 57.75749999999999, 'gini = 0.0\\nsamples = 1\\nvalue = [0, 1]'),\n",
       " Text(72.3891891891892, 64.55250000000001, 'gini = 0.0\\nsamples = 1\\nvalue = [0, 1]'),\n",
       " Text(78.42162162162163, 71.3475, 'gini = 0.0\\nsamples = 1\\nvalue = [0, 1]'),\n",
       " Text(84.45405405405407, 78.14250000000001, 'gini = 0.0\\nsamples = 1\\nvalue = [0, 1]'),\n",
       " Text(90.4864864864865, 84.9375, 'gini = 0.0\\nsamples = 1\\nvalue = [0, 1]'),\n",
       " Text(96.51891891891893, 91.7325, 'gini = 0.0\\nsamples = 1\\nvalue = [0, 1]'),\n",
       " Text(114.61621621621623, 98.5275, 'X[818] <= 0.292\\ngini = 0.444\\nsamples = 3\\nvalue = [1, 2]'),\n",
       " Text(108.58378378378379, 91.7325, 'gini = 0.0\\nsamples = 2\\nvalue = [0, 2]'),\n",
       " Text(120.64864864864866, 91.7325, 'gini = 0.0\\nsamples = 1\\nvalue = [1, 0]'),\n",
       " Text(132.71351351351353, 105.3225, 'X[89] <= 0.32\\ngini = 0.444\\nsamples = 3\\nvalue = [1, 2]'),\n",
       " Text(126.68108108108109, 98.5275, 'gini = 0.0\\nsamples = 2\\nvalue = [0, 2]'),\n",
       " Text(138.74594594594595, 98.5275, 'gini = 0.0\\nsamples = 1\\nvalue = [1, 0]'),\n",
       " Text(129.6972972972973, 112.11749999999999, 'gini = 0.0\\nsamples = 2\\nvalue = [0, 2]'),\n",
       " Text(147.7945945945946, 118.9125, 'X[14] <= 0.109\\ngini = 0.32\\nsamples = 5\\nvalue = [1, 4]'),\n",
       " Text(141.76216216216218, 112.11749999999999, 'gini = 0.0\\nsamples = 4\\nvalue = [0, 4]'),\n",
       " Text(153.82702702702704, 112.11749999999999, 'gini = 0.0\\nsamples = 1\\nvalue = [1, 0]'),\n",
       " Text(147.7945945945946, 125.7075, 'gini = 0.0\\nsamples = 3\\nvalue = [0, 3]'),\n",
       " Text(153.82702702702704, 132.5025, 'gini = 0.0\\nsamples = 3\\nvalue = [0, 3]'),\n",
       " Text(159.8594594594595, 139.2975, 'gini = 0.0\\nsamples = 3\\nvalue = [0, 3]'),\n",
       " Text(165.8918918918919, 146.0925, 'gini = 0.0\\nsamples = 3\\nvalue = [0, 3]'),\n",
       " Text(183.9891891891892, 152.8875, 'X[361] <= 0.224\\ngini = 0.278\\nsamples = 6\\nvalue = [1, 5]'),\n",
       " Text(177.95675675675676, 146.0925, 'gini = 0.0\\nsamples = 5\\nvalue = [0, 5]'),\n",
       " Text(190.02162162162165, 146.0925, 'gini = 0.0\\nsamples = 1\\nvalue = [1, 0]'),\n",
       " Text(183.9891891891892, 159.6825, 'gini = 0.0\\nsamples = 4\\nvalue = [0, 4]'),\n",
       " Text(190.02162162162165, 166.4775, 'gini = 0.0\\nsamples = 5\\nvalue = [0, 5]'),\n",
       " Text(196.05405405405406, 173.2725, 'gini = 0.0\\nsamples = 5\\nvalue = [0, 5]'),\n",
       " Text(214.15135135135137, 180.0675, 'X[496] <= 0.227\\ngini = 0.43\\nsamples = 16\\nvalue = [5, 11]'),\n",
       " Text(208.11891891891895, 173.2725, 'gini = 0.0\\nsamples = 7\\nvalue = [0, 7]'),\n",
       " Text(220.1837837837838, 173.2725, 'X[680] <= 0.081\\ngini = 0.494\\nsamples = 9\\nvalue = [5, 4]'),\n",
       " Text(214.15135135135137, 166.4775, 'X[248] <= 0.075\\ngini = 0.444\\nsamples = 6\\nvalue = [2, 4]'),\n",
       " Text(208.11891891891895, 159.6825, 'X[1237] <= 0.229\\ngini = 0.444\\nsamples = 3\\nvalue = [2, 1]'),\n",
       " Text(202.0864864864865, 152.8875, 'gini = 0.0\\nsamples = 2\\nvalue = [2, 0]'),\n",
       " Text(214.15135135135137, 152.8875, 'gini = 0.0\\nsamples = 1\\nvalue = [0, 1]'),\n",
       " Text(220.1837837837838, 159.6825, 'gini = 0.0\\nsamples = 3\\nvalue = [0, 3]'),\n",
       " Text(226.21621621621622, 166.4775, 'gini = 0.0\\nsamples = 3\\nvalue = [3, 0]'),\n",
       " Text(214.15135135135137, 186.8625, 'gini = 0.0\\nsamples = 7\\nvalue = [0, 7]'),\n",
       " Text(244.31351351351353, 193.6575, 'X[1540] <= 0.074\\ngini = 0.245\\nsamples = 21\\nvalue = [3, 18]'),\n",
       " Text(232.24864864864867, 186.8625, 'X[1178] <= 0.12\\ngini = 0.444\\nsamples = 3\\nvalue = [2, 1]'),\n",
       " Text(226.21621621621622, 180.0675, 'gini = 0.0\\nsamples = 2\\nvalue = [2, 0]'),\n",
       " Text(238.2810810810811, 180.0675, 'gini = 0.0\\nsamples = 1\\nvalue = [0, 1]'),\n",
       " Text(256.3783783783784, 186.8625, 'X[1249] <= 0.171\\ngini = 0.105\\nsamples = 18\\nvalue = [1, 17]'),\n",
       " Text(250.34594594594597, 180.0675, 'gini = 0.0\\nsamples = 17\\nvalue = [0, 17]'),\n",
       " Text(262.41081081081086, 180.0675, 'gini = 0.0\\nsamples = 1\\nvalue = [1, 0]'),\n",
       " Text(292.572972972973, 200.4525, 'X[1751] <= 0.102\\ngini = 0.434\\nsamples = 66\\nvalue = [21, 45]'),\n",
       " Text(286.5405405405406, 193.6575, 'X[1169] <= 0.39\\ngini = 0.387\\nsamples = 61\\nvalue = [16, 45]'),\n",
       " Text(280.50810810810816, 186.8625, 'X[943] <= 0.333\\ngini = 0.332\\nsamples = 57\\nvalue = [12, 45]'),\n",
       " Text(274.4756756756757, 180.0675, 'X[1454] <= 0.148\\ngini = 0.278\\nsamples = 54\\nvalue = [9, 45]'),\n",
       " Text(268.4432432432433, 173.2725, 'X[1516] <= 0.133\\ngini = 0.233\\nsamples = 52\\nvalue = [7, 45]'),\n",
       " Text(262.41081081081086, 166.4775, 'X[823] <= 0.221\\ngini = 0.208\\nsamples = 51\\nvalue = [6, 45]'),\n",
       " Text(256.3783783783784, 159.6825, 'X[1676] <= 0.164\\ngini = 0.18\\nsamples = 50\\nvalue = [5, 45]'),\n",
       " Text(250.34594594594597, 152.8875, 'X[263] <= 0.219\\ngini = 0.15\\nsamples = 49\\nvalue = [4, 45]'),\n",
       " Text(244.31351351351353, 146.0925, 'X[939] <= 0.18\\ngini = 0.117\\nsamples = 48\\nvalue = [3, 45]'),\n",
       " Text(238.2810810810811, 139.2975, 'X[1755] <= 0.214\\ngini = 0.081\\nsamples = 47\\nvalue = [2, 45]'),\n",
       " Text(232.24864864864867, 132.5025, 'X[31] <= 0.193\\ngini = 0.043\\nsamples = 45\\nvalue = [1, 44]'),\n",
       " Text(226.21621621621622, 125.7075, 'gini = 0.0\\nsamples = 43\\nvalue = [0, 43]'),\n",
       " Text(238.2810810810811, 125.7075, 'X[822] <= 0.193\\ngini = 0.5\\nsamples = 2\\nvalue = [1, 1]'),\n",
       " Text(232.24864864864867, 118.9125, 'gini = 0.0\\nsamples = 1\\nvalue = [0, 1]'),\n",
       " Text(244.31351351351353, 118.9125, 'gini = 0.0\\nsamples = 1\\nvalue = [1, 0]'),\n",
       " Text(244.31351351351353, 132.5025, 'gini = 0.5\\nsamples = 2\\nvalue = [1, 1]'),\n",
       " Text(250.34594594594597, 139.2975, 'gini = 0.0\\nsamples = 1\\nvalue = [1, 0]'),\n",
       " Text(256.3783783783784, 146.0925, 'gini = 0.0\\nsamples = 1\\nvalue = [1, 0]'),\n",
       " Text(262.41081081081086, 152.8875, 'gini = 0.0\\nsamples = 1\\nvalue = [1, 0]'),\n",
       " Text(268.4432432432433, 159.6825, 'gini = 0.0\\nsamples = 1\\nvalue = [1, 0]'),\n",
       " Text(274.4756756756757, 166.4775, 'gini = 0.0\\nsamples = 1\\nvalue = [1, 0]'),\n",
       " Text(280.50810810810816, 173.2725, 'gini = 0.0\\nsamples = 2\\nvalue = [2, 0]'),\n",
       " Text(286.5405405405406, 180.0675, 'gini = 0.0\\nsamples = 3\\nvalue = [3, 0]'),\n",
       " Text(292.572972972973, 186.8625, 'gini = 0.0\\nsamples = 4\\nvalue = [4, 0]'),\n",
       " Text(298.6054054054054, 193.6575, 'gini = 0.0\\nsamples = 5\\nvalue = [5, 0]'),\n",
       " Text(322.7351351351352, 207.2475, 'X[427] <= 0.098\\ngini = 0.32\\nsamples = 125\\nvalue = [25, 100]'),\n",
       " Text(316.7027027027027, 200.4525, 'X[571] <= 0.262\\ngini = 0.278\\nsamples = 120\\nvalue = [20, 100]'),\n",
       " Text(310.6702702702703, 193.6575, 'X[451] <= 0.18\\ngini = 0.248\\nsamples = 117\\nvalue = [17, 100]'),\n",
       " Text(304.6378378378379, 186.8625, 'X[1495] <= 0.312\\ngini = 0.215\\nsamples = 114\\nvalue = [14, 100]'),\n",
       " Text(298.6054054054054, 180.0675, 'X[1147] <= 0.139\\ngini = 0.179\\nsamples = 111\\nvalue = [11, 100]'),\n",
       " Text(292.572972972973, 173.2725, 'X[728] <= 0.277\\ngini = 0.152\\nsamples = 109\\nvalue = [9, 100]'),\n",
       " Text(286.5405405405406, 166.4775, 'X[729] <= 0.133\\ngini = 0.122\\nsamples = 107\\nvalue = [7, 100]'),\n",
       " Text(280.50810810810816, 159.6825, 'X[550] <= 0.296\\ngini = 0.091\\nsamples = 105\\nvalue = [5, 100]'),\n",
       " Text(274.4756756756757, 152.8875, 'X[701] <= 0.453\\ngini = 0.074\\nsamples = 104\\nvalue = [4, 100]'),\n",
       " Text(268.4432432432433, 146.0925, 'X[594] <= 0.284\\ngini = 0.057\\nsamples = 103\\nvalue = [3, 100]'),\n",
       " Text(262.41081081081086, 139.2975, 'X[510] <= 0.328\\ngini = 0.038\\nsamples = 102\\nvalue = [2, 100]'),\n",
       " Text(256.3783783783784, 132.5025, 'X[699] <= 0.312\\ngini = 0.02\\nsamples = 101\\nvalue = [1, 100]'),\n",
       " Text(250.34594594594597, 125.7075, 'gini = 0.0\\nsamples = 100\\nvalue = [0, 100]'),\n",
       " Text(262.41081081081086, 125.7075, 'gini = 0.0\\nsamples = 1\\nvalue = [1, 0]'),\n",
       " Text(268.4432432432433, 132.5025, 'gini = 0.0\\nsamples = 1\\nvalue = [1, 0]'),\n",
       " Text(274.4756756756757, 139.2975, 'gini = 0.0\\nsamples = 1\\nvalue = [1, 0]'),\n",
       " Text(280.50810810810816, 146.0925, 'gini = 0.0\\nsamples = 1\\nvalue = [1, 0]'),\n",
       " Text(286.5405405405406, 152.8875, 'gini = 0.0\\nsamples = 1\\nvalue = [1, 0]'),\n",
       " Text(292.572972972973, 159.6825, 'gini = 0.0\\nsamples = 2\\nvalue = [2, 0]'),\n",
       " Text(298.6054054054054, 166.4775, 'gini = 0.0\\nsamples = 2\\nvalue = [2, 0]'),\n",
       " Text(304.6378378378379, 173.2725, 'gini = 0.0\\nsamples = 2\\nvalue = [2, 0]'),\n",
       " Text(310.6702702702703, 180.0675, 'gini = 0.0\\nsamples = 3\\nvalue = [3, 0]'),\n",
       " Text(316.7027027027027, 186.8625, 'gini = 0.0\\nsamples = 3\\nvalue = [3, 0]'),\n",
       " Text(322.7351351351352, 193.6575, 'gini = 0.0\\nsamples = 3\\nvalue = [3, 0]'),\n",
       " Text(328.7675675675676, 200.4525, 'gini = 0.0\\nsamples = 5\\nvalue = [5, 0]')]"
      ]
     },
     "execution_count": 25,
     "metadata": {},
     "output_type": "execute_result"
    },
    {
     "data": {
      "image/png": "[encoded data removed]",
      "text/plain": [
       "<Figure size 432x288 with 1 Axes>"
      ]
     },
     "metadata": {
      "needs_background": "light"
     },
     "output_type": "display_data"
    }
   ],
   "source": [
    "from sklearn.tree import DecisionTreeClassifier\n",
    "from sklearn.tree import plot_tree\n",
    "import matplotlib.pyplot as plt\n",
    "\n",
    "\n",
    "tree.plot_tree(dtc)"
   ]
  },
  {
   "cell_type": "code",
   "execution_count": 29,
   "metadata": {},
   "outputs": [
    {
     "name": "stderr",
     "output_type": "stream",
     "text": [
      "C:\\Users\\Lais Nascimento\\anaconda3\\lib\\site-packages\\sklearn\\externals\\six.py:31: FutureWarning: The module is deprecated in version 0.21 and will be removed in version 0.23 since we've dropped support for Python 2.7. Please rely on the official version of six (https://pypi.org/project/six/).\n",
      "  \"(https://pypi.org/project/six/).\", FutureWarning)\n"
     ]
    },
    {
     "ename": "InvocationException",
     "evalue": "GraphViz's executables not found",
     "output_type": "error",
     "traceback": [
      "\u001b[1;31m---------------------------------------------------------------------------\u001b[0m",
      "\u001b[1;31mInvocationException\u001b[0m                       Traceback (most recent call last)",
      "\u001b[1;32m<ipython-input-29-11268ce2d227>\u001b[0m in \u001b[0;36m<module>\u001b[1;34m\u001b[0m\n\u001b[0;32m      8\u001b[0m                 special_characters=True)\n\u001b[0;32m      9\u001b[0m \u001b[0mgraph\u001b[0m \u001b[1;33m=\u001b[0m \u001b[0mpydotplus\u001b[0m\u001b[1;33m.\u001b[0m\u001b[0mgraph_from_dot_data\u001b[0m\u001b[1;33m(\u001b[0m\u001b[0mdot_data\u001b[0m\u001b[1;33m.\u001b[0m\u001b[0mgetvalue\u001b[0m\u001b[1;33m(\u001b[0m\u001b[1;33m)\u001b[0m\u001b[1;33m)\u001b[0m\u001b[1;33m\u001b[0m\u001b[1;33m\u001b[0m\u001b[0m\n\u001b[1;32m---> 10\u001b[1;33m \u001b[0mImage\u001b[0m\u001b[1;33m(\u001b[0m\u001b[0mgraph\u001b[0m\u001b[1;33m.\u001b[0m\u001b[0mcreate_png\u001b[0m\u001b[1;33m(\u001b[0m\u001b[1;33m)\u001b[0m\u001b[1;33m)\u001b[0m\u001b[1;33m\u001b[0m\u001b[1;33m\u001b[0m\u001b[0m\n\u001b[0m",
      "\u001b[1;32m~\\anaconda3\\lib\\site-packages\\pydotplus\\graphviz.py\u001b[0m in \u001b[0;36m<lambda>\u001b[1;34m(f, prog)\u001b[0m\n\u001b[0;32m   1795\u001b[0m             self.__setattr__(\n\u001b[0;32m   1796\u001b[0m                 \u001b[1;34m'create_'\u001b[0m \u001b[1;33m+\u001b[0m \u001b[0mfrmt\u001b[0m\u001b[1;33m,\u001b[0m\u001b[1;33m\u001b[0m\u001b[1;33m\u001b[0m\u001b[0m\n\u001b[1;32m-> 1797\u001b[1;33m                 \u001b[1;32mlambda\u001b[0m \u001b[0mf\u001b[0m\u001b[1;33m=\u001b[0m\u001b[0mfrmt\u001b[0m\u001b[1;33m,\u001b[0m \u001b[0mprog\u001b[0m\u001b[1;33m=\u001b[0m\u001b[0mself\u001b[0m\u001b[1;33m.\u001b[0m\u001b[0mprog\u001b[0m\u001b[1;33m:\u001b[0m \u001b[0mself\u001b[0m\u001b[1;33m.\u001b[0m\u001b[0mcreate\u001b[0m\u001b[1;33m(\u001b[0m\u001b[0mformat\u001b[0m\u001b[1;33m=\u001b[0m\u001b[0mf\u001b[0m\u001b[1;33m,\u001b[0m \u001b[0mprog\u001b[0m\u001b[1;33m=\u001b[0m\u001b[0mprog\u001b[0m\u001b[1;33m)\u001b[0m\u001b[1;33m\u001b[0m\u001b[1;33m\u001b[0m\u001b[0m\n\u001b[0m\u001b[0;32m   1798\u001b[0m             )\n\u001b[0;32m   1799\u001b[0m             \u001b[0mf\u001b[0m \u001b[1;33m=\u001b[0m \u001b[0mself\u001b[0m\u001b[1;33m.\u001b[0m\u001b[0m__dict__\u001b[0m\u001b[1;33m[\u001b[0m\u001b[1;34m'create_'\u001b[0m \u001b[1;33m+\u001b[0m \u001b[0mfrmt\u001b[0m\u001b[1;33m]\u001b[0m\u001b[1;33m\u001b[0m\u001b[1;33m\u001b[0m\u001b[0m\n",
      "\u001b[1;32m~\\anaconda3\\lib\\site-packages\\pydotplus\\graphviz.py\u001b[0m in \u001b[0;36mcreate\u001b[1;34m(self, prog, format)\u001b[0m\n\u001b[0;32m   1958\u001b[0m             \u001b[1;32mif\u001b[0m \u001b[0mself\u001b[0m\u001b[1;33m.\u001b[0m\u001b[0mprogs\u001b[0m \u001b[1;32mis\u001b[0m \u001b[1;32mNone\u001b[0m\u001b[1;33m:\u001b[0m\u001b[1;33m\u001b[0m\u001b[1;33m\u001b[0m\u001b[0m\n\u001b[0;32m   1959\u001b[0m                 raise InvocationException(\n\u001b[1;32m-> 1960\u001b[1;33m                     'GraphViz\\'s executables not found')\n\u001b[0m\u001b[0;32m   1961\u001b[0m \u001b[1;33m\u001b[0m\u001b[0m\n\u001b[0;32m   1962\u001b[0m         \u001b[1;32mif\u001b[0m \u001b[0mprog\u001b[0m \u001b[1;32mnot\u001b[0m \u001b[1;32min\u001b[0m \u001b[0mself\u001b[0m\u001b[1;33m.\u001b[0m\u001b[0mprogs\u001b[0m\u001b[1;33m:\u001b[0m\u001b[1;33m\u001b[0m\u001b[1;33m\u001b[0m\u001b[0m\n",
      "\u001b[1;31mInvocationException\u001b[0m: GraphViz's executables not found"
     ]
    }
   ],
   "source": [
    "from sklearn.externals.six import StringIO  \n",
    "from IPython.display import Image  \n",
    "from sklearn.tree import export_graphviz\n",
    "import pydotplus\n",
    "dot_data = StringIO()\n",
    "export_graphviz(dtc, out_file=dot_data,  \n",
    "                filled=True, rounded=True,\n",
    "                special_characters=True)\n",
    "graph = pydotplus.graph_from_dot_data(dot_data.getvalue())  \n",
    "Image(graph.create_png())"
   ]
  },
  {
   "cell_type": "code",
   "execution_count": null,
   "metadata": {},
   "outputs": [],
   "source": []
  }
 ],
 "metadata": {
  "kernelspec": {
   "display_name": "Python 3",
   "language": "python",
   "name": "python3"
  },
  "language_info": {
   "codemirror_mode": {
    "name": "ipython",
    "version": 3
   },
   "file_extension": ".py",
   "mimetype": "text/x-python",
   "name": "python",
   "nbconvert_exporter": "python",
   "pygments_lexer": "ipython3",
   "version": "3.7.6"
  }
 },
 "nbformat": 4,
 "nbformat_minor": 2
}
