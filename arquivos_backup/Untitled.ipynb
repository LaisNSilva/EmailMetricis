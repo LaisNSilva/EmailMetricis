{
 "cells": [
  {
   "cell_type": "code",
   "execution_count": 44,
   "metadata": {},
   "outputs": [],
   "source": [
    "from tkinter import *\n",
    "import pandas as pd \n",
    "from tkinter.ttk import *\n",
    "import re\n",
    "from textblob import TextBlob\n",
    "from tqdm.auto import tqdm\n",
    "\n",
    "# Importar a função que classifica as manchetes\n",
    "#from funcao.ipynb import classificar\n",
    "  \n",
    "# importing askopenfile function \n",
    "# from class filedialog \n",
    "from tkinter.filedialog import askopenfile\n",
    "from sklearn.model_selection import train_test_split\n",
    "from sklearn import svm\n",
    "from sklearn.metrics import f1_score, recall_score\n",
    "from sklearn.feature_extraction.text import CountVectorizer\n",
    "from sklearn.feature_extraction.text import TfidfTransformer\n",
    "from sklearn.metrics import confusion_matrix\n",
    "from sklearn.metrics import precision_score"
   ]
  },
  {
   "cell_type": "code",
   "execution_count": 45,
   "metadata": {},
   "outputs": [],
   "source": [
    "def cleanup(text):\n",
    "    import string\n",
    "    punctuation = '[\\/!-.:?;]' # Note que os sinais [] são delimitadores de um conjunto.\n",
    "    pattern = re.compile(punctuation)\n",
    "    text_subbed = re.sub(pattern, ' ', text)\n",
    "    return text_subbed"
   ]
  },
  {
   "cell_type": "code",
   "execution_count": 46,
   "metadata": {},
   "outputs": [
    {
     "data": {
      "application/vnd.jupyter.widget-view+json": {
       "model_id": "",
       "version_major": 2,
       "version_minor": 0
      },
      "text/plain": [
       "HBox(children=(FloatProgress(value=0.0, max=1.0), HTML(value='')))"
      ]
     },
     "metadata": {},
     "output_type": "display_data"
    }
   ],
   "source": [
    "data = pd.read_excel(\"lais.xlsx\")   \n",
    "\n",
    "#------------------------------------------------------------------\n",
    "manchetes = {}\n",
    "contador = 0\n",
    "email=[]\n",
    "lista_manchetes=[]\n",
    "numero_atual = 0\n",
    "loop = tqdm(total = data.shape[0], position = 0, leave = False)\n",
    "for i in data.HTML.index:\n",
    "    loop.set_description(\"Extraindo manchetes...\".format(numero_atual))\n",
    "    loop.update(1)\n",
    "    numero_atual += 1\n",
    "    texto = str(data.HTML[i])\n",
    "\n",
    "    for indice in range(len(texto)):\n",
    "\n",
    "        if texto[indice:indice+7] == \"message\":\n",
    "\n",
    "            manchete_incial = texto[indice+11:indice+150]\n",
    "            achou = False\n",
    "            manchete = \" \"\n",
    "            indice_letra = 0\n",
    "            email.append(i+2)\n",
    "\n",
    "            while indice_letra < len(manchete_incial):\n",
    "\n",
    "                if manchete_incial[indice_letra] == \"}\":\n",
    "\n",
    "                    manchete = manchete_incial[0:indice_letra-6]\n",
    "                    achou = True\n",
    "                    manchetes[contador] = manchete\n",
    "\n",
    "                    manchete_limpa = cleanup(manchete)\n",
    "                    manchete_min = manchete_limpa.lower()\n",
    "\n",
    "                    try:\n",
    "                        hi_blob = TextBlob(manchete_min)\n",
    "                        manchete_pronta = hi_blob.translate(to='en')\n",
    "                    except:\n",
    "                        manchete_pronta = manchete_min\n",
    "\n",
    "                    lista_manchetes.append(str(manchete_pronta))\n",
    "                    contador += 1\n",
    "                    break\n",
    "\n",
    "                else:\n",
    "\n",
    "                    indice_letra += 1\n",
    "loop.close()\n",
    "#------------------------------------------------------------------\n",
    "lista_links = []\n",
    "for linha in data.HTML.index:   #Percorre cada linha do dataset\n",
    "    texto = data.HTML[linha]\n",
    "\n",
    "    contador_de_titulos = 0\n",
    "    for indice in range(len(texto)-7):\n",
    "        if texto[indice:indice+7] == \"message\":\n",
    "            contador_de_titulos += 1\n",
    "\n",
    "\n",
    "\n",
    "    indice = 0\n",
    "    texto_com_url = \"\"\n",
    "\n",
    "    while indice < len(texto):  #Percorre o texto dentro da linha\n",
    "        if texto[indice:indice + 7] == \"widgets\":\n",
    "            while True:\n",
    "                if texto[indice+5:indice+8] == \"} ]\":\n",
    "                    break\n",
    "                else:\n",
    "                    texto_com_url += texto[indice+8]\n",
    "                    indice += 1\n",
    "            break \n",
    "        else:\n",
    "            indice += 1\n",
    "\n",
    "\n",
    "    indice = 0\n",
    "    numero_atual_de_titulos = 0\n",
    "\n",
    "    while indice < len(texto_com_url) and numero_atual_de_titulos < contador_de_titulos:\n",
    "        if texto_com_url[indice : indice+3] == \"url\":\n",
    "            link = \"\"\n",
    "            while True:\n",
    "                if texto_com_url[indice+7] == '\"':\n",
    "                    numero_atual_de_titulos += 1\n",
    "                    break\n",
    "                else:\n",
    "                    link += texto_com_url[indice+7]\n",
    "                    indice += 1\n",
    "            lista_links.append(link)\n",
    "        else:\n",
    "            indice += 1\n",
    "#------------------------------------------------------------------\n",
    "indice_lista = 0\n",
    "while indice_lista < len(lista_links):\n",
    "    contador_de_https = 0\n",
    "    contador = 0\n",
    "    link = lista_links[indice_lista]\n",
    "    while contador < len(link):\n",
    "        if link[contador:contador+5] == \"https\" or link[contador:contador+4] == \"http\":\n",
    "            contador_de_https += 1\n",
    "        if contador_de_https == 2:\n",
    "            link_completo = link[contador:len(link)]\n",
    "            link_final = \"\"\n",
    "            indice_google = 0\n",
    "            while indice_google < len(link_completo):\n",
    "\n",
    "                if link_completo[indice_google : indice_google+7] == \"u0026ct\":\n",
    "                    break\n",
    "                else:\n",
    "                    link_final += link_completo[indice_google]\n",
    "                    indice_google += 1\n",
    "\n",
    "            lista_links[indice_lista] = link_final\n",
    "            break\n",
    "        contador += 1\n",
    "\n",
    "    indice_lista += 1\n",
    "#------------------------------------------------------------------\n",
    "\n",
    "dicionario = {}\n",
    "\n",
    "dicionario['Manchetes'] = lista_manchetes\n",
    "#dicionario['Indice'] = email\n",
    "dicionario['Link'] = lista_links\n",
    "\n",
    "data_manchetes = pd.DataFrame(data=dicionario)\n",
    "\n",
    "result = pd.concat([data, data_manchetes], ignore_index=True, axis=1)\n",
    "\n",
    "result.columns = ['Data','De','HTML','Resumo','Manchete','Link']\n",
    "\n",
    "result[\"Relevância\"] = int(1)"
   ]
  },
  {
   "cell_type": "code",
   "execution_count": 47,
   "metadata": {},
   "outputs": [
    {
     "data": {
      "text/html": [
       "<div>\n",
       "<style scoped>\n",
       "    .dataframe tbody tr th:only-of-type {\n",
       "        vertical-align: middle;\n",
       "    }\n",
       "\n",
       "    .dataframe tbody tr th {\n",
       "        vertical-align: top;\n",
       "    }\n",
       "\n",
       "    .dataframe thead th {\n",
       "        text-align: right;\n",
       "    }\n",
       "</style>\n",
       "<table border=\"1\" class=\"dataframe\">\n",
       "  <thead>\n",
       "    <tr style=\"text-align: right;\">\n",
       "      <th></th>\n",
       "      <th>Data</th>\n",
       "      <th>De</th>\n",
       "      <th>HTML</th>\n",
       "      <th>Resumo</th>\n",
       "      <th>Manchete</th>\n",
       "      <th>Link</th>\n",
       "      <th>Relevância</th>\n",
       "    </tr>\n",
       "  </thead>\n",
       "  <tbody>\n",
       "    <tr>\n",
       "      <th>0</th>\n",
       "      <td>2020-04-03 23:46:37</td>\n",
       "      <td>googlealerts-noreply@google.com</td>\n",
       "      <td>&lt;html lang=\"pt-BR\"&gt; &lt;head&gt; &lt;/head&gt; &lt;body&gt; &lt;div...</td>\n",
       "      <td>Google Bonos del Impacto Social Atualização as...</td>\n",
       "      <td>a lais é legeal</td>\n",
       "      <td>https://www.infobae.com/economia/2020/04/03/bo...</td>\n",
       "      <td>1</td>\n",
       "    </tr>\n",
       "    <tr>\n",
       "      <th>1</th>\n",
       "      <td>NaT</td>\n",
       "      <td>NaN</td>\n",
       "      <td>NaN</td>\n",
       "      <td>NaN</td>\n",
       "      <td>la ampliación del bono social costará 23 millo...</td>\n",
       "      <td>https://m.europapress.es/economia/energia-0034...</td>\n",
       "      <td>1</td>\n",
       "    </tr>\n",
       "    <tr>\n",
       "      <th>2</th>\n",
       "      <td>NaT</td>\n",
       "      <td>NaN</td>\n",
       "      <td>NaN</td>\n",
       "      <td>NaN</td>\n",
       "      <td>bono de 380 soles  beneficiarios podrán retira...</td>\n",
       "      <td>https://larepublica.pe/economia/2020/03/31/bon...</td>\n",
       "      <td>1</td>\n",
       "    </tr>\n",
       "  </tbody>\n",
       "</table>\n",
       "</div>"
      ],
      "text/plain": [
       "                 Data                               De  \\\n",
       "0 2020-04-03 23:46:37  googlealerts-noreply@google.com   \n",
       "1                 NaT                              NaN   \n",
       "2                 NaT                              NaN   \n",
       "\n",
       "                                                HTML  \\\n",
       "0  <html lang=\"pt-BR\"> <head> </head> <body> <div...   \n",
       "1                                                NaN   \n",
       "2                                                NaN   \n",
       "\n",
       "                                              Resumo  \\\n",
       "0  Google Bonos del Impacto Social Atualização as...   \n",
       "1                                                NaN   \n",
       "2                                                NaN   \n",
       "\n",
       "                                            Manchete  \\\n",
       "0                                    a lais é legeal   \n",
       "1  la ampliación del bono social costará 23 millo...   \n",
       "2  bono de 380 soles  beneficiarios podrán retira...   \n",
       "\n",
       "                                                Link  Relevância  \n",
       "0  https://www.infobae.com/economia/2020/04/03/bo...           1  \n",
       "1  https://m.europapress.es/economia/energia-0034...           1  \n",
       "2  https://larepublica.pe/economia/2020/03/31/bon...           1  "
      ]
     },
     "execution_count": 47,
     "metadata": {},
     "output_type": "execute_result"
    }
   ],
   "source": [
    "result.head()"
   ]
  },
  {
   "cell_type": "code",
   "execution_count": 48,
   "metadata": {},
   "outputs": [
    {
     "data": {
      "text/plain": [
       "SVC(kernel='linear')"
      ]
     },
     "execution_count": 48,
     "metadata": {},
     "output_type": "execute_result"
    }
   ],
   "source": [
    "treino = pd.read_excel(\"base_pronta.xlsx\")\n",
    "\n",
    "X_para_treinar = treino.loc[:, \"Manchete\"]\n",
    "Y_para_treinar = treino.loc[:, \"Relevância\"]\n",
    "##y = arquivo.loc[:, \"Relevância\"]\n",
    "\n",
    "# Vetorizando\n",
    "count_vect = CountVectorizer()\n",
    "X_train_counts = count_vect.fit_transform(X_para_treinar).toarray()\n",
    "\n",
    "\n",
    "# Sepando em teste e treino\n",
    "# Porém vou colocar tudo para treino\n",
    "X_train, X_test, y_train, y_test = train_test_split(X_train_counts, Y_para_treinar, test_size=0.01, random_state=42)\n",
    "#Aplicando o modelo SVM (Support Vector Machine)\n",
    "\n",
    "kernels = ['linear', 'poly', 'rbf', 'sigmoid', 'precomputed']\n",
    "\n",
    "model = svm.SVC(kernel = 'linear') #Kernel\n",
    "\n",
    "#Dando fit no modelo SVM usando o dataset de treino\n",
    "model.fit(X_train, y_train)"
   ]
  },
  {
   "cell_type": "code",
   "execution_count": 49,
   "metadata": {},
   "outputs": [],
   "source": [
    "X = result.loc[:, \"Manchete\"]\n",
    "pred = count_vect.transform(X).toarray()\n",
    "predict = model.predict(pred)"
   ]
  },
  {
   "cell_type": "code",
   "execution_count": 50,
   "metadata": {},
   "outputs": [
    {
     "data": {
      "text/plain": [
       "array([0, 0, 0])"
      ]
     },
     "execution_count": 50,
     "metadata": {},
     "output_type": "execute_result"
    }
   ],
   "source": [
    "predict"
   ]
  },
  {
   "cell_type": "code",
   "execution_count": 40,
   "metadata": {},
   "outputs": [],
   "source": [
    "import numpy as np\n",
    "lista_prevista = np.array(predict).tolist()"
   ]
  },
  {
   "cell_type": "code",
   "execution_count": 41,
   "metadata": {},
   "outputs": [
    {
     "data": {
      "text/plain": [
       "[0, 0, 0]"
      ]
     },
     "execution_count": 41,
     "metadata": {},
     "output_type": "execute_result"
    }
   ],
   "source": [
    "lista_prevista"
   ]
  },
  {
   "cell_type": "code",
   "execution_count": 42,
   "metadata": {},
   "outputs": [],
   "source": [
    "result.Manchete = lista_prevista"
   ]
  },
  {
   "cell_type": "code",
   "execution_count": 43,
   "metadata": {},
   "outputs": [
    {
     "data": {
      "text/html": [
       "<div>\n",
       "<style scoped>\n",
       "    .dataframe tbody tr th:only-of-type {\n",
       "        vertical-align: middle;\n",
       "    }\n",
       "\n",
       "    .dataframe tbody tr th {\n",
       "        vertical-align: top;\n",
       "    }\n",
       "\n",
       "    .dataframe thead th {\n",
       "        text-align: right;\n",
       "    }\n",
       "</style>\n",
       "<table border=\"1\" class=\"dataframe\">\n",
       "  <thead>\n",
       "    <tr style=\"text-align: right;\">\n",
       "      <th></th>\n",
       "      <th>Data</th>\n",
       "      <th>De</th>\n",
       "      <th>HTML</th>\n",
       "      <th>Resumo</th>\n",
       "      <th>Manchete</th>\n",
       "      <th>Link</th>\n",
       "      <th>Relevância</th>\n",
       "    </tr>\n",
       "  </thead>\n",
       "  <tbody>\n",
       "    <tr>\n",
       "      <th>0</th>\n",
       "      <td>2020-04-03 23:46:37</td>\n",
       "      <td>googlealerts-noreply@google.com</td>\n",
       "      <td>&lt;html lang=\"pt-BR\"&gt; &lt;head&gt; &lt;/head&gt; &lt;body&gt; &lt;div...</td>\n",
       "      <td>Google Bonos del Impacto Social Atualização as...</td>\n",
       "      <td>0</td>\n",
       "      <td>https://www.infobae.com/economia/2020/04/03/bo...</td>\n",
       "      <td>1</td>\n",
       "    </tr>\n",
       "    <tr>\n",
       "      <th>1</th>\n",
       "      <td>NaT</td>\n",
       "      <td>NaN</td>\n",
       "      <td>NaN</td>\n",
       "      <td>NaN</td>\n",
       "      <td>0</td>\n",
       "      <td>https://m.europapress.es/economia/energia-0034...</td>\n",
       "      <td>1</td>\n",
       "    </tr>\n",
       "    <tr>\n",
       "      <th>2</th>\n",
       "      <td>NaT</td>\n",
       "      <td>NaN</td>\n",
       "      <td>NaN</td>\n",
       "      <td>NaN</td>\n",
       "      <td>0</td>\n",
       "      <td>https://larepublica.pe/economia/2020/03/31/bon...</td>\n",
       "      <td>1</td>\n",
       "    </tr>\n",
       "  </tbody>\n",
       "</table>\n",
       "</div>"
      ],
      "text/plain": [
       "                 Data                               De  \\\n",
       "0 2020-04-03 23:46:37  googlealerts-noreply@google.com   \n",
       "1                 NaT                              NaN   \n",
       "2                 NaT                              NaN   \n",
       "\n",
       "                                                HTML  \\\n",
       "0  <html lang=\"pt-BR\"> <head> </head> <body> <div...   \n",
       "1                                                NaN   \n",
       "2                                                NaN   \n",
       "\n",
       "                                              Resumo  Manchete  \\\n",
       "0  Google Bonos del Impacto Social Atualização as...         0   \n",
       "1                                                NaN         0   \n",
       "2                                                NaN         0   \n",
       "\n",
       "                                                Link  Relevância  \n",
       "0  https://www.infobae.com/economia/2020/04/03/bo...           1  \n",
       "1  https://m.europapress.es/economia/energia-0034...           1  \n",
       "2  https://larepublica.pe/economia/2020/03/31/bon...           1  "
      ]
     },
     "execution_count": 43,
     "metadata": {},
     "output_type": "execute_result"
    }
   ],
   "source": [
    "result"
   ]
  },
  {
   "cell_type": "code",
   "execution_count": null,
   "metadata": {},
   "outputs": [],
   "source": []
  }
 ],
 "metadata": {
  "kernelspec": {
   "display_name": "Python 3",
   "language": "python",
   "name": "python3"
  },
  "language_info": {
   "codemirror_mode": {
    "name": "ipython",
    "version": 3
   },
   "file_extension": ".py",
   "mimetype": "text/x-python",
   "name": "python",
   "nbconvert_exporter": "python",
   "pygments_lexer": "ipython3",
   "version": "3.6.9"
  }
 },
 "nbformat": 4,
 "nbformat_minor": 4
}
