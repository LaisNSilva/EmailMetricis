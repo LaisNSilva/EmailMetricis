{
 "cells": [
  {
   "cell_type": "code",
   "execution_count": 12,
   "metadata": {
    "scrolled": true
   },
   "outputs": [],
   "source": [
    "#%run dataset_preparation.ipynb"
   ]
  },
  {
   "cell_type": "code",
   "execution_count": 13,
   "metadata": {},
   "outputs": [],
   "source": [
    "from sklearn.model_selection import train_test_split\n",
    "from sklearn import svm\n",
    "from sklearn.metrics import f1_score, recall_score\n",
    "from sklearn.feature_extraction.text import CountVectorizer\n",
    "from sklearn.feature_extraction.text import TfidfTransformer\n",
    "from sklearn.metrics import confusion_matrix\n",
    "from sklearn.metrics import precision_score"
   ]
  },
  {
   "cell_type": "code",
   "execution_count": 27,
   "metadata": {},
   "outputs": [],
   "source": [
    "result = pd.read_excel(\"base_pronta.xlsx\")"
   ]
  },
  {
   "cell_type": "code",
   "execution_count": 23,
   "metadata": {},
   "outputs": [
    {
     "data": {
      "text/html": [
       "<div>\n",
       "<style scoped>\n",
       "    .dataframe tbody tr th:only-of-type {\n",
       "        vertical-align: middle;\n",
       "    }\n",
       "\n",
       "    .dataframe tbody tr th {\n",
       "        vertical-align: top;\n",
       "    }\n",
       "\n",
       "    .dataframe thead th {\n",
       "        text-align: right;\n",
       "    }\n",
       "</style>\n",
       "<table border=\"1\" class=\"dataframe\">\n",
       "  <thead>\n",
       "    <tr style=\"text-align: right;\">\n",
       "      <th></th>\n",
       "      <th>Data</th>\n",
       "      <th>De</th>\n",
       "      <th>HTML</th>\n",
       "      <th>Resumo</th>\n",
       "      <th>Manchete</th>\n",
       "      <th>Link</th>\n",
       "      <th>Relevância</th>\n",
       "    </tr>\n",
       "  </thead>\n",
       "  <tbody>\n",
       "    <tr>\n",
       "      <th>0</th>\n",
       "      <td>2020-04-03 23:46:37</td>\n",
       "      <td>googlealerts-noreply@google.com</td>\n",
       "      <td>&lt;html lang=\"pt-BR\"&gt; &lt;head&gt; &lt;/head&gt; &lt;body&gt; &lt;div...</td>\n",
       "      <td>Google Bonos del Impacto Social Atualização as...</td>\n",
       "      <td>bono de anses  cómo evitar las aglomeraciones ...</td>\n",
       "      <td>https://www.infobae.com/economia/2020/04/03/bo...</td>\n",
       "      <td>0</td>\n",
       "    </tr>\n",
       "    <tr>\n",
       "      <th>1</th>\n",
       "      <td>2020-04-04 01:10:54</td>\n",
       "      <td>googlealerts-noreply@google.com</td>\n",
       "      <td>&lt;html lang=\"pt-BR\"&gt; &lt;head&gt; &lt;/head&gt; &lt;body&gt; &lt;div...</td>\n",
       "      <td>Google contratos de impacto social Atualização...</td>\n",
       "      <td>la ampliación del bono social costará 23 millo...</td>\n",
       "      <td>https://m.europapress.es/economia/energia-0034...</td>\n",
       "      <td>0</td>\n",
       "    </tr>\n",
       "    <tr>\n",
       "      <th>2</th>\n",
       "      <td>2020-04-04 01:09:50</td>\n",
       "      <td>googlealerts-noreply@google.com</td>\n",
       "      <td>&lt;html lang=\"pt-BR\"&gt; &lt;head&gt; &lt;/head&gt; &lt;body&gt; &lt;div...</td>\n",
       "      <td>Google outcome-based contract Atualização diár...</td>\n",
       "      <td>bono de 380 soles  beneficiarios podrán retira...</td>\n",
       "      <td>https://larepublica.pe/economia/2020/03/31/bon...</td>\n",
       "      <td>0</td>\n",
       "    </tr>\n",
       "    <tr>\n",
       "      <th>3</th>\n",
       "      <td>2020-04-04 01:16:32</td>\n",
       "      <td>googlealerts-noreply@google.com</td>\n",
       "      <td>&lt;html lang=\"pt-BR\"&gt; &lt;head&gt; &lt;/head&gt; &lt;body&gt; &lt;div...</td>\n",
       "      <td>Google development impact bond Atualização ass...</td>\n",
       "      <td>está em vigor mp que permite suspensão de cont...</td>\n",
       "      <td>https://www.conjur.com.br/2020-abr-02/medida-p...</td>\n",
       "      <td>0</td>\n",
       "    </tr>\n",
       "    <tr>\n",
       "      <th>4</th>\n",
       "      <td>2020-04-04 01:18:02</td>\n",
       "      <td>googlealerts-noreply@google.com</td>\n",
       "      <td>&lt;html lang=\"pt-BR\"&gt; &lt;head&gt; &lt;/head&gt; &lt;body&gt; &lt;div...</td>\n",
       "      <td>Google outcomes-based contracts Atualização as...</td>\n",
       "      <td>covid 19  a força maior e seus potenciais impa...</td>\n",
       "      <td>https://www.portosenavios.com.br/artigos/artig...</td>\n",
       "      <td>0</td>\n",
       "    </tr>\n",
       "  </tbody>\n",
       "</table>\n",
       "</div>"
      ],
      "text/plain": [
       "                  Data                               De  \\\n",
       "0  2020-04-03 23:46:37  googlealerts-noreply@google.com   \n",
       "1  2020-04-04 01:10:54  googlealerts-noreply@google.com   \n",
       "2  2020-04-04 01:09:50  googlealerts-noreply@google.com   \n",
       "3  2020-04-04 01:16:32  googlealerts-noreply@google.com   \n",
       "4  2020-04-04 01:18:02  googlealerts-noreply@google.com   \n",
       "\n",
       "                                                HTML  \\\n",
       "0  <html lang=\"pt-BR\"> <head> </head> <body> <div...   \n",
       "1  <html lang=\"pt-BR\"> <head> </head> <body> <div...   \n",
       "2  <html lang=\"pt-BR\"> <head> </head> <body> <div...   \n",
       "3  <html lang=\"pt-BR\"> <head> </head> <body> <div...   \n",
       "4  <html lang=\"pt-BR\"> <head> </head> <body> <div...   \n",
       "\n",
       "                                              Resumo  \\\n",
       "0  Google Bonos del Impacto Social Atualização as...   \n",
       "1  Google contratos de impacto social Atualização...   \n",
       "2  Google outcome-based contract Atualização diár...   \n",
       "3  Google development impact bond Atualização ass...   \n",
       "4  Google outcomes-based contracts Atualização as...   \n",
       "\n",
       "                                            Manchete  \\\n",
       "0  bono de anses  cómo evitar las aglomeraciones ...   \n",
       "1  la ampliación del bono social costará 23 millo...   \n",
       "2  bono de 380 soles  beneficiarios podrán retira...   \n",
       "3  está em vigor mp que permite suspensão de cont...   \n",
       "4  covid 19  a força maior e seus potenciais impa...   \n",
       "\n",
       "                                                Link  Relevância  \n",
       "0  https://www.infobae.com/economia/2020/04/03/bo...           0  \n",
       "1  https://m.europapress.es/economia/energia-0034...           0  \n",
       "2  https://larepublica.pe/economia/2020/03/31/bon...           0  \n",
       "3  https://www.conjur.com.br/2020-abr-02/medida-p...           0  \n",
       "4  https://www.portosenavios.com.br/artigos/artig...           0  "
      ]
     },
     "execution_count": 23,
     "metadata": {},
     "output_type": "execute_result"
    }
   ],
   "source": [
    "result.head()"
   ]
  },
  {
   "cell_type": "code",
   "execution_count": 24,
   "metadata": {},
   "outputs": [],
   "source": [
    "X = result.loc[:, \"Manchete\"]\n",
    "y = result.loc[:, \"Relevância\"]"
   ]
  },
  {
   "cell_type": "code",
   "execution_count": 25,
   "metadata": {},
   "outputs": [],
   "source": [
    "count_vect = CountVectorizer()\n",
    "X_train_counts = count_vect.fit_transform(X)\n",
    "\n",
    "tfidf_transformer = TfidfTransformer()\n",
    "X_train_tfidf = tfidf_transformer.fit_transform(X_train_counts)"
   ]
  },
  {
   "cell_type": "code",
   "execution_count": 18,
   "metadata": {},
   "outputs": [],
   "source": [
    "X_train, X_test, y_train, y_test = train_test_split(X_train_tfidf, y, test_size=0.33, random_state=42)\n",
    "\n",
    "#Aplicando o modelo SVM (Support Vector Machine)\n",
    "\n",
    "kernels = ['linear', 'poly', 'rbf', 'sigmoid', 'precomputed']\n",
    "\n",
    "model = svm.SVC(kernel = 'linear') #Kernel\n",
    "\n",
    "#Dando fit no modelo SVM usando o dataset de treino\n",
    "model.fit(X_train, y_train)\n",
    "\n",
    "predict = model.predict(X_test)\n",
    "#Testando o score do modelo"
   ]
  },
  {
   "cell_type": "code",
   "execution_count": 19,
   "metadata": {},
   "outputs": [
    {
     "name": "stdout",
     "output_type": "stream",
     "text": [
      "O modelo SVM acertou 78.26%\n",
      "O modelo SVM acertou 73.47%\n",
      "The model accuracy is: 83.72%\n"
     ]
    }
   ],
   "source": [
    "#Resultados\n",
    "from sklearn.metrics import precision_score\n",
    "\n",
    "f1_score = f1_score(y_test, predict) * 100\n",
    "recall_score = recall_score(y_test, predict) * 100\n",
    "precisao_score = precision_score(y_test, predict)\n",
    "\n",
    "print(\"O modelo SVM acertou {0}%\".format(\"%.2f\" % f1_score))\n",
    "print(\"O modelo SVM acertou {0}%\".format(\"%.2f\" % recall_score))\n",
    "print(\"The model accuracy is: {0}%\".format(\"%.2f\" % (precisao_score*100)))"
   ]
  },
  {
   "cell_type": "code",
   "execution_count": 20,
   "metadata": {},
   "outputs": [
    {
     "name": "stdout",
     "output_type": "stream",
     "text": [
      "Verdadeiro negativo: 260\n",
      "Falso positivo: 14\n",
      "Falso negativo: 26\n",
      "Verdadeiro positivo: 72\n"
     ]
    }
   ],
   "source": [
    "matrix = confusion_matrix(y_test, predict)\n",
    "print(\"Verdadeiro negativo: {0}\".format(matrix[0][0]))\n",
    "print(\"Falso positivo: {0}\".format(matrix[0][1]))\n",
    "print(\"Falso negativo: {0}\".format(matrix[1][0]))\n",
    "print(\"Verdadeiro positivo: {0}\".format(matrix[1][1]))"
   ]
  },
  {
   "cell_type": "code",
   "execution_count": 26,
   "metadata": {},
   "outputs": [
    {
     "data": {
      "text/plain": [
       "array([0])"
      ]
     },
     "execution_count": 26,
     "metadata": {},
     "output_type": "execute_result"
    }
   ],
   "source": [
    "model.predict(X_train_tfidf[0])"
   ]
  },
  {
   "cell_type": "code",
   "execution_count": null,
   "metadata": {},
   "outputs": [],
   "source": []
  }
 ],
 "metadata": {
  "kernelspec": {
   "display_name": "Python 3",
   "language": "python",
   "name": "python3"
  },
  "language_info": {
   "codemirror_mode": {
    "name": "ipython",
    "version": 3
   },
   "file_extension": ".py",
   "mimetype": "text/x-python",
   "name": "python",
   "nbconvert_exporter": "python",
   "pygments_lexer": "ipython3",
   "version": "3.6.9"
  }
 },
 "nbformat": 4,
 "nbformat_minor": 2
}
