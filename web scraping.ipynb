{
 "cells": [
  {
   "cell_type": "code",
   "execution_count": 16,
   "metadata": {},
   "outputs": [],
   "source": [
    "from bs4 import BeautifulSoup\n",
    "from selenium import webdriver\n",
    "from webdriver_manager.chrome import ChromeDriverManager\n",
    "import time\n",
    "from selenium.webdriver import ActionChains"
   ]
  },
  {
   "cell_type": "code",
   "execution_count": 17,
   "metadata": {},
   "outputs": [],
   "source": [
    "#determina a url do site desejado\n",
    "url = \"https://sibdatabase.socialfinance.org.uk/\"\n",
    "\n",
    "#cria o webdriver\n",
    "driver = webdriver.Chrome(executable_path=r'./chromedriver.exe')\n",
    "\n",
    "#pega o conteúdo da url\n",
    "driver.get(url)\n",
    "time.sleep(1)\n",
    "\n",
    "#tenta fechar o pop-up\n",
    "try: #precisa arrumar\n",
    "    close_pop = driver.findElement(By.className(\"got-it\"))\n",
    "#caso não funcione, apenas continue\n",
    "except:\n",
    "    pass"
   ]
  },
  {
   "cell_type": "code",
   "execution_count": null,
   "metadata": {},
   "outputs": [],
   "source": []
  }
 ],
 "metadata": {
  "kernelspec": {
   "display_name": "Python 3",
   "language": "python",
   "name": "python3"
  },
  "language_info": {
   "codemirror_mode": {
    "name": "ipython",
    "version": 3
   },
   "file_extension": ".py",
   "mimetype": "text/x-python",
   "name": "python",
   "nbconvert_exporter": "python",
   "pygments_lexer": "ipython3",
   "version": "3.6.4"
  }
 },
 "nbformat": 4,
 "nbformat_minor": 2
}
