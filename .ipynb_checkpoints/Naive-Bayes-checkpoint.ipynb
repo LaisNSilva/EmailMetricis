{
 "cells": [
  {
   "cell_type": "code",
   "execution_count": 1,
   "metadata": {},
   "outputs": [],
   "source": [
    "import pandas as pd"
   ]
  },
  {
   "cell_type": "code",
   "execution_count": 2,
   "metadata": {},
   "outputs": [],
   "source": [
    "data = pd.read_excel(\"data.xlsx\", sheet_name=\"fernando\")"
   ]
  },
  {
   "cell_type": "code",
   "execution_count": 3,
   "metadata": {},
   "outputs": [],
   "source": [
    "relevantes = pd.read_excel(\"ManchetesRelevantes.xlsx\")"
   ]
  },
  {
   "cell_type": "code",
   "execution_count": 4,
   "metadata": {},
   "outputs": [
    {
     "data": {
      "text/html": [
       "<div>\n",
       "<style scoped>\n",
       "    .dataframe tbody tr th:only-of-type {\n",
       "        vertical-align: middle;\n",
       "    }\n",
       "\n",
       "    .dataframe tbody tr th {\n",
       "        vertical-align: top;\n",
       "    }\n",
       "\n",
       "    .dataframe thead th {\n",
       "        text-align: right;\n",
       "    }\n",
       "</style>\n",
       "<table border=\"1\" class=\"dataframe\">\n",
       "  <thead>\n",
       "    <tr style=\"text-align: right;\">\n",
       "      <th></th>\n",
       "      <th>Data</th>\n",
       "      <th>De</th>\n",
       "      <th>HTML</th>\n",
       "      <th>Resumo</th>\n",
       "    </tr>\n",
       "  </thead>\n",
       "  <tbody>\n",
       "    <tr>\n",
       "      <th>0</th>\n",
       "      <td>2020-04-03 23:46:37</td>\n",
       "      <td>googlealerts-noreply@google.com</td>\n",
       "      <td>&lt;html lang=\"pt-BR\"&gt; &lt;head&gt; &lt;/head&gt; &lt;body&gt; &lt;div...</td>\n",
       "      <td>Google Bonos del Impacto Social Atualização as...</td>\n",
       "    </tr>\n",
       "    <tr>\n",
       "      <th>1</th>\n",
       "      <td>2020-04-04 01:10:54</td>\n",
       "      <td>googlealerts-noreply@google.com</td>\n",
       "      <td>&lt;html lang=\"pt-BR\"&gt; &lt;head&gt; &lt;/head&gt; &lt;body&gt; &lt;div...</td>\n",
       "      <td>Google contratos de impacto social Atualização...</td>\n",
       "    </tr>\n",
       "    <tr>\n",
       "      <th>2</th>\n",
       "      <td>2020-04-04 01:09:50</td>\n",
       "      <td>googlealerts-noreply@google.com</td>\n",
       "      <td>&lt;html lang=\"pt-BR\"&gt; &lt;head&gt; &lt;/head&gt; &lt;body&gt; &lt;div...</td>\n",
       "      <td>Google outcome-based contract Atualização diár...</td>\n",
       "    </tr>\n",
       "    <tr>\n",
       "      <th>3</th>\n",
       "      <td>2020-04-04 01:16:32</td>\n",
       "      <td>googlealerts-noreply@google.com</td>\n",
       "      <td>&lt;html lang=\"pt-BR\"&gt; &lt;head&gt; &lt;/head&gt; &lt;body&gt; &lt;div...</td>\n",
       "      <td>Google development impact bond Atualização ass...</td>\n",
       "    </tr>\n",
       "    <tr>\n",
       "      <th>4</th>\n",
       "      <td>2020-04-04 01:18:02</td>\n",
       "      <td>googlealerts-noreply@google.com</td>\n",
       "      <td>&lt;html lang=\"pt-BR\"&gt; &lt;head&gt; &lt;/head&gt; &lt;body&gt; &lt;div...</td>\n",
       "      <td>Google outcomes-based contracts Atualização as...</td>\n",
       "    </tr>\n",
       "  </tbody>\n",
       "</table>\n",
       "</div>"
      ],
      "text/plain": [
       "                 Data                               De  \\\n",
       "0 2020-04-03 23:46:37  googlealerts-noreply@google.com   \n",
       "1 2020-04-04 01:10:54  googlealerts-noreply@google.com   \n",
       "2 2020-04-04 01:09:50  googlealerts-noreply@google.com   \n",
       "3 2020-04-04 01:16:32  googlealerts-noreply@google.com   \n",
       "4 2020-04-04 01:18:02  googlealerts-noreply@google.com   \n",
       "\n",
       "                                                HTML  \\\n",
       "0  <html lang=\"pt-BR\"> <head> </head> <body> <div...   \n",
       "1  <html lang=\"pt-BR\"> <head> </head> <body> <div...   \n",
       "2  <html lang=\"pt-BR\"> <head> </head> <body> <div...   \n",
       "3  <html lang=\"pt-BR\"> <head> </head> <body> <div...   \n",
       "4  <html lang=\"pt-BR\"> <head> </head> <body> <div...   \n",
       "\n",
       "                                              Resumo  \n",
       "0  Google Bonos del Impacto Social Atualização as...  \n",
       "1  Google contratos de impacto social Atualização...  \n",
       "2  Google outcome-based contract Atualização diár...  \n",
       "3  Google development impact bond Atualização ass...  \n",
       "4  Google outcomes-based contracts Atualização as...  "
      ]
     },
     "execution_count": 4,
     "metadata": {},
     "output_type": "execute_result"
    }
   ],
   "source": [
    "data.head()"
   ]
  },
  {
   "cell_type": "code",
   "execution_count": 5,
   "metadata": {},
   "outputs": [
    {
     "data": {
      "text/plain": [
       "0    <html lang=\"pt-BR\"> <head> </head> <body> <div...\n",
       "1    <html lang=\"pt-BR\"> <head> </head> <body> <div...\n",
       "2    <html lang=\"pt-BR\"> <head> </head> <body> <div...\n",
       "3    <html lang=\"pt-BR\"> <head> </head> <body> <div...\n",
       "4    <html lang=\"pt-BR\"> <head> </head> <body> <div...\n",
       "Name: HTML, dtype: object"
      ]
     },
     "execution_count": 5,
     "metadata": {},
     "output_type": "execute_result"
    }
   ],
   "source": [
    "html_column = data.HTML\n",
    "html_column.head()"
   ]
  },
  {
   "cell_type": "code",
   "execution_count": 6,
   "metadata": {},
   "outputs": [],
   "source": [
    "manchetes = {}\n",
    "contador = 0\n",
    "email=[]\n",
    "lista_manchetes=[]\n",
    "for i in html_column.index:\n",
    "    texto = str(html_column[i])\n",
    "    for indice in range(len(texto)):\n",
    "        if texto[indice:indice+7] == \"message\":\n",
    "            manchete_incial = texto[indice+11:indice+150]\n",
    "            achou = False\n",
    "            manchete = \" \"\n",
    "            indice_letra = 0\n",
    "            email.append(i+2)\n",
    "            while indice_letra < len(manchete_incial):\n",
    "                if manchete_incial[indice_letra] == \"}\":\n",
    "                        manchete = manchete_incial[0:indice_letra-6]\n",
    "                        achou = True\n",
    "                        manchetes[contador] = manchete\n",
    "                        lista_manchetes.append(manchete)\n",
    "                        contador += 1\n",
    "                        break\n",
    "                else:\n",
    "                    indice_letra += 1"
   ]
  },
  {
   "cell_type": "code",
   "execution_count": 7,
   "metadata": {},
   "outputs": [
    {
     "data": {
      "text/plain": [
       "289"
      ]
     },
     "execution_count": 7,
     "metadata": {},
     "output_type": "execute_result"
    }
   ],
   "source": [
    "len(lista_manchetes)"
   ]
  },
  {
   "cell_type": "code",
   "execution_count": 8,
   "metadata": {},
   "outputs": [],
   "source": [
    "for i in relevantes.index:\n",
    "    manchete_relevante = relevantes[\"Manchetes da Base de Dados\"][i]\n",
    "    lista_manchetes.append(manchete_relevante)\n",
    "    email.append(\"-1\")"
   ]
  },
  {
   "cell_type": "code",
   "execution_count": 9,
   "metadata": {},
   "outputs": [],
   "source": [
    "dicionario = {}\n",
    "    \n",
    "dicionario['Manchetes'] = lista_manchetes\n",
    "dicionario['Indice'] = email"
   ]
  },
  {
   "cell_type": "code",
   "execution_count": 10,
   "metadata": {},
   "outputs": [],
   "source": [
    "data_manchetes = pd.DataFrame(data=dicionario)"
   ]
  },
  {
   "cell_type": "code",
   "execution_count": 11,
   "metadata": {},
   "outputs": [
    {
     "data": {
      "text/html": [
       "<div>\n",
       "<style scoped>\n",
       "    .dataframe tbody tr th:only-of-type {\n",
       "        vertical-align: middle;\n",
       "    }\n",
       "\n",
       "    .dataframe tbody tr th {\n",
       "        vertical-align: top;\n",
       "    }\n",
       "\n",
       "    .dataframe thead th {\n",
       "        text-align: right;\n",
       "    }\n",
       "</style>\n",
       "<table border=\"1\" class=\"dataframe\">\n",
       "  <thead>\n",
       "    <tr style=\"text-align: right;\">\n",
       "      <th></th>\n",
       "      <th>Manchetes</th>\n",
       "      <th>Indice</th>\n",
       "    </tr>\n",
       "  </thead>\n",
       "  <tbody>\n",
       "    <tr>\n",
       "      <th>0</th>\n",
       "      <td>Bono de Anses: cómo evitar las aglomeraciones ...</td>\n",
       "      <td>2</td>\n",
       "    </tr>\n",
       "    <tr>\n",
       "      <th>1</th>\n",
       "      <td>La ampliación del bono social costará 23 millo...</td>\n",
       "      <td>2</td>\n",
       "    </tr>\n",
       "    <tr>\n",
       "      <th>2</th>\n",
       "      <td>Bono de 380 soles: beneficiarios podrán retira...</td>\n",
       "      <td>2</td>\n",
       "    </tr>\n",
       "    <tr>\n",
       "      <th>3</th>\n",
       "      <td>Está em vigor MP que permite suspensão de cont...</td>\n",
       "      <td>3</td>\n",
       "    </tr>\n",
       "    <tr>\n",
       "      <th>4</th>\n",
       "      <td>Covid-19, a força maior e seus potenciais impa...</td>\n",
       "      <td>3</td>\n",
       "    </tr>\n",
       "  </tbody>\n",
       "</table>\n",
       "</div>"
      ],
      "text/plain": [
       "                                           Manchetes Indice\n",
       "0  Bono de Anses: cómo evitar las aglomeraciones ...      2\n",
       "1  La ampliación del bono social costará 23 millo...      2\n",
       "2  Bono de 380 soles: beneficiarios podrán retira...      2\n",
       "3  Está em vigor MP que permite suspensão de cont...      3\n",
       "4  Covid-19, a força maior e seus potenciais impa...      3"
      ]
     },
     "execution_count": 11,
     "metadata": {},
     "output_type": "execute_result"
    }
   ],
   "source": [
    "data_manchetes.head()"
   ]
  },
  {
   "cell_type": "code",
   "execution_count": 12,
   "metadata": {},
   "outputs": [],
   "source": [
    "result = pd.concat([data, data_manchetes], ignore_index=True, axis=1)"
   ]
  },
  {
   "cell_type": "code",
   "execution_count": 13,
   "metadata": {},
   "outputs": [],
   "source": [
    "result.columns = ['Data','De','HTML','Resumo','Link_1','Índice']"
   ]
  },
  {
   "cell_type": "code",
   "execution_count": 14,
   "metadata": {},
   "outputs": [
    {
     "data": {
      "text/html": [
       "<div>\n",
       "<style scoped>\n",
       "    .dataframe tbody tr th:only-of-type {\n",
       "        vertical-align: middle;\n",
       "    }\n",
       "\n",
       "    .dataframe tbody tr th {\n",
       "        vertical-align: top;\n",
       "    }\n",
       "\n",
       "    .dataframe thead th {\n",
       "        text-align: right;\n",
       "    }\n",
       "</style>\n",
       "<table border=\"1\" class=\"dataframe\">\n",
       "  <thead>\n",
       "    <tr style=\"text-align: right;\">\n",
       "      <th></th>\n",
       "      <th>Data</th>\n",
       "      <th>De</th>\n",
       "      <th>HTML</th>\n",
       "      <th>Resumo</th>\n",
       "      <th>Link_1</th>\n",
       "      <th>Índice</th>\n",
       "    </tr>\n",
       "  </thead>\n",
       "  <tbody>\n",
       "    <tr>\n",
       "      <th>0</th>\n",
       "      <td>2020-04-03 23:46:37</td>\n",
       "      <td>googlealerts-noreply@google.com</td>\n",
       "      <td>&lt;html lang=\"pt-BR\"&gt; &lt;head&gt; &lt;/head&gt; &lt;body&gt; &lt;div...</td>\n",
       "      <td>Google Bonos del Impacto Social Atualização as...</td>\n",
       "      <td>Bono de Anses: cómo evitar las aglomeraciones ...</td>\n",
       "      <td>2</td>\n",
       "    </tr>\n",
       "    <tr>\n",
       "      <th>1</th>\n",
       "      <td>2020-04-04 01:10:54</td>\n",
       "      <td>googlealerts-noreply@google.com</td>\n",
       "      <td>&lt;html lang=\"pt-BR\"&gt; &lt;head&gt; &lt;/head&gt; &lt;body&gt; &lt;div...</td>\n",
       "      <td>Google contratos de impacto social Atualização...</td>\n",
       "      <td>La ampliación del bono social costará 23 millo...</td>\n",
       "      <td>2</td>\n",
       "    </tr>\n",
       "    <tr>\n",
       "      <th>2</th>\n",
       "      <td>2020-04-04 01:09:50</td>\n",
       "      <td>googlealerts-noreply@google.com</td>\n",
       "      <td>&lt;html lang=\"pt-BR\"&gt; &lt;head&gt; &lt;/head&gt; &lt;body&gt; &lt;div...</td>\n",
       "      <td>Google outcome-based contract Atualização diár...</td>\n",
       "      <td>Bono de 380 soles: beneficiarios podrán retira...</td>\n",
       "      <td>2</td>\n",
       "    </tr>\n",
       "    <tr>\n",
       "      <th>3</th>\n",
       "      <td>2020-04-04 01:16:32</td>\n",
       "      <td>googlealerts-noreply@google.com</td>\n",
       "      <td>&lt;html lang=\"pt-BR\"&gt; &lt;head&gt; &lt;/head&gt; &lt;body&gt; &lt;div...</td>\n",
       "      <td>Google development impact bond Atualização ass...</td>\n",
       "      <td>Está em vigor MP que permite suspensão de cont...</td>\n",
       "      <td>3</td>\n",
       "    </tr>\n",
       "    <tr>\n",
       "      <th>4</th>\n",
       "      <td>2020-04-04 01:18:02</td>\n",
       "      <td>googlealerts-noreply@google.com</td>\n",
       "      <td>&lt;html lang=\"pt-BR\"&gt; &lt;head&gt; &lt;/head&gt; &lt;body&gt; &lt;div...</td>\n",
       "      <td>Google outcomes-based contracts Atualização as...</td>\n",
       "      <td>Covid-19, a força maior e seus potenciais impa...</td>\n",
       "      <td>3</td>\n",
       "    </tr>\n",
       "  </tbody>\n",
       "</table>\n",
       "</div>"
      ],
      "text/plain": [
       "                 Data                               De  \\\n",
       "0 2020-04-03 23:46:37  googlealerts-noreply@google.com   \n",
       "1 2020-04-04 01:10:54  googlealerts-noreply@google.com   \n",
       "2 2020-04-04 01:09:50  googlealerts-noreply@google.com   \n",
       "3 2020-04-04 01:16:32  googlealerts-noreply@google.com   \n",
       "4 2020-04-04 01:18:02  googlealerts-noreply@google.com   \n",
       "\n",
       "                                                HTML  \\\n",
       "0  <html lang=\"pt-BR\"> <head> </head> <body> <div...   \n",
       "1  <html lang=\"pt-BR\"> <head> </head> <body> <div...   \n",
       "2  <html lang=\"pt-BR\"> <head> </head> <body> <div...   \n",
       "3  <html lang=\"pt-BR\"> <head> </head> <body> <div...   \n",
       "4  <html lang=\"pt-BR\"> <head> </head> <body> <div...   \n",
       "\n",
       "                                              Resumo  \\\n",
       "0  Google Bonos del Impacto Social Atualização as...   \n",
       "1  Google contratos de impacto social Atualização...   \n",
       "2  Google outcome-based contract Atualização diár...   \n",
       "3  Google development impact bond Atualização ass...   \n",
       "4  Google outcomes-based contracts Atualização as...   \n",
       "\n",
       "                                              Link_1 Índice  \n",
       "0  Bono de Anses: cómo evitar las aglomeraciones ...      2  \n",
       "1  La ampliación del bono social costará 23 millo...      2  \n",
       "2  Bono de 380 soles: beneficiarios podrán retira...      2  \n",
       "3  Está em vigor MP que permite suspensão de cont...      3  \n",
       "4  Covid-19, a força maior e seus potenciais impa...      3  "
      ]
     },
     "execution_count": 14,
     "metadata": {},
     "output_type": "execute_result"
    }
   ],
   "source": [
    "result.head()"
   ]
  },
  {
   "cell_type": "code",
   "execution_count": 15,
   "metadata": {},
   "outputs": [],
   "source": [
    "result[\"Relevância\"] = 0"
   ]
  },
  {
   "cell_type": "code",
   "execution_count": 16,
   "metadata": {},
   "outputs": [
    {
     "data": {
      "text/html": [
       "<div>\n",
       "<style scoped>\n",
       "    .dataframe tbody tr th:only-of-type {\n",
       "        vertical-align: middle;\n",
       "    }\n",
       "\n",
       "    .dataframe tbody tr th {\n",
       "        vertical-align: top;\n",
       "    }\n",
       "\n",
       "    .dataframe thead th {\n",
       "        text-align: right;\n",
       "    }\n",
       "</style>\n",
       "<table border=\"1\" class=\"dataframe\">\n",
       "  <thead>\n",
       "    <tr style=\"text-align: right;\">\n",
       "      <th></th>\n",
       "      <th>Data</th>\n",
       "      <th>De</th>\n",
       "      <th>HTML</th>\n",
       "      <th>Resumo</th>\n",
       "      <th>Link_1</th>\n",
       "      <th>Índice</th>\n",
       "      <th>Relevância</th>\n",
       "    </tr>\n",
       "  </thead>\n",
       "  <tbody>\n",
       "    <tr>\n",
       "      <th>0</th>\n",
       "      <td>2020-04-03 23:46:37</td>\n",
       "      <td>googlealerts-noreply@google.com</td>\n",
       "      <td>&lt;html lang=\"pt-BR\"&gt; &lt;head&gt; &lt;/head&gt; &lt;body&gt; &lt;div...</td>\n",
       "      <td>Google Bonos del Impacto Social Atualização as...</td>\n",
       "      <td>Bono de Anses: cómo evitar las aglomeraciones ...</td>\n",
       "      <td>2</td>\n",
       "      <td>0</td>\n",
       "    </tr>\n",
       "    <tr>\n",
       "      <th>1</th>\n",
       "      <td>2020-04-04 01:10:54</td>\n",
       "      <td>googlealerts-noreply@google.com</td>\n",
       "      <td>&lt;html lang=\"pt-BR\"&gt; &lt;head&gt; &lt;/head&gt; &lt;body&gt; &lt;div...</td>\n",
       "      <td>Google contratos de impacto social Atualização...</td>\n",
       "      <td>La ampliación del bono social costará 23 millo...</td>\n",
       "      <td>2</td>\n",
       "      <td>0</td>\n",
       "    </tr>\n",
       "    <tr>\n",
       "      <th>2</th>\n",
       "      <td>2020-04-04 01:09:50</td>\n",
       "      <td>googlealerts-noreply@google.com</td>\n",
       "      <td>&lt;html lang=\"pt-BR\"&gt; &lt;head&gt; &lt;/head&gt; &lt;body&gt; &lt;div...</td>\n",
       "      <td>Google outcome-based contract Atualização diár...</td>\n",
       "      <td>Bono de 380 soles: beneficiarios podrán retira...</td>\n",
       "      <td>2</td>\n",
       "      <td>0</td>\n",
       "    </tr>\n",
       "    <tr>\n",
       "      <th>3</th>\n",
       "      <td>2020-04-04 01:16:32</td>\n",
       "      <td>googlealerts-noreply@google.com</td>\n",
       "      <td>&lt;html lang=\"pt-BR\"&gt; &lt;head&gt; &lt;/head&gt; &lt;body&gt; &lt;div...</td>\n",
       "      <td>Google development impact bond Atualização ass...</td>\n",
       "      <td>Está em vigor MP que permite suspensão de cont...</td>\n",
       "      <td>3</td>\n",
       "      <td>0</td>\n",
       "    </tr>\n",
       "    <tr>\n",
       "      <th>4</th>\n",
       "      <td>2020-04-04 01:18:02</td>\n",
       "      <td>googlealerts-noreply@google.com</td>\n",
       "      <td>&lt;html lang=\"pt-BR\"&gt; &lt;head&gt; &lt;/head&gt; &lt;body&gt; &lt;div...</td>\n",
       "      <td>Google outcomes-based contracts Atualização as...</td>\n",
       "      <td>Covid-19, a força maior e seus potenciais impa...</td>\n",
       "      <td>3</td>\n",
       "      <td>0</td>\n",
       "    </tr>\n",
       "  </tbody>\n",
       "</table>\n",
       "</div>"
      ],
      "text/plain": [
       "                 Data                               De  \\\n",
       "0 2020-04-03 23:46:37  googlealerts-noreply@google.com   \n",
       "1 2020-04-04 01:10:54  googlealerts-noreply@google.com   \n",
       "2 2020-04-04 01:09:50  googlealerts-noreply@google.com   \n",
       "3 2020-04-04 01:16:32  googlealerts-noreply@google.com   \n",
       "4 2020-04-04 01:18:02  googlealerts-noreply@google.com   \n",
       "\n",
       "                                                HTML  \\\n",
       "0  <html lang=\"pt-BR\"> <head> </head> <body> <div...   \n",
       "1  <html lang=\"pt-BR\"> <head> </head> <body> <div...   \n",
       "2  <html lang=\"pt-BR\"> <head> </head> <body> <div...   \n",
       "3  <html lang=\"pt-BR\"> <head> </head> <body> <div...   \n",
       "4  <html lang=\"pt-BR\"> <head> </head> <body> <div...   \n",
       "\n",
       "                                              Resumo  \\\n",
       "0  Google Bonos del Impacto Social Atualização as...   \n",
       "1  Google contratos de impacto social Atualização...   \n",
       "2  Google outcome-based contract Atualização diár...   \n",
       "3  Google development impact bond Atualização ass...   \n",
       "4  Google outcomes-based contracts Atualização as...   \n",
       "\n",
       "                                              Link_1 Índice  Relevância  \n",
       "0  Bono de Anses: cómo evitar las aglomeraciones ...      2           0  \n",
       "1  La ampliación del bono social costará 23 millo...      2           0  \n",
       "2  Bono de 380 soles: beneficiarios podrán retira...      2           0  \n",
       "3  Está em vigor MP que permite suspensão de cont...      3           0  \n",
       "4  Covid-19, a força maior e seus potenciais impa...      3           0  "
      ]
     },
     "execution_count": 16,
     "metadata": {},
     "output_type": "execute_result"
    }
   ],
   "source": [
    "result.head()"
   ]
  },
  {
   "cell_type": "code",
   "execution_count": 17,
   "metadata": {},
   "outputs": [],
   "source": [
    "data_backup = pd.read_excel(\"data.xlsx\", sheet_name=\"backup\")"
   ]
  },
  {
   "cell_type": "code",
   "execution_count": 18,
   "metadata": {},
   "outputs": [],
   "source": [
    "lista_backup = []\n",
    "for i in data_backup.index:\n",
    "    manchete = data_backup.Manchetes[i]\n",
    "    lista_backup.append(manchete)\n",
    "    \n",
    "for i in relevantes.index:\n",
    "    manchete = relevantes[\"Manchetes da Base de Dados\"][i]\n",
    "    lista_backup.append(manchete)"
   ]
  },
  {
   "cell_type": "code",
   "execution_count": 19,
   "metadata": {},
   "outputs": [
    {
     "name": "stderr",
     "output_type": "stream",
     "text": [
      "C:\\Users\\Lais Nascimento\\anaconda3\\lib\\site-packages\\ipykernel_launcher.py:3: SettingWithCopyWarning: \n",
      "A value is trying to be set on a copy of a slice from a DataFrame\n",
      "\n",
      "See the caveats in the documentation: https://pandas.pydata.org/pandas-docs/stable/user_guide/indexing.html#returning-a-view-versus-a-copy\n",
      "  This is separate from the ipykernel package so we can avoid doing imports until\n"
     ]
    }
   ],
   "source": [
    "for i in result.index:\n",
    "    if result[\"Link_1\"][i] in lista_backup:\n",
    "        result.Relevância[i] = 1"
   ]
  },
  {
   "cell_type": "code",
   "execution_count": 20,
   "metadata": {
    "scrolled": true
   },
   "outputs": [
    {
     "data": {
      "text/plain": [
       "1    0.562284\n",
       "0    0.437716\n",
       "Name: Relevância, dtype: float64"
      ]
     },
     "execution_count": 20,
     "metadata": {},
     "output_type": "execute_result"
    }
   ],
   "source": [
    "result.Relevância.value_counts(True)"
   ]
  },
  {
   "cell_type": "code",
   "execution_count": 21,
   "metadata": {},
   "outputs": [
    {
     "data": {
      "text/html": [
       "<div>\n",
       "<style scoped>\n",
       "    .dataframe tbody tr th:only-of-type {\n",
       "        vertical-align: middle;\n",
       "    }\n",
       "\n",
       "    .dataframe tbody tr th {\n",
       "        vertical-align: top;\n",
       "    }\n",
       "\n",
       "    .dataframe thead th {\n",
       "        text-align: right;\n",
       "    }\n",
       "</style>\n",
       "<table border=\"1\" class=\"dataframe\">\n",
       "  <thead>\n",
       "    <tr style=\"text-align: right;\">\n",
       "      <th></th>\n",
       "      <th>Data</th>\n",
       "      <th>De</th>\n",
       "      <th>HTML</th>\n",
       "      <th>Resumo</th>\n",
       "      <th>Link_1</th>\n",
       "      <th>Índice</th>\n",
       "      <th>Relevância</th>\n",
       "    </tr>\n",
       "  </thead>\n",
       "  <tbody>\n",
       "    <tr>\n",
       "      <th>0</th>\n",
       "      <td>2020-04-03 23:46:37</td>\n",
       "      <td>googlealerts-noreply@google.com</td>\n",
       "      <td>&lt;html lang=\"pt-BR\"&gt; &lt;head&gt; &lt;/head&gt; &lt;body&gt; &lt;div...</td>\n",
       "      <td>Google Bonos del Impacto Social Atualização as...</td>\n",
       "      <td>Bono de Anses: cómo evitar las aglomeraciones ...</td>\n",
       "      <td>2</td>\n",
       "      <td>0</td>\n",
       "    </tr>\n",
       "    <tr>\n",
       "      <th>1</th>\n",
       "      <td>2020-04-04 01:10:54</td>\n",
       "      <td>googlealerts-noreply@google.com</td>\n",
       "      <td>&lt;html lang=\"pt-BR\"&gt; &lt;head&gt; &lt;/head&gt; &lt;body&gt; &lt;div...</td>\n",
       "      <td>Google contratos de impacto social Atualização...</td>\n",
       "      <td>La ampliación del bono social costará 23 millo...</td>\n",
       "      <td>2</td>\n",
       "      <td>0</td>\n",
       "    </tr>\n",
       "    <tr>\n",
       "      <th>2</th>\n",
       "      <td>2020-04-04 01:09:50</td>\n",
       "      <td>googlealerts-noreply@google.com</td>\n",
       "      <td>&lt;html lang=\"pt-BR\"&gt; &lt;head&gt; &lt;/head&gt; &lt;body&gt; &lt;div...</td>\n",
       "      <td>Google outcome-based contract Atualização diár...</td>\n",
       "      <td>Bono de 380 soles: beneficiarios podrán retira...</td>\n",
       "      <td>2</td>\n",
       "      <td>0</td>\n",
       "    </tr>\n",
       "    <tr>\n",
       "      <th>3</th>\n",
       "      <td>2020-04-04 01:16:32</td>\n",
       "      <td>googlealerts-noreply@google.com</td>\n",
       "      <td>&lt;html lang=\"pt-BR\"&gt; &lt;head&gt; &lt;/head&gt; &lt;body&gt; &lt;div...</td>\n",
       "      <td>Google development impact bond Atualização ass...</td>\n",
       "      <td>Está em vigor MP que permite suspensão de cont...</td>\n",
       "      <td>3</td>\n",
       "      <td>0</td>\n",
       "    </tr>\n",
       "    <tr>\n",
       "      <th>4</th>\n",
       "      <td>2020-04-04 01:18:02</td>\n",
       "      <td>googlealerts-noreply@google.com</td>\n",
       "      <td>&lt;html lang=\"pt-BR\"&gt; &lt;head&gt; &lt;/head&gt; &lt;body&gt; &lt;div...</td>\n",
       "      <td>Google outcomes-based contracts Atualização as...</td>\n",
       "      <td>Covid-19, a força maior e seus potenciais impa...</td>\n",
       "      <td>3</td>\n",
       "      <td>0</td>\n",
       "    </tr>\n",
       "  </tbody>\n",
       "</table>\n",
       "</div>"
      ],
      "text/plain": [
       "                 Data                               De  \\\n",
       "0 2020-04-03 23:46:37  googlealerts-noreply@google.com   \n",
       "1 2020-04-04 01:10:54  googlealerts-noreply@google.com   \n",
       "2 2020-04-04 01:09:50  googlealerts-noreply@google.com   \n",
       "3 2020-04-04 01:16:32  googlealerts-noreply@google.com   \n",
       "4 2020-04-04 01:18:02  googlealerts-noreply@google.com   \n",
       "\n",
       "                                                HTML  \\\n",
       "0  <html lang=\"pt-BR\"> <head> </head> <body> <div...   \n",
       "1  <html lang=\"pt-BR\"> <head> </head> <body> <div...   \n",
       "2  <html lang=\"pt-BR\"> <head> </head> <body> <div...   \n",
       "3  <html lang=\"pt-BR\"> <head> </head> <body> <div...   \n",
       "4  <html lang=\"pt-BR\"> <head> </head> <body> <div...   \n",
       "\n",
       "                                              Resumo  \\\n",
       "0  Google Bonos del Impacto Social Atualização as...   \n",
       "1  Google contratos de impacto social Atualização...   \n",
       "2  Google outcome-based contract Atualização diár...   \n",
       "3  Google development impact bond Atualização ass...   \n",
       "4  Google outcomes-based contracts Atualização as...   \n",
       "\n",
       "                                              Link_1 Índice  Relevância  \n",
       "0  Bono de Anses: cómo evitar las aglomeraciones ...      2           0  \n",
       "1  La ampliación del bono social costará 23 millo...      2           0  \n",
       "2  Bono de 380 soles: beneficiarios podrán retira...      2           0  \n",
       "3  Está em vigor MP que permite suspensão de cont...      3           0  \n",
       "4  Covid-19, a força maior e seus potenciais impa...      3           0  "
      ]
     },
     "execution_count": 21,
     "metadata": {},
     "output_type": "execute_result"
    }
   ],
   "source": [
    "result.head()"
   ]
  },
  {
   "cell_type": "code",
   "execution_count": 22,
   "metadata": {},
   "outputs": [],
   "source": [
    "# Função para a limpeza\n",
    "\n",
    "import re \n",
    "\n",
    "def cleanup(text):\n",
    "    import string\n",
    "    punctuation = '[\\/!-.:?;]' # Note que os sinais [] são delimitadores de um conjunto.\n",
    "    pattern = re.compile(punctuation)\n",
    "    text_subbed = re.sub(pattern, ' ', text)\n",
    "    return text_subbed"
   ]
  },
  {
   "cell_type": "code",
   "execution_count": 23,
   "metadata": {},
   "outputs": [],
   "source": [
    "# Paasando a função pela lista de limpeza pela lista de manchetes\n",
    "texto_limpo=[]\n",
    "for texto in result[\"Link_1\"]:\n",
    "     texto_limpo.append(cleanup(texto))"
   ]
  },
  {
   "cell_type": "code",
   "execution_count": 24,
   "metadata": {},
   "outputs": [],
   "source": [
    "# Transformando tudo para letra minuscula\n",
    "texto_min = []\n",
    "for t in texto_limpo:\n",
    "    texto_min.append(t.lower())\n"
   ]
  },
  {
   "cell_type": "code",
   "execution_count": 25,
   "metadata": {},
   "outputs": [
    {
     "name": "stderr",
     "output_type": "stream",
     "text": [
      "C:\\Users\\Lais Nascimento\\anaconda3\\lib\\site-packages\\ipykernel_launcher.py:2: SettingWithCopyWarning: \n",
      "A value is trying to be set on a copy of a slice from a DataFrame\n",
      "\n",
      "See the caveats in the documentation: https://pandas.pydata.org/pandas-docs/stable/user_guide/indexing.html#returning-a-view-versus-a-copy\n",
      "  \n"
     ]
    }
   ],
   "source": [
    "for i in result.index:\n",
    "    result.Link_1[i]= texto_min[i]\n",
    "    \n",
    "    "
   ]
  },
  {
   "cell_type": "code",
   "execution_count": 26,
   "metadata": {},
   "outputs": [
    {
     "data": {
      "text/html": [
       "<div>\n",
       "<style scoped>\n",
       "    .dataframe tbody tr th:only-of-type {\n",
       "        vertical-align: middle;\n",
       "    }\n",
       "\n",
       "    .dataframe tbody tr th {\n",
       "        vertical-align: top;\n",
       "    }\n",
       "\n",
       "    .dataframe thead th {\n",
       "        text-align: right;\n",
       "    }\n",
       "</style>\n",
       "<table border=\"1\" class=\"dataframe\">\n",
       "  <thead>\n",
       "    <tr style=\"text-align: right;\">\n",
       "      <th></th>\n",
       "      <th>Data</th>\n",
       "      <th>De</th>\n",
       "      <th>HTML</th>\n",
       "      <th>Resumo</th>\n",
       "      <th>Link_1</th>\n",
       "      <th>Índice</th>\n",
       "      <th>Relevância</th>\n",
       "    </tr>\n",
       "  </thead>\n",
       "  <tbody>\n",
       "    <tr>\n",
       "      <th>0</th>\n",
       "      <td>2020-04-03 23:46:37</td>\n",
       "      <td>googlealerts-noreply@google.com</td>\n",
       "      <td>&lt;html lang=\"pt-BR\"&gt; &lt;head&gt; &lt;/head&gt; &lt;body&gt; &lt;div...</td>\n",
       "      <td>Google Bonos del Impacto Social Atualização as...</td>\n",
       "      <td>bono de anses  cómo evitar las aglomeraciones ...</td>\n",
       "      <td>2</td>\n",
       "      <td>0</td>\n",
       "    </tr>\n",
       "    <tr>\n",
       "      <th>1</th>\n",
       "      <td>2020-04-04 01:10:54</td>\n",
       "      <td>googlealerts-noreply@google.com</td>\n",
       "      <td>&lt;html lang=\"pt-BR\"&gt; &lt;head&gt; &lt;/head&gt; &lt;body&gt; &lt;div...</td>\n",
       "      <td>Google contratos de impacto social Atualização...</td>\n",
       "      <td>la ampliación del bono social costará 23 millo...</td>\n",
       "      <td>2</td>\n",
       "      <td>0</td>\n",
       "    </tr>\n",
       "    <tr>\n",
       "      <th>2</th>\n",
       "      <td>2020-04-04 01:09:50</td>\n",
       "      <td>googlealerts-noreply@google.com</td>\n",
       "      <td>&lt;html lang=\"pt-BR\"&gt; &lt;head&gt; &lt;/head&gt; &lt;body&gt; &lt;div...</td>\n",
       "      <td>Google outcome-based contract Atualização diár...</td>\n",
       "      <td>bono de 380 soles  beneficiarios podrán retira...</td>\n",
       "      <td>2</td>\n",
       "      <td>0</td>\n",
       "    </tr>\n",
       "    <tr>\n",
       "      <th>3</th>\n",
       "      <td>2020-04-04 01:16:32</td>\n",
       "      <td>googlealerts-noreply@google.com</td>\n",
       "      <td>&lt;html lang=\"pt-BR\"&gt; &lt;head&gt; &lt;/head&gt; &lt;body&gt; &lt;div...</td>\n",
       "      <td>Google development impact bond Atualização ass...</td>\n",
       "      <td>está em vigor mp que permite suspensão de cont...</td>\n",
       "      <td>3</td>\n",
       "      <td>0</td>\n",
       "    </tr>\n",
       "    <tr>\n",
       "      <th>4</th>\n",
       "      <td>2020-04-04 01:18:02</td>\n",
       "      <td>googlealerts-noreply@google.com</td>\n",
       "      <td>&lt;html lang=\"pt-BR\"&gt; &lt;head&gt; &lt;/head&gt; &lt;body&gt; &lt;div...</td>\n",
       "      <td>Google outcomes-based contracts Atualização as...</td>\n",
       "      <td>covid 19  a força maior e seus potenciais impa...</td>\n",
       "      <td>3</td>\n",
       "      <td>0</td>\n",
       "    </tr>\n",
       "  </tbody>\n",
       "</table>\n",
       "</div>"
      ],
      "text/plain": [
       "                 Data                               De  \\\n",
       "0 2020-04-03 23:46:37  googlealerts-noreply@google.com   \n",
       "1 2020-04-04 01:10:54  googlealerts-noreply@google.com   \n",
       "2 2020-04-04 01:09:50  googlealerts-noreply@google.com   \n",
       "3 2020-04-04 01:16:32  googlealerts-noreply@google.com   \n",
       "4 2020-04-04 01:18:02  googlealerts-noreply@google.com   \n",
       "\n",
       "                                                HTML  \\\n",
       "0  <html lang=\"pt-BR\"> <head> </head> <body> <div...   \n",
       "1  <html lang=\"pt-BR\"> <head> </head> <body> <div...   \n",
       "2  <html lang=\"pt-BR\"> <head> </head> <body> <div...   \n",
       "3  <html lang=\"pt-BR\"> <head> </head> <body> <div...   \n",
       "4  <html lang=\"pt-BR\"> <head> </head> <body> <div...   \n",
       "\n",
       "                                              Resumo  \\\n",
       "0  Google Bonos del Impacto Social Atualização as...   \n",
       "1  Google contratos de impacto social Atualização...   \n",
       "2  Google outcome-based contract Atualização diár...   \n",
       "3  Google development impact bond Atualização ass...   \n",
       "4  Google outcomes-based contracts Atualização as...   \n",
       "\n",
       "                                              Link_1 Índice  Relevância  \n",
       "0  bono de anses  cómo evitar las aglomeraciones ...      2           0  \n",
       "1  la ampliación del bono social costará 23 millo...      2           0  \n",
       "2  bono de 380 soles  beneficiarios podrán retira...      2           0  \n",
       "3  está em vigor mp que permite suspensão de cont...      3           0  \n",
       "4  covid 19  a força maior e seus potenciais impa...      3           0  "
      ]
     },
     "execution_count": 26,
     "metadata": {},
     "output_type": "execute_result"
    }
   ],
   "source": [
    "# AS MANCHETES DA BASE ESTÃO LIMPAS E EM LETRA MINUSCULA\n",
    "result.head()"
   ]
  },
  {
   "cell_type": "code",
   "execution_count": 27,
   "metadata": {},
   "outputs": [
    {
     "name": "stderr",
     "output_type": "stream",
     "text": [
      "C:\\Users\\Lais Nascimento\\anaconda3\\lib\\site-packages\\sklearn\\externals\\six.py:31: FutureWarning: The module is deprecated in version 0.21 and will be removed in version 0.23 since we've dropped support for Python 2.7. Please rely on the official version of six (https://pypi.org/project/six/).\n",
      "  \"(https://pypi.org/project/six/).\", FutureWarning)\n"
     ]
    }
   ],
   "source": [
    "import pandas as pd\n",
    "import numpy as np\n",
    "from sklearn.tree import DecisionTreeClassifier, DecisionTreeRegressor\n",
    "# from sklearn.datasets import make_regression\n",
    "from sklearn.model_selection import train_test_split\n",
    "from sklearn.model_selection import cross_val_score\n",
    "from sklearn.tree import export_graphviz\n",
    "from sklearn.externals.six import StringIO  \n",
    "from IPython.display import Image  \n",
    "import pydotplus\n",
    "from sklearn.feature_extraction.text import TfidfTransformer\n",
    "\n",
    "from sklearn.metrics import r2_score\n",
    "\n",
    "#pip install pydotpus\n",
    "#pip install graphviz\n",
    "\n",
    "# Seta um valor para o random seed\n",
    "RANDOM_SEED = 42\n",
    "np.random.seed(RANDOM_SEED)"
   ]
  },
  {
   "cell_type": "code",
   "execution_count": 28,
   "metadata": {},
   "outputs": [],
   "source": [
    "# Colunas a serem analisadas\n",
    "X = result.Link_1\n",
    "y = result.Relevância\n",
    "\n"
   ]
  },
  {
   "cell_type": "code",
   "execution_count": 29,
   "metadata": {},
   "outputs": [],
   "source": [
    "# Separa os dados em 90% treino e 10% teste\n",
    "X_train, X_test, y_train, y_test = train_test_split(X, y, test_size=0.1, random_state=RANDOM_SEED)"
   ]
  },
  {
   "cell_type": "markdown",
   "metadata": {},
   "source": [
    "#### Testando Naive-Bayes"
   ]
  },
  {
   "cell_type": "code",
   "execution_count": 30,
   "metadata": {},
   "outputs": [
    {
     "data": {
      "text/plain": [
       "Pipeline(memory=None,\n",
       "         steps=[('vectorizer',\n",
       "                 CountVectorizer(analyzer='word', binary=False,\n",
       "                                 decode_error='strict',\n",
       "                                 dtype=<class 'numpy.int64'>, encoding='utf-8',\n",
       "                                 input='content', lowercase=True, max_df=1.0,\n",
       "                                 max_features=None, min_df=1,\n",
       "                                 ngram_range=(1, 1), preprocessor=None,\n",
       "                                 stop_words=None, strip_accents=None,\n",
       "                                 token_pattern='(?u)\\\\b\\\\w\\\\w+\\\\b',\n",
       "                                 tokenizer=None, vocabulary=None)),\n",
       "                ('classifier',\n",
       "                 MultinomialNB(alpha=1.0, class_prior=None, fit_prior=True))],\n",
       "         verbose=False)"
      ]
     },
     "execution_count": 30,
     "metadata": {},
     "output_type": "execute_result"
    }
   ],
   "source": [
    "from sklearn.feature_extraction.text import CountVectorizer\n",
    "from sklearn.metrics import accuracy_score\n",
    "from sklearn.naive_bayes import MultinomialNB\n",
    "from sklearn.pipeline import Pipeline\n",
    "\n",
    "# Cria modelo.\n",
    "model = Pipeline([\n",
    "    (\"vectorizer\", CountVectorizer()),\n",
    "    (\"classifier\", MultinomialNB())\n",
    "])\n",
    "\n",
    "# Treina modelo.\n",
    "model.fit(X_train, y_train)"
   ]
  },
  {
   "cell_type": "code",
   "execution_count": 31,
   "metadata": {},
   "outputs": [
    {
     "name": "stdout",
     "output_type": "stream",
     "text": [
      "Acurácia: 0.7758620689655172\n"
     ]
    }
   ],
   "source": [
    "# Testa modelo.\n",
    "y_pred = model.predict(X_test)\n",
    "\n",
    "# Calcula acurácia.\n",
    "acc = accuracy_score(y_test, y_pred)\n",
    "\n",
    "print(\"Acurácia: {}\".format(acc))"
   ]
  },
  {
   "cell_type": "code",
   "execution_count": 32,
   "metadata": {},
   "outputs": [],
   "source": [
    "count_vect = CountVectorizer()\n",
    "X_train_counts = count_vect.fit_transform(X)\n",
    "\n",
    "tfidf_transformer = TfidfTransformer()\n",
    "X_train_tfidf = tfidf_transformer.fit_transform(X_train_counts)"
   ]
  },
  {
   "cell_type": "code",
   "execution_count": 33,
   "metadata": {},
   "outputs": [],
   "source": [
    "X_train_DT, X_test_DT, y_train_DT, y_test_DT = train_test_split(X_train_tfidf, y, test_size=0.33, random_state=42)"
   ]
  },
  {
   "cell_type": "code",
   "execution_count": 34,
   "metadata": {},
   "outputs": [],
   "source": [
    "nb = MultinomialNB()"
   ]
  },
  {
   "cell_type": "code",
   "execution_count": 35,
   "metadata": {},
   "outputs": [
    {
     "data": {
      "text/plain": [
       "MultinomialNB(alpha=1.0, class_prior=None, fit_prior=True)"
      ]
     },
     "execution_count": 35,
     "metadata": {},
     "output_type": "execute_result"
    }
   ],
   "source": [
    "nb.fit(X_train_DT, y_train_DT)"
   ]
  },
  {
   "cell_type": "code",
   "execution_count": 36,
   "metadata": {},
   "outputs": [],
   "source": [
    "y_pred_DT = nb.predict(X_test_DT)"
   ]
  },
  {
   "cell_type": "code",
   "execution_count": 37,
   "metadata": {},
   "outputs": [
    {
     "name": "stdout",
     "output_type": "stream",
     "text": [
      "The model accuracy is: 0.6715328467153284\n"
     ]
    }
   ],
   "source": [
    "from sklearn.metrics import precision_score\n",
    "\n",
    "score = precision_score(y_test_DT, y_pred_DT)\n",
    "\n",
    "print(\"The model accuracy is: {0}\".format(score))"
   ]
  },
  {
   "cell_type": "code",
   "execution_count": 38,
   "metadata": {},
   "outputs": [
    {
     "name": "stdout",
     "output_type": "stream",
     "text": [
      "0.7225130890052356\n"
     ]
    }
   ],
   "source": [
    "acc = accuracy_score(y_test_DT, y_pred_DT)\n",
    "print(acc)"
   ]
  },
  {
   "cell_type": "code",
   "execution_count": null,
   "metadata": {},
   "outputs": [],
   "source": []
  }
 ],
 "metadata": {
  "kernelspec": {
   "display_name": "Python 3",
   "language": "python",
   "name": "python3"
  },
  "language_info": {
   "codemirror_mode": {
    "name": "ipython",
    "version": 3
   },
   "file_extension": ".py",
   "mimetype": "text/x-python",
   "name": "python",
   "nbconvert_exporter": "python",
   "pygments_lexer": "ipython3",
   "version": "3.7.6"
  }
 },
 "nbformat": 4,
 "nbformat_minor": 2
}
