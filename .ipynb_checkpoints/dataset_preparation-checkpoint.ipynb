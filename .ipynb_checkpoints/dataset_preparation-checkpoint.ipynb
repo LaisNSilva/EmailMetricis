{
 "cells": [
  {
   "cell_type": "markdown",
   "metadata": {},
   "source": [
    "# Dataset preparation"
   ]
  },
  {
   "cell_type": "markdown",
   "metadata": {},
   "source": [
    "### Fernando Fincatti | Laís Nascimento"
   ]
  },
  {
   "cell_type": "markdown",
   "metadata": {},
   "source": [
    "---\n",
    "<font color=blue, size=\"4\">  __A quick overview of the dataset__\n",
    "    \n",
    "--- "
   ]
  },
  {
   "cell_type": "code",
   "execution_count": 1,
   "metadata": {},
   "outputs": [],
   "source": [
    "import pandas as pd"
   ]
  },
  {
   "cell_type": "code",
   "execution_count": 2,
   "metadata": {},
   "outputs": [],
   "source": [
    "#LENDO O DATASET QUE SERÁ UTILIZADO\n",
    "data = pd.read_excel(\"data.xlsx\", sheet_name=\"fernando\")"
   ]
  },
  {
   "cell_type": "code",
   "execution_count": 3,
   "metadata": {},
   "outputs": [],
   "source": [
    "#ESTE DATASET CONTÊM APENAS AS MANCHETES RELAVANTES PROVENIENTES DA BASE OBC\n",
    "relevantes = pd.read_excel(\"ManchetesRelevantes.xlsx\")"
   ]
  },
  {
   "cell_type": "code",
   "execution_count": 4,
   "metadata": {},
   "outputs": [
    {
     "data": {
      "text/html": [
       "<div>\n",
       "<style scoped>\n",
       "    .dataframe tbody tr th:only-of-type {\n",
       "        vertical-align: middle;\n",
       "    }\n",
       "\n",
       "    .dataframe tbody tr th {\n",
       "        vertical-align: top;\n",
       "    }\n",
       "\n",
       "    .dataframe thead th {\n",
       "        text-align: right;\n",
       "    }\n",
       "</style>\n",
       "<table border=\"1\" class=\"dataframe\">\n",
       "  <thead>\n",
       "    <tr style=\"text-align: right;\">\n",
       "      <th></th>\n",
       "      <th>Data</th>\n",
       "      <th>De</th>\n",
       "      <th>HTML</th>\n",
       "      <th>Resumo</th>\n",
       "    </tr>\n",
       "  </thead>\n",
       "  <tbody>\n",
       "    <tr>\n",
       "      <th>0</th>\n",
       "      <td>2020-04-03 23:46:37</td>\n",
       "      <td>googlealerts-noreply@google.com</td>\n",
       "      <td>&lt;html lang=\"pt-BR\"&gt; &lt;head&gt; &lt;/head&gt; &lt;body&gt; &lt;div...</td>\n",
       "      <td>Google Bonos del Impacto Social Atualização as...</td>\n",
       "    </tr>\n",
       "    <tr>\n",
       "      <th>1</th>\n",
       "      <td>2020-04-04 01:10:54</td>\n",
       "      <td>googlealerts-noreply@google.com</td>\n",
       "      <td>&lt;html lang=\"pt-BR\"&gt; &lt;head&gt; &lt;/head&gt; &lt;body&gt; &lt;div...</td>\n",
       "      <td>Google contratos de impacto social Atualização...</td>\n",
       "    </tr>\n",
       "    <tr>\n",
       "      <th>2</th>\n",
       "      <td>2020-04-04 01:09:50</td>\n",
       "      <td>googlealerts-noreply@google.com</td>\n",
       "      <td>&lt;html lang=\"pt-BR\"&gt; &lt;head&gt; &lt;/head&gt; &lt;body&gt; &lt;div...</td>\n",
       "      <td>Google outcome-based contract Atualização diár...</td>\n",
       "    </tr>\n",
       "    <tr>\n",
       "      <th>3</th>\n",
       "      <td>2020-04-04 01:16:32</td>\n",
       "      <td>googlealerts-noreply@google.com</td>\n",
       "      <td>&lt;html lang=\"pt-BR\"&gt; &lt;head&gt; &lt;/head&gt; &lt;body&gt; &lt;div...</td>\n",
       "      <td>Google development impact bond Atualização ass...</td>\n",
       "    </tr>\n",
       "    <tr>\n",
       "      <th>4</th>\n",
       "      <td>2020-04-04 01:18:02</td>\n",
       "      <td>googlealerts-noreply@google.com</td>\n",
       "      <td>&lt;html lang=\"pt-BR\"&gt; &lt;head&gt; &lt;/head&gt; &lt;body&gt; &lt;div...</td>\n",
       "      <td>Google outcomes-based contracts Atualização as...</td>\n",
       "    </tr>\n",
       "  </tbody>\n",
       "</table>\n",
       "</div>"
      ],
      "text/plain": [
       "                 Data                               De  \\\n",
       "0 2020-04-03 23:46:37  googlealerts-noreply@google.com   \n",
       "1 2020-04-04 01:10:54  googlealerts-noreply@google.com   \n",
       "2 2020-04-04 01:09:50  googlealerts-noreply@google.com   \n",
       "3 2020-04-04 01:16:32  googlealerts-noreply@google.com   \n",
       "4 2020-04-04 01:18:02  googlealerts-noreply@google.com   \n",
       "\n",
       "                                                HTML  \\\n",
       "0  <html lang=\"pt-BR\"> <head> </head> <body> <div...   \n",
       "1  <html lang=\"pt-BR\"> <head> </head> <body> <div...   \n",
       "2  <html lang=\"pt-BR\"> <head> </head> <body> <div...   \n",
       "3  <html lang=\"pt-BR\"> <head> </head> <body> <div...   \n",
       "4  <html lang=\"pt-BR\"> <head> </head> <body> <div...   \n",
       "\n",
       "                                              Resumo  \n",
       "0  Google Bonos del Impacto Social Atualização as...  \n",
       "1  Google contratos de impacto social Atualização...  \n",
       "2  Google outcome-based contract Atualização diár...  \n",
       "3  Google development impact bond Atualização ass...  \n",
       "4  Google outcomes-based contracts Atualização as...  "
      ]
     },
     "execution_count": 4,
     "metadata": {},
     "output_type": "execute_result"
    }
   ],
   "source": [
    "data.head()"
   ]
  },
  {
   "cell_type": "markdown",
   "metadata": {},
   "source": [
    "---\n",
    "<font color=blue, size=\"4\">  __We need to treat the data__\n",
    "    \n",
    "--- "
   ]
  },
  {
   "cell_type": "markdown",
   "metadata": {},
   "source": [
    "For best result, is necessary treat the data. The processes used were:\n",
    "    \n",
    "    1 - Every letter was transform to lowercase letters\n",
    "    \n",
    "    2 - The punctuation was disregarded ([\\ / ! - . : ? ; ])\n",
    "    \n",
    "    3 - We used a text translator to the news in another languege, this way every single news is in English\n",
    "    \n",
    "These procedures were used to make the news belong to the same universe, in other words, the model have more information to work with.\n",
    "\n",
    "---"
   ]
  },
  {
   "cell_type": "code",
   "execution_count": 5,
   "metadata": {},
   "outputs": [],
   "source": [
    "import re"
   ]
  },
  {
   "cell_type": "code",
   "execution_count": 6,
   "metadata": {},
   "outputs": [],
   "source": [
    "def cleanup(text):\n",
    "    import string\n",
    "    punctuation = '[\\/!-.:?;]' # Note que os sinais [] são delimitadores de um conjunto.\n",
    "    pattern = re.compile(punctuation)\n",
    "    text_subbed = re.sub(pattern, ' ', text)\n",
    "    return text_subbed"
   ]
  },
  {
   "cell_type": "code",
   "execution_count": 7,
   "metadata": {},
   "outputs": [],
   "source": [
    "from textblob import TextBlob"
   ]
  },
  {
   "cell_type": "markdown",
   "metadata": {},
   "source": [
    "---\n",
    "For the translator was used the textblob library, to install open Anaconda Prompt and use the command below:\n",
    "\n",
    "$ pip install -U textblob\n",
    "\n",
    "Link: https://kanoki.org/2019/11/06/python-detect-and-translate-language/\n",
    "\n",
    "--- "
   ]
  },
  {
   "cell_type": "markdown",
   "metadata": {},
   "source": [
    "---\n",
    "<font color=blue, size=\"4\">  __Extracting the news from the email's HTML__\n",
    "    \n",
    "--- "
   ]
  },
  {
   "cell_type": "code",
   "execution_count": 8,
   "metadata": {},
   "outputs": [
    {
     "data": {
      "application/vnd.jupyter.widget-view+json": {
       "model_id": "",
       "version_major": 2,
       "version_minor": 0
      },
      "text/plain": [
       "HBox(children=(IntProgress(value=0, max=242), HTML(value='')))"
      ]
     },
     "metadata": {},
     "output_type": "display_data"
    },
    {
     "name": "stdout",
     "output_type": "stream",
     "text": [
      "\r"
     ]
    }
   ],
   "source": [
    "from tqdm.auto import tqdm\n",
    "\n",
    "manchetes = {}\n",
    "contador = 0\n",
    "email=[]\n",
    "lista_manchetes=[]\n",
    "numero_atual = 0\n",
    "loop = tqdm(total = data.shape[0], position = 0, leave = False)\n",
    "for i in data.HTML.index:\n",
    "    loop.set_description(\"Extraindo manchetes...\".format(numero_atual))\n",
    "    loop.update(1)\n",
    "    numero_atual += 1\n",
    "    texto = str(data.HTML[i])\n",
    "    \n",
    "    for indice in range(len(texto)):\n",
    "        \n",
    "        if texto[indice:indice+7] == \"message\":\n",
    "            \n",
    "            manchete_incial = texto[indice+11:indice+150]\n",
    "            achou = False\n",
    "            manchete = \" \"\n",
    "            indice_letra = 0\n",
    "            email.append(i+2)\n",
    "            \n",
    "            while indice_letra < len(manchete_incial):\n",
    "                \n",
    "                if manchete_incial[indice_letra] == \"}\":\n",
    "                    \n",
    "                    manchete = manchete_incial[0:indice_letra-6]\n",
    "                    achou = True\n",
    "                    manchetes[contador] = manchete\n",
    "\n",
    "                    manchete_limpa = cleanup(manchete)\n",
    "                    manchete_min = manchete_limpa.lower()\n",
    "\n",
    "                    try:\n",
    "                        hi_blob = TextBlob(manchete_min)\n",
    "                        manchete_pronta = hi_blob.translate(to='en')\n",
    "                    except:\n",
    "                        manchete_pronta = manchete_min\n",
    "\n",
    "                    lista_manchetes.append(str(manchete_pronta))\n",
    "                    contador += 1\n",
    "                    break\n",
    "                        \n",
    "                else:\n",
    "                    \n",
    "                    indice_letra += 1\n",
    "loop.close()"
   ]
  },
  {
   "cell_type": "markdown",
   "metadata": {},
   "source": [
    "for i in data.index:\n",
    "    manchete = data.HTML[i]\n",
    "    contador = 0\n",
    "    url = False\n",
    "    inicio = 0\n",
    "    while contador < len(manchete):\n",
    "        if manchete[contador:contador+5] == '\"url\"':\n",
    "            print(manchete[contador+8])\n",
    "            inicio = contador+8\n",
    "            url = True\n",
    "            contador = contador+8\n",
    "        \n",
    "        if url == True and manchete[contador] == '\"':\n",
    "            link = manchete[inicio:contador]\n",
    "            print(link)\n",
    "            break\n",
    "        contador+= 1\n",
    "            "
   ]
  },
  {
   "cell_type": "markdown",
   "metadata": {},
   "source": [
    "---\n",
    "<font color=blue, size=\"4\">  __Adding the relevant news__\n",
    "    \n",
    "--- "
   ]
  },
  {
   "cell_type": "code",
   "execution_count": 11,
   "metadata": {},
   "outputs": [],
   "source": [
    "lista_backup = []"
   ]
  },
  {
   "cell_type": "code",
   "execution_count": 12,
   "metadata": {},
   "outputs": [
    {
     "data": {
      "application/vnd.jupyter.widget-view+json": {
       "model_id": "",
       "version_major": 2,
       "version_minor": 0
      },
      "text/plain": [
       "HBox(children=(IntProgress(value=0, max=289), HTML(value='')))"
      ]
     },
     "metadata": {},
     "output_type": "display_data"
    },
    {
     "name": "stdout",
     "output_type": "stream",
     "text": [
      "\r"
     ]
    }
   ],
   "source": [
    "loop = tqdm(total = relevantes.shape[0], position = 0, leave = False)\n",
    "numero_atual = 0\n",
    "for i in relevantes.index:\n",
    "    loop.set_description(\"Manchetes base OBC...\".format(numero_atual))\n",
    "    loop.update(1)\n",
    "    numero_atual += 1\n",
    "    \n",
    "    manchete_relevante = str(relevantes[\"Manchetes da Base de Dados\"][i])\n",
    "    manchete_relevante_limpa = cleanup(manchete_relevante)\n",
    "    manchete_relevante_min = manchete_relevante_limpa.lower()\n",
    "    \n",
    "    try:\n",
    "        manchete_relevante_blob = TextBlob(manchete_relevante_min)\n",
    "        manchete_relevante_traduzida = manchete_relevante_blob.translate(to='en')\n",
    "    except:\n",
    "        manchete_relevante_traduzida = manchete_relevante_min\n",
    "        \n",
    "    lista_manchetes.append(str(manchete_relevante_traduzida))\n",
    "    lista_backup.append(str(manchete_relevante_traduzida))\n",
    "    email.append(\"-1\")\n",
    "\n",
    "loop.close()"
   ]
  },
  {
   "cell_type": "code",
   "execution_count": 14,
   "metadata": {},
   "outputs": [],
   "source": [
    "dicionario = {}\n",
    "    \n",
    "dicionario['Manchetes'] = lista_manchetes\n",
    "dicionario['Indice'] = email"
   ]
  },
  {
   "cell_type": "code",
   "execution_count": 15,
   "metadata": {},
   "outputs": [],
   "source": [
    "data_manchetes = pd.DataFrame(data=dicionario)"
   ]
  },
  {
   "cell_type": "code",
   "execution_count": 16,
   "metadata": {},
   "outputs": [
    {
     "data": {
      "text/html": [
       "<div>\n",
       "<style scoped>\n",
       "    .dataframe tbody tr th:only-of-type {\n",
       "        vertical-align: middle;\n",
       "    }\n",
       "\n",
       "    .dataframe tbody tr th {\n",
       "        vertical-align: top;\n",
       "    }\n",
       "\n",
       "    .dataframe thead th {\n",
       "        text-align: right;\n",
       "    }\n",
       "</style>\n",
       "<table border=\"1\" class=\"dataframe\">\n",
       "  <thead>\n",
       "    <tr style=\"text-align: right;\">\n",
       "      <th></th>\n",
       "      <th>Manchetes</th>\n",
       "      <th>Indice</th>\n",
       "    </tr>\n",
       "  </thead>\n",
       "  <tbody>\n",
       "    <tr>\n",
       "      <th>0</th>\n",
       "      <td>bono de anses  cómo evitar las aglomeraciones ...</td>\n",
       "      <td>2</td>\n",
       "    </tr>\n",
       "    <tr>\n",
       "      <th>1</th>\n",
       "      <td>la ampliación del bono social costará 23 millo...</td>\n",
       "      <td>2</td>\n",
       "    </tr>\n",
       "    <tr>\n",
       "      <th>2</th>\n",
       "      <td>bono de 380 soles  beneficiarios podrán retira...</td>\n",
       "      <td>2</td>\n",
       "    </tr>\n",
       "    <tr>\n",
       "      <th>3</th>\n",
       "      <td>está em vigor mp que permite suspensão de cont...</td>\n",
       "      <td>3</td>\n",
       "    </tr>\n",
       "    <tr>\n",
       "      <th>4</th>\n",
       "      <td>covid 19  a força maior e seus potenciais impa...</td>\n",
       "      <td>3</td>\n",
       "    </tr>\n",
       "  </tbody>\n",
       "</table>\n",
       "</div>"
      ],
      "text/plain": [
       "                                           Manchetes Indice\n",
       "0  bono de anses  cómo evitar las aglomeraciones ...      2\n",
       "1  la ampliación del bono social costará 23 millo...      2\n",
       "2  bono de 380 soles  beneficiarios podrán retira...      2\n",
       "3  está em vigor mp que permite suspensão de cont...      3\n",
       "4  covid 19  a força maior e seus potenciais impa...      3"
      ]
     },
     "execution_count": 16,
     "metadata": {},
     "output_type": "execute_result"
    }
   ],
   "source": [
    "data_manchetes.head()"
   ]
  },
  {
   "cell_type": "code",
   "execution_count": 17,
   "metadata": {},
   "outputs": [],
   "source": [
    "result = pd.concat([data, data_manchetes], ignore_index=True, axis=1)"
   ]
  },
  {
   "cell_type": "code",
   "execution_count": 18,
   "metadata": {},
   "outputs": [],
   "source": [
    "result.columns = ['Data','De','HTML','Resumo','Link 1','Índice']"
   ]
  },
  {
   "cell_type": "code",
   "execution_count": 19,
   "metadata": {},
   "outputs": [],
   "source": [
    "result[\"Relevância\"] = int(0)"
   ]
  },
  {
   "cell_type": "code",
   "execution_count": 20,
   "metadata": {},
   "outputs": [
    {
     "data": {
      "text/html": [
       "<div>\n",
       "<style scoped>\n",
       "    .dataframe tbody tr th:only-of-type {\n",
       "        vertical-align: middle;\n",
       "    }\n",
       "\n",
       "    .dataframe tbody tr th {\n",
       "        vertical-align: top;\n",
       "    }\n",
       "\n",
       "    .dataframe thead th {\n",
       "        text-align: right;\n",
       "    }\n",
       "</style>\n",
       "<table border=\"1\" class=\"dataframe\">\n",
       "  <thead>\n",
       "    <tr style=\"text-align: right;\">\n",
       "      <th></th>\n",
       "      <th>Data</th>\n",
       "      <th>De</th>\n",
       "      <th>HTML</th>\n",
       "      <th>Resumo</th>\n",
       "      <th>Link 1</th>\n",
       "      <th>Índice</th>\n",
       "      <th>Relevância</th>\n",
       "    </tr>\n",
       "  </thead>\n",
       "  <tbody>\n",
       "    <tr>\n",
       "      <th>0</th>\n",
       "      <td>2020-04-03 23:46:37</td>\n",
       "      <td>googlealerts-noreply@google.com</td>\n",
       "      <td>&lt;html lang=\"pt-BR\"&gt; &lt;head&gt; &lt;/head&gt; &lt;body&gt; &lt;div...</td>\n",
       "      <td>Google Bonos del Impacto Social Atualização as...</td>\n",
       "      <td>bono de anses  cómo evitar las aglomeraciones ...</td>\n",
       "      <td>2</td>\n",
       "      <td>0</td>\n",
       "    </tr>\n",
       "    <tr>\n",
       "      <th>1</th>\n",
       "      <td>2020-04-04 01:10:54</td>\n",
       "      <td>googlealerts-noreply@google.com</td>\n",
       "      <td>&lt;html lang=\"pt-BR\"&gt; &lt;head&gt; &lt;/head&gt; &lt;body&gt; &lt;div...</td>\n",
       "      <td>Google contratos de impacto social Atualização...</td>\n",
       "      <td>la ampliación del bono social costará 23 millo...</td>\n",
       "      <td>2</td>\n",
       "      <td>0</td>\n",
       "    </tr>\n",
       "    <tr>\n",
       "      <th>2</th>\n",
       "      <td>2020-04-04 01:09:50</td>\n",
       "      <td>googlealerts-noreply@google.com</td>\n",
       "      <td>&lt;html lang=\"pt-BR\"&gt; &lt;head&gt; &lt;/head&gt; &lt;body&gt; &lt;div...</td>\n",
       "      <td>Google outcome-based contract Atualização diár...</td>\n",
       "      <td>bono de 380 soles  beneficiarios podrán retira...</td>\n",
       "      <td>2</td>\n",
       "      <td>0</td>\n",
       "    </tr>\n",
       "    <tr>\n",
       "      <th>3</th>\n",
       "      <td>2020-04-04 01:16:32</td>\n",
       "      <td>googlealerts-noreply@google.com</td>\n",
       "      <td>&lt;html lang=\"pt-BR\"&gt; &lt;head&gt; &lt;/head&gt; &lt;body&gt; &lt;div...</td>\n",
       "      <td>Google development impact bond Atualização ass...</td>\n",
       "      <td>está em vigor mp que permite suspensão de cont...</td>\n",
       "      <td>3</td>\n",
       "      <td>0</td>\n",
       "    </tr>\n",
       "    <tr>\n",
       "      <th>4</th>\n",
       "      <td>2020-04-04 01:18:02</td>\n",
       "      <td>googlealerts-noreply@google.com</td>\n",
       "      <td>&lt;html lang=\"pt-BR\"&gt; &lt;head&gt; &lt;/head&gt; &lt;body&gt; &lt;div...</td>\n",
       "      <td>Google outcomes-based contracts Atualização as...</td>\n",
       "      <td>covid 19  a força maior e seus potenciais impa...</td>\n",
       "      <td>3</td>\n",
       "      <td>0</td>\n",
       "    </tr>\n",
       "  </tbody>\n",
       "</table>\n",
       "</div>"
      ],
      "text/plain": [
       "                 Data                               De  \\\n",
       "0 2020-04-03 23:46:37  googlealerts-noreply@google.com   \n",
       "1 2020-04-04 01:10:54  googlealerts-noreply@google.com   \n",
       "2 2020-04-04 01:09:50  googlealerts-noreply@google.com   \n",
       "3 2020-04-04 01:16:32  googlealerts-noreply@google.com   \n",
       "4 2020-04-04 01:18:02  googlealerts-noreply@google.com   \n",
       "\n",
       "                                                HTML  \\\n",
       "0  <html lang=\"pt-BR\"> <head> </head> <body> <div...   \n",
       "1  <html lang=\"pt-BR\"> <head> </head> <body> <div...   \n",
       "2  <html lang=\"pt-BR\"> <head> </head> <body> <div...   \n",
       "3  <html lang=\"pt-BR\"> <head> </head> <body> <div...   \n",
       "4  <html lang=\"pt-BR\"> <head> </head> <body> <div...   \n",
       "\n",
       "                                              Resumo  \\\n",
       "0  Google Bonos del Impacto Social Atualização as...   \n",
       "1  Google contratos de impacto social Atualização...   \n",
       "2  Google outcome-based contract Atualização diár...   \n",
       "3  Google development impact bond Atualização ass...   \n",
       "4  Google outcomes-based contracts Atualização as...   \n",
       "\n",
       "                                              Link 1 Índice  Relevância  \n",
       "0  bono de anses  cómo evitar las aglomeraciones ...      2           0  \n",
       "1  la ampliación del bono social costará 23 millo...      2           0  \n",
       "2  bono de 380 soles  beneficiarios podrán retira...      2           0  \n",
       "3  está em vigor mp que permite suspensão de cont...      3           0  \n",
       "4  covid 19  a força maior e seus potenciais impa...      3           0  "
      ]
     },
     "execution_count": 20,
     "metadata": {},
     "output_type": "execute_result"
    }
   ],
   "source": [
    "result.head()"
   ]
  },
  {
   "cell_type": "markdown",
   "metadata": {},
   "source": [
    "---\n",
    "<font color=blue, size=\"4\">  __Adding the relevance column__\n",
    "    \n",
    "--- "
   ]
  },
  {
   "cell_type": "code",
   "execution_count": 21,
   "metadata": {},
   "outputs": [],
   "source": [
    "data_backup = pd.read_excel(\"data.xlsx\", sheet_name=\"backup\")"
   ]
  },
  {
   "cell_type": "code",
   "execution_count": 22,
   "metadata": {},
   "outputs": [
    {
     "data": {
      "application/vnd.jupyter.widget-view+json": {
       "model_id": "",
       "version_major": 2,
       "version_minor": 0
      },
      "text/plain": [
       "HBox(children=(IntProgress(value=0, max=41), HTML(value='')))"
      ]
     },
     "metadata": {},
     "output_type": "display_data"
    },
    {
     "name": "stdout",
     "output_type": "stream",
     "text": [
      "\r"
     ]
    }
   ],
   "source": [
    "loop = tqdm(total = data_backup.shape[0], position = 0, leave=False)\n",
    "numero_atual = 0 \n",
    "for i in data_backup.index:\n",
    "    loop.set_description(\"Adicionando manchetes relevantes...\".format(numero_atual))\n",
    "    loop.update(1)\n",
    "    \n",
    "    numero_atual += 1 \n",
    "    \n",
    "    \n",
    "    manchete_d = str(data_backup.Manchetes[i])\n",
    "    manchete_d_limpa = cleanup(manchete_d)\n",
    "    manchete_d_min = manchete_d_limpa.lower()\n",
    "    \n",
    "    try:\n",
    "        manchete_d_min_blob = TextBlob(manchete_d_min)\n",
    "        manchete_d_traduzida = manchete_d_min_blob.translate(to='en')\n",
    "    except:\n",
    "        manchete_d_traduzida = manchete_d_min\n",
    "    \n",
    "    lista_backup.append(str(manchete_d_traduzida))\n",
    "    \n",
    "loop.close()"
   ]
  },
  {
   "cell_type": "code",
   "execution_count": 24,
   "metadata": {},
   "outputs": [
    {
     "name": "stderr",
     "output_type": "stream",
     "text": [
      "C:\\Users\\Fernando\\Anaconda3\\lib\\site-packages\\ipykernel_launcher.py:4: SettingWithCopyWarning: \n",
      "A value is trying to be set on a copy of a slice from a DataFrame\n",
      "\n",
      "See the caveats in the documentation: https://pandas.pydata.org/pandas-docs/stable/user_guide/indexing.html#returning-a-view-versus-a-copy\n",
      "  after removing the cwd from sys.path.\n"
     ]
    }
   ],
   "source": [
    "rel = 0\n",
    "for i in result.index:\n",
    "    if result[\"Link 1\"][i] in lista_backup:\n",
    "        result.Relevância[i] = int(1)\n",
    "        rel += 1"
   ]
  },
  {
   "cell_type": "code",
   "execution_count": 25,
   "metadata": {
    "scrolled": true
   },
   "outputs": [
    {
     "data": {
      "text/plain": [
       "1    0.50229\n",
       "0    0.49771\n",
       "Name: Relevância, dtype: float64"
      ]
     },
     "execution_count": 25,
     "metadata": {},
     "output_type": "execute_result"
    }
   ],
   "source": [
    "result.Relevância.value_counts(True)"
   ]
  },
  {
   "cell_type": "code",
   "execution_count": 26,
   "metadata": {},
   "outputs": [
    {
     "data": {
      "text/html": [
       "<div>\n",
       "<style scoped>\n",
       "    .dataframe tbody tr th:only-of-type {\n",
       "        vertical-align: middle;\n",
       "    }\n",
       "\n",
       "    .dataframe tbody tr th {\n",
       "        vertical-align: top;\n",
       "    }\n",
       "\n",
       "    .dataframe thead th {\n",
       "        text-align: right;\n",
       "    }\n",
       "</style>\n",
       "<table border=\"1\" class=\"dataframe\">\n",
       "  <thead>\n",
       "    <tr style=\"text-align: right;\">\n",
       "      <th></th>\n",
       "      <th>Data</th>\n",
       "      <th>De</th>\n",
       "      <th>HTML</th>\n",
       "      <th>Resumo</th>\n",
       "      <th>Link 1</th>\n",
       "      <th>Índice</th>\n",
       "      <th>Relevância</th>\n",
       "    </tr>\n",
       "  </thead>\n",
       "  <tbody>\n",
       "    <tr>\n",
       "      <th>0</th>\n",
       "      <td>2020-04-03 23:46:37</td>\n",
       "      <td>googlealerts-noreply@google.com</td>\n",
       "      <td>&lt;html lang=\"pt-BR\"&gt; &lt;head&gt; &lt;/head&gt; &lt;body&gt; &lt;div...</td>\n",
       "      <td>Google Bonos del Impacto Social Atualização as...</td>\n",
       "      <td>bono de anses  cómo evitar las aglomeraciones ...</td>\n",
       "      <td>2</td>\n",
       "      <td>0</td>\n",
       "    </tr>\n",
       "    <tr>\n",
       "      <th>1</th>\n",
       "      <td>2020-04-04 01:10:54</td>\n",
       "      <td>googlealerts-noreply@google.com</td>\n",
       "      <td>&lt;html lang=\"pt-BR\"&gt; &lt;head&gt; &lt;/head&gt; &lt;body&gt; &lt;div...</td>\n",
       "      <td>Google contratos de impacto social Atualização...</td>\n",
       "      <td>la ampliación del bono social costará 23 millo...</td>\n",
       "      <td>2</td>\n",
       "      <td>0</td>\n",
       "    </tr>\n",
       "    <tr>\n",
       "      <th>2</th>\n",
       "      <td>2020-04-04 01:09:50</td>\n",
       "      <td>googlealerts-noreply@google.com</td>\n",
       "      <td>&lt;html lang=\"pt-BR\"&gt; &lt;head&gt; &lt;/head&gt; &lt;body&gt; &lt;div...</td>\n",
       "      <td>Google outcome-based contract Atualização diár...</td>\n",
       "      <td>bono de 380 soles  beneficiarios podrán retira...</td>\n",
       "      <td>2</td>\n",
       "      <td>0</td>\n",
       "    </tr>\n",
       "    <tr>\n",
       "      <th>3</th>\n",
       "      <td>2020-04-04 01:16:32</td>\n",
       "      <td>googlealerts-noreply@google.com</td>\n",
       "      <td>&lt;html lang=\"pt-BR\"&gt; &lt;head&gt; &lt;/head&gt; &lt;body&gt; &lt;div...</td>\n",
       "      <td>Google development impact bond Atualização ass...</td>\n",
       "      <td>está em vigor mp que permite suspensão de cont...</td>\n",
       "      <td>3</td>\n",
       "      <td>0</td>\n",
       "    </tr>\n",
       "    <tr>\n",
       "      <th>4</th>\n",
       "      <td>2020-04-04 01:18:02</td>\n",
       "      <td>googlealerts-noreply@google.com</td>\n",
       "      <td>&lt;html lang=\"pt-BR\"&gt; &lt;head&gt; &lt;/head&gt; &lt;body&gt; &lt;div...</td>\n",
       "      <td>Google outcomes-based contracts Atualização as...</td>\n",
       "      <td>covid 19  a força maior e seus potenciais impa...</td>\n",
       "      <td>3</td>\n",
       "      <td>0</td>\n",
       "    </tr>\n",
       "  </tbody>\n",
       "</table>\n",
       "</div>"
      ],
      "text/plain": [
       "                 Data                               De  \\\n",
       "0 2020-04-03 23:46:37  googlealerts-noreply@google.com   \n",
       "1 2020-04-04 01:10:54  googlealerts-noreply@google.com   \n",
       "2 2020-04-04 01:09:50  googlealerts-noreply@google.com   \n",
       "3 2020-04-04 01:16:32  googlealerts-noreply@google.com   \n",
       "4 2020-04-04 01:18:02  googlealerts-noreply@google.com   \n",
       "\n",
       "                                                HTML  \\\n",
       "0  <html lang=\"pt-BR\"> <head> </head> <body> <div...   \n",
       "1  <html lang=\"pt-BR\"> <head> </head> <body> <div...   \n",
       "2  <html lang=\"pt-BR\"> <head> </head> <body> <div...   \n",
       "3  <html lang=\"pt-BR\"> <head> </head> <body> <div...   \n",
       "4  <html lang=\"pt-BR\"> <head> </head> <body> <div...   \n",
       "\n",
       "                                              Resumo  \\\n",
       "0  Google Bonos del Impacto Social Atualização as...   \n",
       "1  Google contratos de impacto social Atualização...   \n",
       "2  Google outcome-based contract Atualização diár...   \n",
       "3  Google development impact bond Atualização ass...   \n",
       "4  Google outcomes-based contracts Atualização as...   \n",
       "\n",
       "                                              Link 1 Índice  Relevância  \n",
       "0  bono de anses  cómo evitar las aglomeraciones ...      2           0  \n",
       "1  la ampliación del bono social costará 23 millo...      2           0  \n",
       "2  bono de 380 soles  beneficiarios podrán retira...      2           0  \n",
       "3  está em vigor mp que permite suspensão de cont...      3           0  \n",
       "4  covid 19  a força maior e seus potenciais impa...      3           0  "
      ]
     },
     "execution_count": 26,
     "metadata": {},
     "output_type": "execute_result"
    }
   ],
   "source": [
    "result.head()"
   ]
  },
  {
   "cell_type": "code",
   "execution_count": 28,
   "metadata": {},
   "outputs": [
    {
     "data": {
      "text/plain": [
       "(655, 7)"
      ]
     },
     "execution_count": 28,
     "metadata": {},
     "output_type": "execute_result"
    }
   ],
   "source": [
    "result.shape"
   ]
  },
  {
   "cell_type": "code",
   "execution_count": null,
   "metadata": {},
   "outputs": [],
   "source": [
    "print(\"DATASET PRONTO PARA USO!\")"
   ]
  }
 ],
 "metadata": {
  "kernelspec": {
   "display_name": "Python 3",
   "language": "python",
   "name": "python3"
  },
  "language_info": {
   "codemirror_mode": {
    "name": "ipython",
    "version": 3
   },
   "file_extension": ".py",
   "mimetype": "text/x-python",
   "name": "python",
   "nbconvert_exporter": "python",
   "pygments_lexer": "ipython3",
   "version": "3.7.1"
  }
 },
 "nbformat": 4,
 "nbformat_minor": 2
}
