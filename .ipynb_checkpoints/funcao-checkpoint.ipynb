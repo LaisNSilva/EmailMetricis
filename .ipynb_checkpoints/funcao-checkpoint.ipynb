{
 "cells": [
  {
   "cell_type": "markdown",
   "metadata": {},
   "source": [
    "# Função - Classificador"
   ]
  },
  {
   "cell_type": "markdown",
   "metadata": {},
   "source": [
    "Está função será chamada pelo botão \"Processar\" da inteface.\n",
    "\n",
    "Ela irá treinar um modelo com nossa base já classificada. Posteriormente irá pegar o excel selecioando e irá classificá-lo."
   ]
  },
  {
   "cell_type": "code",
   "execution_count": 1,
   "metadata": {},
   "outputs": [],
   "source": [
    "from sklearn.model_selection import train_test_split\n",
    "from sklearn import svm\n",
    "from sklearn.metrics import f1_score, recall_score\n",
    "from sklearn.feature_extraction.text import CountVectorizer\n",
    "from sklearn.feature_extraction.text import TfidfTransformer\n",
    "from sklearn.metrics import confusion_matrix\n",
    "from sklearn.metrics import precision_score"
   ]
  },
  {
   "cell_type": "markdown",
   "metadata": {},
   "source": [
    "### Função de preparo as manhcetes"
   ]
  },
  {
   "cell_type": "code",
   "execution_count": 2,
   "metadata": {},
   "outputs": [],
   "source": [
    "# Pegar só as manchetes e limpar \n",
    "# igual está no DATASET_PREPARATION!!!\n",
    "\n",
    "def praparation (excel):\n",
    "    \n",
    "    \n",
    "    "
   ]
  },
  {
   "cell_type": "markdown",
   "metadata": {},
   "source": [
    "Por enquanto irei fazer considerando apenas o modelo SVM"
   ]
  },
  {
   "cell_type": "code",
   "execution_count": null,
   "metadata": {},
   "outputs": [],
   "source": [
    "def classificar (treino, arquivo):\n",
    "    \n",
    "    # Pegando as manchetes e suas respctivas relevâncias \n",
    "    X = treino.loc[:, \"Link 1\"]\n",
    "    y = arquivo.loc[:, \"Relevância\"]\n",
    "    \n",
    "    # Vetorizando\n",
    "    count_vect = CountVectorizer()\n",
    "    X_train_counts = count_vect.fit_transform(X)\n",
    "\n",
    "    tfidf_transformer = TfidfTransformer()\n",
    "    X_train_tfidf = tfidf_transformer.fit_transform(X_train_counts)\n",
    "    \n",
    "    # Sepando em teste e treino\n",
    "    # Porém vou colocar tudo para treino\n",
    "    X_train, X_test, y_train, y_test = train_test_split(X_train_tfidf, y, test_size=0, random_state=42)\n",
    "    \n",
    "    #Aplicando o modelo SVM (Support Vector Machine)\n",
    "\n",
    "    kernels = ['linear', 'poly', 'rbf', 'sigmoid', 'precomputed']\n",
    "\n",
    "    model = svm.SVC(kernel = 'linear') #Kernel\n",
    "\n",
    "    #Dando fit no modelo SVM usando o dataset de treino\n",
    "    model.fit(X_train, y_train)\n",
    " # -------------------------------------------------------------------------------------------------------------   \n",
    "    \n",
    "    # Lendo o arquivo novo\n",
    "    arquivo = pd.read_excel(arquivo)\n",
    "    \n",
    "    # Prepara a base \n",
    "    arquivo = praparation(arquivo)\n",
    "    \n",
    "    # Pegando as manchestes do arquivo novo\n",
    "    X_novo = arquivo.loc[:, \"Link 1\"]\n",
    "    \n",
    "    #Classificação\n",
    "    predict = model.predict(X_test)\n",
    "    \n",
    "    # Fazer o retorno\n",
    "    \n",
    "    # Lista\n",
    "    manchetes = X_novo\n",
    "    pred = predict\n",
    "    \n",
    "    # Dicionarios\n",
    "    dic = {}\n",
    "    \n",
    "    dic['Manchetes'] = manchetes\n",
    "    dic['Classificação'] = pred\n",
    "    \n",
    "    # Data\n",
    "    classificados = pd.DataFrame(data=dic)\n",
    "    \n",
    "    # Tranformando em Excel\n",
    "    planilha = classificados.to_excel (r'Path para armazenar o arquivo excel exportado \\ File Name.xlsx ', index = False)\n",
    "    \n",
    "    return planilha \n",
    "    \n",
    "    \n",
    "    \n",
    "    \n",
    "\n",
    "    \n",
    "    "
   ]
  }
 ],
 "metadata": {
  "kernelspec": {
   "display_name": "Python 3",
   "language": "python",
   "name": "python3"
  },
  "language_info": {
   "codemirror_mode": {
    "name": "ipython",
    "version": 3
   },
   "file_extension": ".py",
   "mimetype": "text/x-python",
   "name": "python",
   "nbconvert_exporter": "python",
   "pygments_lexer": "ipython3",
   "version": "3.7.6"
  }
 },
 "nbformat": 4,
 "nbformat_minor": 4
}
