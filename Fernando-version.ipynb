{
 "cells": [
  {
   "cell_type": "code",
   "execution_count": 1,
   "metadata": {},
   "outputs": [],
   "source": [
    "import pandas as pd"
   ]
  },
  {
   "cell_type": "code",
   "execution_count": 2,
   "metadata": {},
   "outputs": [],
   "source": [
    "data = pd.read_excel(\"data.xlsx\", sheet_name=\"fernando\")"
   ]
  },
  {
   "cell_type": "code",
   "execution_count": 3,
   "metadata": {},
   "outputs": [],
   "source": [
    "relevantes = pd.read_excel(\"ManchetesRelevantes.xlsx\")"
   ]
  },
  {
   "cell_type": "code",
   "execution_count": 4,
   "metadata": {},
   "outputs": [
    {
     "data": {
      "text/html": [
       "<div>\n",
       "<style scoped>\n",
       "    .dataframe tbody tr th:only-of-type {\n",
       "        vertical-align: middle;\n",
       "    }\n",
       "\n",
       "    .dataframe tbody tr th {\n",
       "        vertical-align: top;\n",
       "    }\n",
       "\n",
       "    .dataframe thead th {\n",
       "        text-align: right;\n",
       "    }\n",
       "</style>\n",
       "<table border=\"1\" class=\"dataframe\">\n",
       "  <thead>\n",
       "    <tr style=\"text-align: right;\">\n",
       "      <th></th>\n",
       "      <th>Data</th>\n",
       "      <th>De</th>\n",
       "      <th>HTML</th>\n",
       "      <th>Resumo</th>\n",
       "    </tr>\n",
       "  </thead>\n",
       "  <tbody>\n",
       "    <tr>\n",
       "      <th>0</th>\n",
       "      <td>2020-04-03 23:46:37</td>\n",
       "      <td>googlealerts-noreply@google.com</td>\n",
       "      <td>&lt;html lang=\"pt-BR\"&gt; &lt;head&gt; &lt;/head&gt; &lt;body&gt; &lt;div...</td>\n",
       "      <td>Google Bonos del Impacto Social Atualização as...</td>\n",
       "    </tr>\n",
       "    <tr>\n",
       "      <th>1</th>\n",
       "      <td>2020-04-04 01:10:54</td>\n",
       "      <td>googlealerts-noreply@google.com</td>\n",
       "      <td>&lt;html lang=\"pt-BR\"&gt; &lt;head&gt; &lt;/head&gt; &lt;body&gt; &lt;div...</td>\n",
       "      <td>Google contratos de impacto social Atualização...</td>\n",
       "    </tr>\n",
       "    <tr>\n",
       "      <th>2</th>\n",
       "      <td>2020-04-04 01:09:50</td>\n",
       "      <td>googlealerts-noreply@google.com</td>\n",
       "      <td>&lt;html lang=\"pt-BR\"&gt; &lt;head&gt; &lt;/head&gt; &lt;body&gt; &lt;div...</td>\n",
       "      <td>Google outcome-based contract Atualização diár...</td>\n",
       "    </tr>\n",
       "    <tr>\n",
       "      <th>3</th>\n",
       "      <td>2020-04-04 01:16:32</td>\n",
       "      <td>googlealerts-noreply@google.com</td>\n",
       "      <td>&lt;html lang=\"pt-BR\"&gt; &lt;head&gt; &lt;/head&gt; &lt;body&gt; &lt;div...</td>\n",
       "      <td>Google development impact bond Atualização ass...</td>\n",
       "    </tr>\n",
       "    <tr>\n",
       "      <th>4</th>\n",
       "      <td>2020-04-04 01:18:02</td>\n",
       "      <td>googlealerts-noreply@google.com</td>\n",
       "      <td>&lt;html lang=\"pt-BR\"&gt; &lt;head&gt; &lt;/head&gt; &lt;body&gt; &lt;div...</td>\n",
       "      <td>Google outcomes-based contracts Atualização as...</td>\n",
       "    </tr>\n",
       "  </tbody>\n",
       "</table>\n",
       "</div>"
      ],
      "text/plain": [
       "                 Data                               De  \\\n",
       "0 2020-04-03 23:46:37  googlealerts-noreply@google.com   \n",
       "1 2020-04-04 01:10:54  googlealerts-noreply@google.com   \n",
       "2 2020-04-04 01:09:50  googlealerts-noreply@google.com   \n",
       "3 2020-04-04 01:16:32  googlealerts-noreply@google.com   \n",
       "4 2020-04-04 01:18:02  googlealerts-noreply@google.com   \n",
       "\n",
       "                                                HTML  \\\n",
       "0  <html lang=\"pt-BR\"> <head> </head> <body> <div...   \n",
       "1  <html lang=\"pt-BR\"> <head> </head> <body> <div...   \n",
       "2  <html lang=\"pt-BR\"> <head> </head> <body> <div...   \n",
       "3  <html lang=\"pt-BR\"> <head> </head> <body> <div...   \n",
       "4  <html lang=\"pt-BR\"> <head> </head> <body> <div...   \n",
       "\n",
       "                                              Resumo  \n",
       "0  Google Bonos del Impacto Social Atualização as...  \n",
       "1  Google contratos de impacto social Atualização...  \n",
       "2  Google outcome-based contract Atualização diár...  \n",
       "3  Google development impact bond Atualização ass...  \n",
       "4  Google outcomes-based contracts Atualização as...  "
      ]
     },
     "execution_count": 4,
     "metadata": {},
     "output_type": "execute_result"
    }
   ],
   "source": [
    "data.head()"
   ]
  },
  {
   "cell_type": "code",
   "execution_count": 5,
   "metadata": {},
   "outputs": [
    {
     "data": {
      "text/plain": [
       "0    <html lang=\"pt-BR\"> <head> </head> <body> <div...\n",
       "1    <html lang=\"pt-BR\"> <head> </head> <body> <div...\n",
       "2    <html lang=\"pt-BR\"> <head> </head> <body> <div...\n",
       "3    <html lang=\"pt-BR\"> <head> </head> <body> <div...\n",
       "4    <html lang=\"pt-BR\"> <head> </head> <body> <div...\n",
       "Name: HTML, dtype: object"
      ]
     },
     "execution_count": 5,
     "metadata": {},
     "output_type": "execute_result"
    }
   ],
   "source": [
    "html_column = data.HTML\n",
    "html_column.head()"
   ]
  },
  {
   "cell_type": "code",
   "execution_count": 6,
   "metadata": {},
   "outputs": [],
   "source": [
    "manchetes = {}\n",
    "contador = 0\n",
    "email=[]\n",
    "lista_manchetes=[]\n",
    "for i in html_column.index:\n",
    "    texto = str(html_column[i])\n",
    "    for indice in range(len(texto)):\n",
    "        if texto[indice:indice+7] == \"message\":\n",
    "            manchete_incial = texto[indice+11:indice+150]\n",
    "            achou = False\n",
    "            manchete = \" \"\n",
    "            indice_letra = 0\n",
    "            email.append(i+2)\n",
    "            while indice_letra < len(manchete_incial):\n",
    "                if manchete_incial[indice_letra] == \"}\":\n",
    "                        manchete = manchete_incial[0:indice_letra-6]\n",
    "                        achou = True\n",
    "                        manchetes[contador] = manchete\n",
    "                        lista_manchetes.append(manchete)\n",
    "                        contador += 1\n",
    "                        break\n",
    "                else:\n",
    "                    indice_letra += 1"
   ]
  },
  {
   "cell_type": "code",
   "execution_count": 7,
   "metadata": {},
   "outputs": [
    {
     "data": {
      "text/plain": [
       "289"
      ]
     },
     "execution_count": 7,
     "metadata": {},
     "output_type": "execute_result"
    }
   ],
   "source": [
    "len(lista_manchetes)"
   ]
  },
  {
   "cell_type": "code",
   "execution_count": 8,
   "metadata": {},
   "outputs": [],
   "source": [
    "for i in relevantes.index:\n",
    "    manchete_relevante = relevantes[\"Manchetes da Base de Dados\"][i]\n",
    "    lista_manchetes.append(manchete_relevante)\n",
    "    email.append(\"-1\")"
   ]
  },
  {
   "cell_type": "code",
   "execution_count": 9,
   "metadata": {},
   "outputs": [],
   "source": [
    "dicionario = {}\n",
    "    \n",
    "dicionario['Manchetes'] = lista_manchetes\n",
    "dicionario['Indice'] = email"
   ]
  },
  {
   "cell_type": "code",
   "execution_count": 10,
   "metadata": {},
   "outputs": [],
   "source": [
    "data_manchetes = pd.DataFrame(data=dicionario)"
   ]
  },
  {
   "cell_type": "code",
   "execution_count": 11,
   "metadata": {},
   "outputs": [
    {
     "data": {
      "text/html": [
       "<div>\n",
       "<style scoped>\n",
       "    .dataframe tbody tr th:only-of-type {\n",
       "        vertical-align: middle;\n",
       "    }\n",
       "\n",
       "    .dataframe tbody tr th {\n",
       "        vertical-align: top;\n",
       "    }\n",
       "\n",
       "    .dataframe thead th {\n",
       "        text-align: right;\n",
       "    }\n",
       "</style>\n",
       "<table border=\"1\" class=\"dataframe\">\n",
       "  <thead>\n",
       "    <tr style=\"text-align: right;\">\n",
       "      <th></th>\n",
       "      <th>Manchetes</th>\n",
       "      <th>Indice</th>\n",
       "    </tr>\n",
       "  </thead>\n",
       "  <tbody>\n",
       "    <tr>\n",
       "      <th>0</th>\n",
       "      <td>Bono de Anses: cómo evitar las aglomeraciones ...</td>\n",
       "      <td>2</td>\n",
       "    </tr>\n",
       "    <tr>\n",
       "      <th>1</th>\n",
       "      <td>La ampliación del bono social costará 23 millo...</td>\n",
       "      <td>2</td>\n",
       "    </tr>\n",
       "    <tr>\n",
       "      <th>2</th>\n",
       "      <td>Bono de 380 soles: beneficiarios podrán retira...</td>\n",
       "      <td>2</td>\n",
       "    </tr>\n",
       "    <tr>\n",
       "      <th>3</th>\n",
       "      <td>Está em vigor MP que permite suspensão de cont...</td>\n",
       "      <td>3</td>\n",
       "    </tr>\n",
       "    <tr>\n",
       "      <th>4</th>\n",
       "      <td>Covid-19, a força maior e seus potenciais impa...</td>\n",
       "      <td>3</td>\n",
       "    </tr>\n",
       "  </tbody>\n",
       "</table>\n",
       "</div>"
      ],
      "text/plain": [
       "                                           Manchetes Indice\n",
       "0  Bono de Anses: cómo evitar las aglomeraciones ...      2\n",
       "1  La ampliación del bono social costará 23 millo...      2\n",
       "2  Bono de 380 soles: beneficiarios podrán retira...      2\n",
       "3  Está em vigor MP que permite suspensão de cont...      3\n",
       "4  Covid-19, a força maior e seus potenciais impa...      3"
      ]
     },
     "execution_count": 11,
     "metadata": {},
     "output_type": "execute_result"
    }
   ],
   "source": [
    "data_manchetes.head()"
   ]
  },
  {
   "cell_type": "code",
   "execution_count": 12,
   "metadata": {},
   "outputs": [],
   "source": [
    "result = pd.concat([data, data_manchetes], ignore_index=True, axis=1)"
   ]
  },
  {
   "cell_type": "code",
   "execution_count": 13,
   "metadata": {},
   "outputs": [],
   "source": [
    "result.columns = ['Data','De','HTML','Resumo','Link 1','Índice']"
   ]
  },
  {
   "cell_type": "code",
   "execution_count": 14,
   "metadata": {},
   "outputs": [
    {
     "data": {
      "text/html": [
       "<div>\n",
       "<style scoped>\n",
       "    .dataframe tbody tr th:only-of-type {\n",
       "        vertical-align: middle;\n",
       "    }\n",
       "\n",
       "    .dataframe tbody tr th {\n",
       "        vertical-align: top;\n",
       "    }\n",
       "\n",
       "    .dataframe thead th {\n",
       "        text-align: right;\n",
       "    }\n",
       "</style>\n",
       "<table border=\"1\" class=\"dataframe\">\n",
       "  <thead>\n",
       "    <tr style=\"text-align: right;\">\n",
       "      <th></th>\n",
       "      <th>Data</th>\n",
       "      <th>De</th>\n",
       "      <th>HTML</th>\n",
       "      <th>Resumo</th>\n",
       "      <th>Link 1</th>\n",
       "      <th>Índice</th>\n",
       "    </tr>\n",
       "  </thead>\n",
       "  <tbody>\n",
       "    <tr>\n",
       "      <th>0</th>\n",
       "      <td>2020-04-03 23:46:37</td>\n",
       "      <td>googlealerts-noreply@google.com</td>\n",
       "      <td>&lt;html lang=\"pt-BR\"&gt; &lt;head&gt; &lt;/head&gt; &lt;body&gt; &lt;div...</td>\n",
       "      <td>Google Bonos del Impacto Social Atualização as...</td>\n",
       "      <td>Bono de Anses: cómo evitar las aglomeraciones ...</td>\n",
       "      <td>2</td>\n",
       "    </tr>\n",
       "    <tr>\n",
       "      <th>1</th>\n",
       "      <td>2020-04-04 01:10:54</td>\n",
       "      <td>googlealerts-noreply@google.com</td>\n",
       "      <td>&lt;html lang=\"pt-BR\"&gt; &lt;head&gt; &lt;/head&gt; &lt;body&gt; &lt;div...</td>\n",
       "      <td>Google contratos de impacto social Atualização...</td>\n",
       "      <td>La ampliación del bono social costará 23 millo...</td>\n",
       "      <td>2</td>\n",
       "    </tr>\n",
       "    <tr>\n",
       "      <th>2</th>\n",
       "      <td>2020-04-04 01:09:50</td>\n",
       "      <td>googlealerts-noreply@google.com</td>\n",
       "      <td>&lt;html lang=\"pt-BR\"&gt; &lt;head&gt; &lt;/head&gt; &lt;body&gt; &lt;div...</td>\n",
       "      <td>Google outcome-based contract Atualização diár...</td>\n",
       "      <td>Bono de 380 soles: beneficiarios podrán retira...</td>\n",
       "      <td>2</td>\n",
       "    </tr>\n",
       "    <tr>\n",
       "      <th>3</th>\n",
       "      <td>2020-04-04 01:16:32</td>\n",
       "      <td>googlealerts-noreply@google.com</td>\n",
       "      <td>&lt;html lang=\"pt-BR\"&gt; &lt;head&gt; &lt;/head&gt; &lt;body&gt; &lt;div...</td>\n",
       "      <td>Google development impact bond Atualização ass...</td>\n",
       "      <td>Está em vigor MP que permite suspensão de cont...</td>\n",
       "      <td>3</td>\n",
       "    </tr>\n",
       "    <tr>\n",
       "      <th>4</th>\n",
       "      <td>2020-04-04 01:18:02</td>\n",
       "      <td>googlealerts-noreply@google.com</td>\n",
       "      <td>&lt;html lang=\"pt-BR\"&gt; &lt;head&gt; &lt;/head&gt; &lt;body&gt; &lt;div...</td>\n",
       "      <td>Google outcomes-based contracts Atualização as...</td>\n",
       "      <td>Covid-19, a força maior e seus potenciais impa...</td>\n",
       "      <td>3</td>\n",
       "    </tr>\n",
       "  </tbody>\n",
       "</table>\n",
       "</div>"
      ],
      "text/plain": [
       "                 Data                               De  \\\n",
       "0 2020-04-03 23:46:37  googlealerts-noreply@google.com   \n",
       "1 2020-04-04 01:10:54  googlealerts-noreply@google.com   \n",
       "2 2020-04-04 01:09:50  googlealerts-noreply@google.com   \n",
       "3 2020-04-04 01:16:32  googlealerts-noreply@google.com   \n",
       "4 2020-04-04 01:18:02  googlealerts-noreply@google.com   \n",
       "\n",
       "                                                HTML  \\\n",
       "0  <html lang=\"pt-BR\"> <head> </head> <body> <div...   \n",
       "1  <html lang=\"pt-BR\"> <head> </head> <body> <div...   \n",
       "2  <html lang=\"pt-BR\"> <head> </head> <body> <div...   \n",
       "3  <html lang=\"pt-BR\"> <head> </head> <body> <div...   \n",
       "4  <html lang=\"pt-BR\"> <head> </head> <body> <div...   \n",
       "\n",
       "                                              Resumo  \\\n",
       "0  Google Bonos del Impacto Social Atualização as...   \n",
       "1  Google contratos de impacto social Atualização...   \n",
       "2  Google outcome-based contract Atualização diár...   \n",
       "3  Google development impact bond Atualização ass...   \n",
       "4  Google outcomes-based contracts Atualização as...   \n",
       "\n",
       "                                              Link 1 Índice  \n",
       "0  Bono de Anses: cómo evitar las aglomeraciones ...      2  \n",
       "1  La ampliación del bono social costará 23 millo...      2  \n",
       "2  Bono de 380 soles: beneficiarios podrán retira...      2  \n",
       "3  Está em vigor MP que permite suspensão de cont...      3  \n",
       "4  Covid-19, a força maior e seus potenciais impa...      3  "
      ]
     },
     "execution_count": 14,
     "metadata": {},
     "output_type": "execute_result"
    }
   ],
   "source": [
    "result.head()"
   ]
  },
  {
   "cell_type": "code",
   "execution_count": 15,
   "metadata": {},
   "outputs": [],
   "source": [
    "result[\"Relevância\"] = 0"
   ]
  },
  {
   "cell_type": "code",
   "execution_count": 16,
   "metadata": {},
   "outputs": [
    {
     "data": {
      "text/html": [
       "<div>\n",
       "<style scoped>\n",
       "    .dataframe tbody tr th:only-of-type {\n",
       "        vertical-align: middle;\n",
       "    }\n",
       "\n",
       "    .dataframe tbody tr th {\n",
       "        vertical-align: top;\n",
       "    }\n",
       "\n",
       "    .dataframe thead th {\n",
       "        text-align: right;\n",
       "    }\n",
       "</style>\n",
       "<table border=\"1\" class=\"dataframe\">\n",
       "  <thead>\n",
       "    <tr style=\"text-align: right;\">\n",
       "      <th></th>\n",
       "      <th>Data</th>\n",
       "      <th>De</th>\n",
       "      <th>HTML</th>\n",
       "      <th>Resumo</th>\n",
       "      <th>Link 1</th>\n",
       "      <th>Índice</th>\n",
       "      <th>Relevância</th>\n",
       "    </tr>\n",
       "  </thead>\n",
       "  <tbody>\n",
       "    <tr>\n",
       "      <th>0</th>\n",
       "      <td>2020-04-03 23:46:37</td>\n",
       "      <td>googlealerts-noreply@google.com</td>\n",
       "      <td>&lt;html lang=\"pt-BR\"&gt; &lt;head&gt; &lt;/head&gt; &lt;body&gt; &lt;div...</td>\n",
       "      <td>Google Bonos del Impacto Social Atualização as...</td>\n",
       "      <td>Bono de Anses: cómo evitar las aglomeraciones ...</td>\n",
       "      <td>2</td>\n",
       "      <td>0</td>\n",
       "    </tr>\n",
       "    <tr>\n",
       "      <th>1</th>\n",
       "      <td>2020-04-04 01:10:54</td>\n",
       "      <td>googlealerts-noreply@google.com</td>\n",
       "      <td>&lt;html lang=\"pt-BR\"&gt; &lt;head&gt; &lt;/head&gt; &lt;body&gt; &lt;div...</td>\n",
       "      <td>Google contratos de impacto social Atualização...</td>\n",
       "      <td>La ampliación del bono social costará 23 millo...</td>\n",
       "      <td>2</td>\n",
       "      <td>0</td>\n",
       "    </tr>\n",
       "    <tr>\n",
       "      <th>2</th>\n",
       "      <td>2020-04-04 01:09:50</td>\n",
       "      <td>googlealerts-noreply@google.com</td>\n",
       "      <td>&lt;html lang=\"pt-BR\"&gt; &lt;head&gt; &lt;/head&gt; &lt;body&gt; &lt;div...</td>\n",
       "      <td>Google outcome-based contract Atualização diár...</td>\n",
       "      <td>Bono de 380 soles: beneficiarios podrán retira...</td>\n",
       "      <td>2</td>\n",
       "      <td>0</td>\n",
       "    </tr>\n",
       "    <tr>\n",
       "      <th>3</th>\n",
       "      <td>2020-04-04 01:16:32</td>\n",
       "      <td>googlealerts-noreply@google.com</td>\n",
       "      <td>&lt;html lang=\"pt-BR\"&gt; &lt;head&gt; &lt;/head&gt; &lt;body&gt; &lt;div...</td>\n",
       "      <td>Google development impact bond Atualização ass...</td>\n",
       "      <td>Está em vigor MP que permite suspensão de cont...</td>\n",
       "      <td>3</td>\n",
       "      <td>0</td>\n",
       "    </tr>\n",
       "    <tr>\n",
       "      <th>4</th>\n",
       "      <td>2020-04-04 01:18:02</td>\n",
       "      <td>googlealerts-noreply@google.com</td>\n",
       "      <td>&lt;html lang=\"pt-BR\"&gt; &lt;head&gt; &lt;/head&gt; &lt;body&gt; &lt;div...</td>\n",
       "      <td>Google outcomes-based contracts Atualização as...</td>\n",
       "      <td>Covid-19, a força maior e seus potenciais impa...</td>\n",
       "      <td>3</td>\n",
       "      <td>0</td>\n",
       "    </tr>\n",
       "  </tbody>\n",
       "</table>\n",
       "</div>"
      ],
      "text/plain": [
       "                 Data                               De  \\\n",
       "0 2020-04-03 23:46:37  googlealerts-noreply@google.com   \n",
       "1 2020-04-04 01:10:54  googlealerts-noreply@google.com   \n",
       "2 2020-04-04 01:09:50  googlealerts-noreply@google.com   \n",
       "3 2020-04-04 01:16:32  googlealerts-noreply@google.com   \n",
       "4 2020-04-04 01:18:02  googlealerts-noreply@google.com   \n",
       "\n",
       "                                                HTML  \\\n",
       "0  <html lang=\"pt-BR\"> <head> </head> <body> <div...   \n",
       "1  <html lang=\"pt-BR\"> <head> </head> <body> <div...   \n",
       "2  <html lang=\"pt-BR\"> <head> </head> <body> <div...   \n",
       "3  <html lang=\"pt-BR\"> <head> </head> <body> <div...   \n",
       "4  <html lang=\"pt-BR\"> <head> </head> <body> <div...   \n",
       "\n",
       "                                              Resumo  \\\n",
       "0  Google Bonos del Impacto Social Atualização as...   \n",
       "1  Google contratos de impacto social Atualização...   \n",
       "2  Google outcome-based contract Atualização diár...   \n",
       "3  Google development impact bond Atualização ass...   \n",
       "4  Google outcomes-based contracts Atualização as...   \n",
       "\n",
       "                                              Link 1 Índice  Relevância  \n",
       "0  Bono de Anses: cómo evitar las aglomeraciones ...      2           0  \n",
       "1  La ampliación del bono social costará 23 millo...      2           0  \n",
       "2  Bono de 380 soles: beneficiarios podrán retira...      2           0  \n",
       "3  Está em vigor MP que permite suspensão de cont...      3           0  \n",
       "4  Covid-19, a força maior e seus potenciais impa...      3           0  "
      ]
     },
     "execution_count": 16,
     "metadata": {},
     "output_type": "execute_result"
    }
   ],
   "source": [
    "result.head()"
   ]
  },
  {
   "cell_type": "code",
   "execution_count": 17,
   "metadata": {},
   "outputs": [],
   "source": [
    "data_backup = pd.read_excel(\"data.xlsx\", sheet_name=\"backup\")"
   ]
  },
  {
   "cell_type": "code",
   "execution_count": 18,
   "metadata": {},
   "outputs": [],
   "source": [
    "lista_backup = []\n",
    "for i in data_backup.index:\n",
    "    manchete = data_backup.Manchetes[i]\n",
    "    lista_backup.append(manchete)\n",
    "    \n",
    "for i in relevantes.index:\n",
    "    manchete = relevantes[\"Manchetes da Base de Dados\"][i]\n",
    "    lista_backup.append(manchete)"
   ]
  },
  {
   "cell_type": "code",
   "execution_count": 19,
   "metadata": {},
   "outputs": [
    {
     "name": "stderr",
     "output_type": "stream",
     "text": [
      "C:\\Users\\Lais Nascimento\\anaconda3\\lib\\site-packages\\ipykernel_launcher.py:3: SettingWithCopyWarning: \n",
      "A value is trying to be set on a copy of a slice from a DataFrame\n",
      "\n",
      "See the caveats in the documentation: https://pandas.pydata.org/pandas-docs/stable/user_guide/indexing.html#returning-a-view-versus-a-copy\n",
      "  This is separate from the ipykernel package so we can avoid doing imports until\n"
     ]
    }
   ],
   "source": [
    "for i in result.index:\n",
    "    if result[\"Link 1\"][i] in lista_backup:\n",
    "        result.Relevância[i] = 1"
   ]
  },
  {
   "cell_type": "code",
   "execution_count": 20,
   "metadata": {
    "scrolled": true
   },
   "outputs": [
    {
     "data": {
      "text/plain": [
       "1    0.562284\n",
       "0    0.437716\n",
       "Name: Relevância, dtype: float64"
      ]
     },
     "execution_count": 20,
     "metadata": {},
     "output_type": "execute_result"
    }
   ],
   "source": [
    "result.Relevância.value_counts(True)"
   ]
  },
  {
   "cell_type": "code",
   "execution_count": 21,
   "metadata": {},
   "outputs": [
    {
     "data": {
      "text/html": [
       "<div>\n",
       "<style scoped>\n",
       "    .dataframe tbody tr th:only-of-type {\n",
       "        vertical-align: middle;\n",
       "    }\n",
       "\n",
       "    .dataframe tbody tr th {\n",
       "        vertical-align: top;\n",
       "    }\n",
       "\n",
       "    .dataframe thead th {\n",
       "        text-align: right;\n",
       "    }\n",
       "</style>\n",
       "<table border=\"1\" class=\"dataframe\">\n",
       "  <thead>\n",
       "    <tr style=\"text-align: right;\">\n",
       "      <th></th>\n",
       "      <th>Data</th>\n",
       "      <th>De</th>\n",
       "      <th>HTML</th>\n",
       "      <th>Resumo</th>\n",
       "      <th>Link 1</th>\n",
       "      <th>Índice</th>\n",
       "      <th>Relevância</th>\n",
       "    </tr>\n",
       "  </thead>\n",
       "  <tbody>\n",
       "    <tr>\n",
       "      <th>0</th>\n",
       "      <td>2020-04-03 23:46:37</td>\n",
       "      <td>googlealerts-noreply@google.com</td>\n",
       "      <td>&lt;html lang=\"pt-BR\"&gt; &lt;head&gt; &lt;/head&gt; &lt;body&gt; &lt;div...</td>\n",
       "      <td>Google Bonos del Impacto Social Atualização as...</td>\n",
       "      <td>Bono de Anses: cómo evitar las aglomeraciones ...</td>\n",
       "      <td>2</td>\n",
       "      <td>0</td>\n",
       "    </tr>\n",
       "    <tr>\n",
       "      <th>1</th>\n",
       "      <td>2020-04-04 01:10:54</td>\n",
       "      <td>googlealerts-noreply@google.com</td>\n",
       "      <td>&lt;html lang=\"pt-BR\"&gt; &lt;head&gt; &lt;/head&gt; &lt;body&gt; &lt;div...</td>\n",
       "      <td>Google contratos de impacto social Atualização...</td>\n",
       "      <td>La ampliación del bono social costará 23 millo...</td>\n",
       "      <td>2</td>\n",
       "      <td>0</td>\n",
       "    </tr>\n",
       "    <tr>\n",
       "      <th>2</th>\n",
       "      <td>2020-04-04 01:09:50</td>\n",
       "      <td>googlealerts-noreply@google.com</td>\n",
       "      <td>&lt;html lang=\"pt-BR\"&gt; &lt;head&gt; &lt;/head&gt; &lt;body&gt; &lt;div...</td>\n",
       "      <td>Google outcome-based contract Atualização diár...</td>\n",
       "      <td>Bono de 380 soles: beneficiarios podrán retira...</td>\n",
       "      <td>2</td>\n",
       "      <td>0</td>\n",
       "    </tr>\n",
       "    <tr>\n",
       "      <th>3</th>\n",
       "      <td>2020-04-04 01:16:32</td>\n",
       "      <td>googlealerts-noreply@google.com</td>\n",
       "      <td>&lt;html lang=\"pt-BR\"&gt; &lt;head&gt; &lt;/head&gt; &lt;body&gt; &lt;div...</td>\n",
       "      <td>Google development impact bond Atualização ass...</td>\n",
       "      <td>Está em vigor MP que permite suspensão de cont...</td>\n",
       "      <td>3</td>\n",
       "      <td>0</td>\n",
       "    </tr>\n",
       "    <tr>\n",
       "      <th>4</th>\n",
       "      <td>2020-04-04 01:18:02</td>\n",
       "      <td>googlealerts-noreply@google.com</td>\n",
       "      <td>&lt;html lang=\"pt-BR\"&gt; &lt;head&gt; &lt;/head&gt; &lt;body&gt; &lt;div...</td>\n",
       "      <td>Google outcomes-based contracts Atualização as...</td>\n",
       "      <td>Covid-19, a força maior e seus potenciais impa...</td>\n",
       "      <td>3</td>\n",
       "      <td>0</td>\n",
       "    </tr>\n",
       "  </tbody>\n",
       "</table>\n",
       "</div>"
      ],
      "text/plain": [
       "                 Data                               De  \\\n",
       "0 2020-04-03 23:46:37  googlealerts-noreply@google.com   \n",
       "1 2020-04-04 01:10:54  googlealerts-noreply@google.com   \n",
       "2 2020-04-04 01:09:50  googlealerts-noreply@google.com   \n",
       "3 2020-04-04 01:16:32  googlealerts-noreply@google.com   \n",
       "4 2020-04-04 01:18:02  googlealerts-noreply@google.com   \n",
       "\n",
       "                                                HTML  \\\n",
       "0  <html lang=\"pt-BR\"> <head> </head> <body> <div...   \n",
       "1  <html lang=\"pt-BR\"> <head> </head> <body> <div...   \n",
       "2  <html lang=\"pt-BR\"> <head> </head> <body> <div...   \n",
       "3  <html lang=\"pt-BR\"> <head> </head> <body> <div...   \n",
       "4  <html lang=\"pt-BR\"> <head> </head> <body> <div...   \n",
       "\n",
       "                                              Resumo  \\\n",
       "0  Google Bonos del Impacto Social Atualização as...   \n",
       "1  Google contratos de impacto social Atualização...   \n",
       "2  Google outcome-based contract Atualização diár...   \n",
       "3  Google development impact bond Atualização ass...   \n",
       "4  Google outcomes-based contracts Atualização as...   \n",
       "\n",
       "                                              Link 1 Índice  Relevância  \n",
       "0  Bono de Anses: cómo evitar las aglomeraciones ...      2           0  \n",
       "1  La ampliación del bono social costará 23 millo...      2           0  \n",
       "2  Bono de 380 soles: beneficiarios podrán retira...      2           0  \n",
       "3  Está em vigor MP que permite suspensão de cont...      3           0  \n",
       "4  Covid-19, a força maior e seus potenciais impa...      3           0  "
      ]
     },
     "execution_count": 21,
     "metadata": {},
     "output_type": "execute_result"
    }
   ],
   "source": [
    "result.head()"
   ]
  },
  {
   "cell_type": "code",
   "execution_count": 22,
   "metadata": {},
   "outputs": [],
   "source": [
    "# Função para a limpeza\n",
    "\n",
    "import re \n",
    "\n",
    "def cleanup(text):\n",
    "    import string\n",
    "    punctuation = '[\\/!-.:?;]' # Note que os sinais [] são delimitadores de um conjunto.\n",
    "    pattern = re.compile(punctuation)\n",
    "    text_subbed = re.sub(pattern, ' ', text)\n",
    "    return text_subbed"
   ]
  },
  {
   "cell_type": "code",
   "execution_count": 23,
   "metadata": {},
   "outputs": [],
   "source": [
    "# Paasando a função pela lista de limpeza pela lista de manchetes\n",
    "texto_limpo=[]\n",
    "for texto in result[\"Link 1\"]:\n",
    "     texto_limpo.append(cleanup(texto))"
   ]
  },
  {
   "cell_type": "code",
   "execution_count": 24,
   "metadata": {},
   "outputs": [],
   "source": [
    "# Transformando tudo para letra minuscula\n",
    "texto_min = []\n",
    "for t in texto_limpo:\n",
    "    texto_min.append(t.lower())\n"
   ]
  },
  {
   "cell_type": "markdown",
   "metadata": {},
   "source": [
    "Para o tradutor foi usado a biblioteca Googletrans\n",
    "Instalação: $ pip install googletrans\n",
    "    \n",
    "    \n",
    "fonte: https://evaldowolkers.wordpress.com/2018/12/12/traducao-de-texto-com-python-e-googletrans/"
   ]
  },
  {
   "cell_type": "code",
   "execution_count": 25,
   "metadata": {},
   "outputs": [
    {
     "ename": "JSONDecodeError",
     "evalue": "Expecting value: line 1 column 1 (char 0)",
     "output_type": "error",
     "traceback": [
      "\u001b[1;31m---------------------------------------------------------------------------\u001b[0m",
      "\u001b[1;31mJSONDecodeError\u001b[0m                           Traceback (most recent call last)",
      "\u001b[1;32m<ipython-input-25-5fc00443c5b8>\u001b[0m in \u001b[0;36m<module>\u001b[1;34m\u001b[0m\n\u001b[0;32m      7\u001b[0m \u001b[1;33m\u001b[0m\u001b[0m\n\u001b[0;32m      8\u001b[0m \u001b[1;31m# O unicode não é necessário para mostrar só o texto\u001b[0m\u001b[1;33m\u001b[0m\u001b[1;33m\u001b[0m\u001b[1;33m\u001b[0m\u001b[0m\n\u001b[1;32m----> 9\u001b[1;33m \u001b[0mprint\u001b[0m \u001b[1;33m(\u001b[0m\u001b[0mtranslator\u001b[0m\u001b[1;33m.\u001b[0m\u001b[0mtranslate\u001b[0m\u001b[1;33m(\u001b[0m\u001b[1;34m'hello'\u001b[0m\u001b[1;33m,\u001b[0m \u001b[0mdest\u001b[0m\u001b[1;33m=\u001b[0m\u001b[1;34m'pt'\u001b[0m\u001b[1;33m)\u001b[0m\u001b[1;33m.\u001b[0m\u001b[0mtext\u001b[0m\u001b[1;33m)\u001b[0m\u001b[1;33m\u001b[0m\u001b[1;33m\u001b[0m\u001b[0m\n\u001b[0m\u001b[0;32m     10\u001b[0m \u001b[1;31m# Olá\u001b[0m\u001b[1;33m\u001b[0m\u001b[1;33m\u001b[0m\u001b[1;33m\u001b[0m\u001b[0m\n",
      "\u001b[1;32m~\\anaconda3\\lib\\site-packages\\googletrans-2.3.0-py3.7.egg\\googletrans\\client.py\u001b[0m in \u001b[0;36mtranslate\u001b[1;34m(self, text, dest, src)\u001b[0m\n\u001b[0;32m    170\u001b[0m \u001b[1;33m\u001b[0m\u001b[0m\n\u001b[0;32m    171\u001b[0m         \u001b[0morigin\u001b[0m \u001b[1;33m=\u001b[0m \u001b[0mtext\u001b[0m\u001b[1;33m\u001b[0m\u001b[1;33m\u001b[0m\u001b[0m\n\u001b[1;32m--> 172\u001b[1;33m         \u001b[0mdata\u001b[0m \u001b[1;33m=\u001b[0m \u001b[0mself\u001b[0m\u001b[1;33m.\u001b[0m\u001b[0m_translate\u001b[0m\u001b[1;33m(\u001b[0m\u001b[0mtext\u001b[0m\u001b[1;33m,\u001b[0m \u001b[0mdest\u001b[0m\u001b[1;33m,\u001b[0m \u001b[0msrc\u001b[0m\u001b[1;33m)\u001b[0m\u001b[1;33m\u001b[0m\u001b[1;33m\u001b[0m\u001b[0m\n\u001b[0m\u001b[0;32m    173\u001b[0m \u001b[1;33m\u001b[0m\u001b[0m\n\u001b[0;32m    174\u001b[0m         \u001b[1;31m# this code will be updated when the format is changed.\u001b[0m\u001b[1;33m\u001b[0m\u001b[1;33m\u001b[0m\u001b[1;33m\u001b[0m\u001b[0m\n",
      "\u001b[1;32m~\\anaconda3\\lib\\site-packages\\googletrans-2.3.0-py3.7.egg\\googletrans\\client.py\u001b[0m in \u001b[0;36m_translate\u001b[1;34m(self, text, dest, src)\u001b[0m\n\u001b[0;32m     79\u001b[0m         \u001b[0mr\u001b[0m \u001b[1;33m=\u001b[0m \u001b[0mself\u001b[0m\u001b[1;33m.\u001b[0m\u001b[0msession\u001b[0m\u001b[1;33m.\u001b[0m\u001b[0mget\u001b[0m\u001b[1;33m(\u001b[0m\u001b[0murl\u001b[0m\u001b[1;33m,\u001b[0m \u001b[0mparams\u001b[0m\u001b[1;33m=\u001b[0m\u001b[0mparams\u001b[0m\u001b[1;33m)\u001b[0m\u001b[1;33m\u001b[0m\u001b[1;33m\u001b[0m\u001b[0m\n\u001b[0;32m     80\u001b[0m \u001b[1;33m\u001b[0m\u001b[0m\n\u001b[1;32m---> 81\u001b[1;33m         \u001b[0mdata\u001b[0m \u001b[1;33m=\u001b[0m \u001b[0mutils\u001b[0m\u001b[1;33m.\u001b[0m\u001b[0mformat_json\u001b[0m\u001b[1;33m(\u001b[0m\u001b[0mr\u001b[0m\u001b[1;33m.\u001b[0m\u001b[0mtext\u001b[0m\u001b[1;33m)\u001b[0m\u001b[1;33m\u001b[0m\u001b[1;33m\u001b[0m\u001b[0m\n\u001b[0m\u001b[0;32m     82\u001b[0m         \u001b[1;32mreturn\u001b[0m \u001b[0mdata\u001b[0m\u001b[1;33m\u001b[0m\u001b[1;33m\u001b[0m\u001b[0m\n\u001b[0;32m     83\u001b[0m \u001b[1;33m\u001b[0m\u001b[0m\n",
      "\u001b[1;32m~\\anaconda3\\lib\\site-packages\\googletrans-2.3.0-py3.7.egg\\googletrans\\utils.py\u001b[0m in \u001b[0;36mformat_json\u001b[1;34m(original)\u001b[0m\n\u001b[0;32m     60\u001b[0m         \u001b[0mconverted\u001b[0m \u001b[1;33m=\u001b[0m \u001b[0mjson\u001b[0m\u001b[1;33m.\u001b[0m\u001b[0mloads\u001b[0m\u001b[1;33m(\u001b[0m\u001b[0moriginal\u001b[0m\u001b[1;33m)\u001b[0m\u001b[1;33m\u001b[0m\u001b[1;33m\u001b[0m\u001b[0m\n\u001b[0;32m     61\u001b[0m     \u001b[1;32mexcept\u001b[0m \u001b[0mValueError\u001b[0m\u001b[1;33m:\u001b[0m\u001b[1;33m\u001b[0m\u001b[1;33m\u001b[0m\u001b[0m\n\u001b[1;32m---> 62\u001b[1;33m         \u001b[0mconverted\u001b[0m \u001b[1;33m=\u001b[0m \u001b[0mlegacy_format_json\u001b[0m\u001b[1;33m(\u001b[0m\u001b[0moriginal\u001b[0m\u001b[1;33m)\u001b[0m\u001b[1;33m\u001b[0m\u001b[1;33m\u001b[0m\u001b[0m\n\u001b[0m\u001b[0;32m     63\u001b[0m \u001b[1;33m\u001b[0m\u001b[0m\n\u001b[0;32m     64\u001b[0m     \u001b[1;32mreturn\u001b[0m \u001b[0mconverted\u001b[0m\u001b[1;33m\u001b[0m\u001b[1;33m\u001b[0m\u001b[0m\n",
      "\u001b[1;32m~\\anaconda3\\lib\\site-packages\\googletrans-2.3.0-py3.7.egg\\googletrans\\utils.py\u001b[0m in \u001b[0;36mlegacy_format_json\u001b[1;34m(original)\u001b[0m\n\u001b[0;32m     52\u001b[0m             \u001b[0mtext\u001b[0m \u001b[1;33m=\u001b[0m \u001b[0mtext\u001b[0m\u001b[1;33m[\u001b[0m\u001b[1;33m:\u001b[0m\u001b[0mp\u001b[0m\u001b[1;33m]\u001b[0m \u001b[1;33m+\u001b[0m \u001b[0mstates\u001b[0m\u001b[1;33m[\u001b[0m\u001b[0mj\u001b[0m\u001b[1;33m]\u001b[0m\u001b[1;33m[\u001b[0m\u001b[1;36m1\u001b[0m\u001b[1;33m]\u001b[0m \u001b[1;33m+\u001b[0m \u001b[0mtext\u001b[0m\u001b[1;33m[\u001b[0m\u001b[0mnxt\u001b[0m\u001b[1;33m:\u001b[0m\u001b[1;33m]\u001b[0m\u001b[1;33m\u001b[0m\u001b[1;33m\u001b[0m\u001b[0m\n\u001b[0;32m     53\u001b[0m \u001b[1;33m\u001b[0m\u001b[0m\n\u001b[1;32m---> 54\u001b[1;33m     \u001b[0mconverted\u001b[0m \u001b[1;33m=\u001b[0m \u001b[0mjson\u001b[0m\u001b[1;33m.\u001b[0m\u001b[0mloads\u001b[0m\u001b[1;33m(\u001b[0m\u001b[0mtext\u001b[0m\u001b[1;33m)\u001b[0m\u001b[1;33m\u001b[0m\u001b[1;33m\u001b[0m\u001b[0m\n\u001b[0m\u001b[0;32m     55\u001b[0m     \u001b[1;32mreturn\u001b[0m \u001b[0mconverted\u001b[0m\u001b[1;33m\u001b[0m\u001b[1;33m\u001b[0m\u001b[0m\n\u001b[0;32m     56\u001b[0m \u001b[1;33m\u001b[0m\u001b[0m\n",
      "\u001b[1;32m~\\anaconda3\\lib\\json\\__init__.py\u001b[0m in \u001b[0;36mloads\u001b[1;34m(s, encoding, cls, object_hook, parse_float, parse_int, parse_constant, object_pairs_hook, **kw)\u001b[0m\n\u001b[0;32m    346\u001b[0m             \u001b[0mparse_int\u001b[0m \u001b[1;32mis\u001b[0m \u001b[1;32mNone\u001b[0m \u001b[1;32mand\u001b[0m \u001b[0mparse_float\u001b[0m \u001b[1;32mis\u001b[0m \u001b[1;32mNone\u001b[0m \u001b[1;32mand\u001b[0m\u001b[1;33m\u001b[0m\u001b[1;33m\u001b[0m\u001b[0m\n\u001b[0;32m    347\u001b[0m             parse_constant is None and object_pairs_hook is None and not kw):\n\u001b[1;32m--> 348\u001b[1;33m         \u001b[1;32mreturn\u001b[0m \u001b[0m_default_decoder\u001b[0m\u001b[1;33m.\u001b[0m\u001b[0mdecode\u001b[0m\u001b[1;33m(\u001b[0m\u001b[0ms\u001b[0m\u001b[1;33m)\u001b[0m\u001b[1;33m\u001b[0m\u001b[1;33m\u001b[0m\u001b[0m\n\u001b[0m\u001b[0;32m    349\u001b[0m     \u001b[1;32mif\u001b[0m \u001b[0mcls\u001b[0m \u001b[1;32mis\u001b[0m \u001b[1;32mNone\u001b[0m\u001b[1;33m:\u001b[0m\u001b[1;33m\u001b[0m\u001b[1;33m\u001b[0m\u001b[0m\n\u001b[0;32m    350\u001b[0m         \u001b[0mcls\u001b[0m \u001b[1;33m=\u001b[0m \u001b[0mJSONDecoder\u001b[0m\u001b[1;33m\u001b[0m\u001b[1;33m\u001b[0m\u001b[0m\n",
      "\u001b[1;32m~\\anaconda3\\lib\\json\\decoder.py\u001b[0m in \u001b[0;36mdecode\u001b[1;34m(self, s, _w)\u001b[0m\n\u001b[0;32m    335\u001b[0m \u001b[1;33m\u001b[0m\u001b[0m\n\u001b[0;32m    336\u001b[0m         \"\"\"\n\u001b[1;32m--> 337\u001b[1;33m         \u001b[0mobj\u001b[0m\u001b[1;33m,\u001b[0m \u001b[0mend\u001b[0m \u001b[1;33m=\u001b[0m \u001b[0mself\u001b[0m\u001b[1;33m.\u001b[0m\u001b[0mraw_decode\u001b[0m\u001b[1;33m(\u001b[0m\u001b[0ms\u001b[0m\u001b[1;33m,\u001b[0m \u001b[0midx\u001b[0m\u001b[1;33m=\u001b[0m\u001b[0m_w\u001b[0m\u001b[1;33m(\u001b[0m\u001b[0ms\u001b[0m\u001b[1;33m,\u001b[0m \u001b[1;36m0\u001b[0m\u001b[1;33m)\u001b[0m\u001b[1;33m.\u001b[0m\u001b[0mend\u001b[0m\u001b[1;33m(\u001b[0m\u001b[1;33m)\u001b[0m\u001b[1;33m)\u001b[0m\u001b[1;33m\u001b[0m\u001b[1;33m\u001b[0m\u001b[0m\n\u001b[0m\u001b[0;32m    338\u001b[0m         \u001b[0mend\u001b[0m \u001b[1;33m=\u001b[0m \u001b[0m_w\u001b[0m\u001b[1;33m(\u001b[0m\u001b[0ms\u001b[0m\u001b[1;33m,\u001b[0m \u001b[0mend\u001b[0m\u001b[1;33m)\u001b[0m\u001b[1;33m.\u001b[0m\u001b[0mend\u001b[0m\u001b[1;33m(\u001b[0m\u001b[1;33m)\u001b[0m\u001b[1;33m\u001b[0m\u001b[1;33m\u001b[0m\u001b[0m\n\u001b[0;32m    339\u001b[0m         \u001b[1;32mif\u001b[0m \u001b[0mend\u001b[0m \u001b[1;33m!=\u001b[0m \u001b[0mlen\u001b[0m\u001b[1;33m(\u001b[0m\u001b[0ms\u001b[0m\u001b[1;33m)\u001b[0m\u001b[1;33m:\u001b[0m\u001b[1;33m\u001b[0m\u001b[1;33m\u001b[0m\u001b[0m\n",
      "\u001b[1;32m~\\anaconda3\\lib\\json\\decoder.py\u001b[0m in \u001b[0;36mraw_decode\u001b[1;34m(self, s, idx)\u001b[0m\n\u001b[0;32m    353\u001b[0m             \u001b[0mobj\u001b[0m\u001b[1;33m,\u001b[0m \u001b[0mend\u001b[0m \u001b[1;33m=\u001b[0m \u001b[0mself\u001b[0m\u001b[1;33m.\u001b[0m\u001b[0mscan_once\u001b[0m\u001b[1;33m(\u001b[0m\u001b[0ms\u001b[0m\u001b[1;33m,\u001b[0m \u001b[0midx\u001b[0m\u001b[1;33m)\u001b[0m\u001b[1;33m\u001b[0m\u001b[1;33m\u001b[0m\u001b[0m\n\u001b[0;32m    354\u001b[0m         \u001b[1;32mexcept\u001b[0m \u001b[0mStopIteration\u001b[0m \u001b[1;32mas\u001b[0m \u001b[0merr\u001b[0m\u001b[1;33m:\u001b[0m\u001b[1;33m\u001b[0m\u001b[1;33m\u001b[0m\u001b[0m\n\u001b[1;32m--> 355\u001b[1;33m             \u001b[1;32mraise\u001b[0m \u001b[0mJSONDecodeError\u001b[0m\u001b[1;33m(\u001b[0m\u001b[1;34m\"Expecting value\"\u001b[0m\u001b[1;33m,\u001b[0m \u001b[0ms\u001b[0m\u001b[1;33m,\u001b[0m \u001b[0merr\u001b[0m\u001b[1;33m.\u001b[0m\u001b[0mvalue\u001b[0m\u001b[1;33m)\u001b[0m \u001b[1;32mfrom\u001b[0m \u001b[1;32mNone\u001b[0m\u001b[1;33m\u001b[0m\u001b[1;33m\u001b[0m\u001b[0m\n\u001b[0m\u001b[0;32m    356\u001b[0m         \u001b[1;32mreturn\u001b[0m \u001b[0mobj\u001b[0m\u001b[1;33m,\u001b[0m \u001b[0mend\u001b[0m\u001b[1;33m\u001b[0m\u001b[1;33m\u001b[0m\u001b[0m\n",
      "\u001b[1;31mJSONDecodeError\u001b[0m: Expecting value: line 1 column 1 (char 0)"
     ]
    }
   ],
   "source": [
    "# Testando\n",
    "from googletrans import Translator\n",
    "translator = Translator()\n",
    "\n",
    "print (translator.translate('oi').text)"
   ]
  },
  {
   "cell_type": "code",
   "execution_count": null,
   "metadata": {},
   "outputs": [],
   "source": [
    "#texto_ingles = []\n",
    "#for textos in texto_min:\n",
    " #   textos_str = str(textos)\n",
    "  #  translator.translate(textos_str)\n",
    "\n",
    " "
   ]
  },
  {
   "cell_type": "code",
   "execution_count": 26,
   "metadata": {},
   "outputs": [],
   "source": []
  },
  {
   "cell_type": "code",
   "execution_count": null,
   "metadata": {},
   "outputs": [],
   "source": []
  },
  {
   "cell_type": "code",
   "execution_count": null,
   "metadata": {},
   "outputs": [],
   "source": []
  },
  {
   "cell_type": "code",
   "execution_count": null,
   "metadata": {},
   "outputs": [],
   "source": []
  }
 ],
 "metadata": {
  "kernelspec": {
   "display_name": "Python 3",
   "language": "python",
   "name": "python3"
  },
  "language_info": {
   "codemirror_mode": {
    "name": "ipython",
    "version": 3
   },
   "file_extension": ".py",
   "mimetype": "text/x-python",
   "name": "python",
   "nbconvert_exporter": "python",
   "pygments_lexer": "ipython3",
   "version": "3.7.6"
  }
 },
 "nbformat": 4,
 "nbformat_minor": 2
}
