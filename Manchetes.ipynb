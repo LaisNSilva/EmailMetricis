{
 "cells": [
  {
   "cell_type": "markdown",
   "metadata": {},
   "source": [
    "# Criando coluna de manchetes\n"
   ]
  },
  {
   "cell_type": "markdown",
   "metadata": {},
   "source": [
    "Nesse arquivo ficará o código que pega as manchetes presentes nos e-mails e as coloca em um nova coluna\n"
   ]
  },
  {
   "cell_type": "code",
   "execution_count": null,
   "metadata": {},
   "outputs": [],
   "source": [
    "import pandas as pd\n",
    "import numpy as np\n",
    "import re\n",
    "from IPython.display import display\n",
    "pd.options.display.max_rows = 13"
   ]
  },
  {
   "cell_type": "code",
   "execution_count": null,
   "metadata": {},
   "outputs": [],
   "source": [
    "#Leitura dos arquivos em Excel\n",
    "dados= pd.read_excel('dados.xlsx')"
   ]
  },
  {
   "cell_type": "code",
   "execution_count": null,
   "metadata": {},
   "outputs": [],
   "source": [
    "# Pegando a coluna de html\n",
    "html=dados['HTML']"
   ]
  },
  {
   "cell_type": "code",
   "execution_count": null,
   "metadata": {},
   "outputs": [],
   "source": [
    "# achando \"message\": \"\n",
    "#lista com manchetes\n",
    "message=[]\n",
    "#lista com indices pra colocalizar em qual email na panilha essa manchete está\n",
    "indice=[]\n",
    "i=1\n",
    "for linha in html:\n",
    "    for palavra in linha:\n",
    "        if palavra == \"message\":\n",
    "            while palavra != '\"' \n",
    "    indice.append(i)\n",
    "    i+=1\n",
    "            \n",
    "# Colocar as palavras dentro da lista\n",
    "    "
   ]
  },
  {
   "cell_type": "code",
   "execution_count": null,
   "metadata": {},
   "outputs": [],
   "source": [
    "dicionario = {}\n",
    "\n",
    "\n",
    "    \n",
    "dicionario['Manchetes'] = message\n",
    "dicionario['Indice'] = indice"
   ]
  },
  {
   "cell_type": "code",
   "execution_count": null,
   "metadata": {},
   "outputs": [],
   "source": [
    "manchetes = pd.DataFrame(data=dicionario)"
   ]
  },
  {
   "cell_type": "code",
   "execution_count": null,
   "metadata": {},
   "outputs": [],
   "source": []
  }
 ],
 "metadata": {
  "kernelspec": {
   "display_name": "Python 3",
   "language": "python",
   "name": "python3"
  },
  "language_info": {
   "codemirror_mode": {
    "name": "ipython",
    "version": 3
   },
   "file_extension": ".py",
   "mimetype": "text/x-python",
   "name": "python",
   "nbconvert_exporter": "python",
   "pygments_lexer": "ipython3",
   "version": "3.7.6"
  }
 },
 "nbformat": 4,
 "nbformat_minor": 4
}
